{
  "nbformat": 4,
  "nbformat_minor": 0,
  "metadata": {
    "colab": {
      "name": "MeatCutLogisticDSTClassification.ipynb",
      "provenance": [],
      "collapsed_sections": []
    },
    "kernelspec": {
      "name": "python3",
      "display_name": "Python 3"
    }
  },
  "cells": [
    {
      "cell_type": "code",
      "metadata": {
        "id": "u15XlGC6RDPH",
        "colab": {
          "base_uri": "https://localhost:8080/"
        },
        "outputId": "f39843aa-5910-4c31-86da-11896d9b000d"
      },
      "source": [
        "from google.colab import drive\n",
        "drive.mount('/content/drive')"
      ],
      "execution_count": null,
      "outputs": [
        {
          "output_type": "stream",
          "text": [
            "Mounted at /content/drive\n"
          ],
          "name": "stdout"
        }
      ]
    },
    {
      "cell_type": "code",
      "metadata": {
        "id": "nvWA7KSRRNBt",
        "colab": {
          "base_uri": "https://localhost:8080/",
          "height": 17
        },
        "outputId": "4bd70e53-e837-4768-a3f7-ebc0ff54326a"
      },
      "source": [
        "import numpy as np\n",
        "import pandas as pd\n",
        "import matplotlib.pyplot as plt\n",
        "%matplotlib inline\n",
        "import plotly.offline as py\n",
        "py.init_notebook_mode(connected=True)\n",
        "import plotly.graph_objs as go\n",
        "#import studio.plotly as py\n",
        "import plotly.tools as tls\n",
        "\n",
        "import seaborn as sns\n",
        "import time\n",
        "import warnings\n",
        "warnings.filterwarnings('ignore')\n",
        "#print(sns.axes_style)"
      ],
      "execution_count": null,
      "outputs": [
        {
          "output_type": "display_data",
          "data": {
            "text/html": [
              "        <script type=\"text/javascript\">\n",
              "        window.PlotlyConfig = {MathJaxConfig: 'local'};\n",
              "        if (window.MathJax) {MathJax.Hub.Config({SVG: {font: \"STIX-Web\"}});}\n",
              "        if (typeof require !== 'undefined') {\n",
              "        require.undef(\"plotly\");\n",
              "        requirejs.config({\n",
              "            paths: {\n",
              "                'plotly': ['https://cdn.plot.ly/plotly-latest.min']\n",
              "            }\n",
              "        });\n",
              "        require(['plotly'], function(Plotly) {\n",
              "            window._Plotly = Plotly;\n",
              "        });\n",
              "        }\n",
              "        </script>\n",
              "        "
            ]
          },
          "metadata": {
            "tags": []
          }
        }
      ]
    },
    {
      "cell_type": "code",
      "metadata": {
        "id": "sBq8fhOMRM-V",
        "colab": {
          "base_uri": "https://localhost:8080/",
          "height": 231
        },
        "outputId": "e13105ef-95bf-4a8c-c758-95b9fcf77961"
      },
      "source": [
        "#df = pd.read_csv(\"/content/drive/My Drive/Practicum: Identifying meat cut using Ensemble techniques/Dataset.csv\")\n",
        "df = pd.read_csv('/content/drive/My Drive/Practicum: Identifying meat cut using Ensemble techniques/F_names.csv')\n",
        "#df[['0', '1', '2']] = df[['0', '1', '2']].astype('float64')\n",
        "df.head()"
      ],
      "execution_count": null,
      "outputs": [
        {
          "output_type": "execute_result",
          "data": {
            "text/html": [
              "<div>\n",
              "<style scoped>\n",
              "    .dataframe tbody tr th:only-of-type {\n",
              "        vertical-align: middle;\n",
              "    }\n",
              "\n",
              "    .dataframe tbody tr th {\n",
              "        vertical-align: top;\n",
              "    }\n",
              "\n",
              "    .dataframe thead th {\n",
              "        text-align: right;\n",
              "    }\n",
              "</style>\n",
              "<table border=\"1\" class=\"dataframe\">\n",
              "  <thead>\n",
              "    <tr style=\"text-align: right;\">\n",
              "      <th></th>\n",
              "      <th>Unnamed: 0</th>\n",
              "      <th>FileName</th>\n",
              "      <th>ProductID</th>\n",
              "      <th>density</th>\n",
              "      <th>xmax</th>\n",
              "      <th>xmin</th>\n",
              "      <th>ymax</th>\n",
              "      <th>ymin</th>\n",
              "      <th>xmaxY</th>\n",
              "      <th>xminY</th>\n",
              "      <th>ymaxX</th>\n",
              "      <th>yminX</th>\n",
              "      <th>outFile</th>\n",
              "      <th>Weight</th>\n",
              "    </tr>\n",
              "  </thead>\n",
              "  <tbody>\n",
              "    <tr>\n",
              "      <th>0</th>\n",
              "      <td>0</td>\n",
              "      <td>1500276892.jpg</td>\n",
              "      <td>20001</td>\n",
              "      <td>32196712</td>\n",
              "      <td>489</td>\n",
              "      <td>76</td>\n",
              "      <td>513</td>\n",
              "      <td>57</td>\n",
              "      <td>306</td>\n",
              "      <td>298</td>\n",
              "      <td>346</td>\n",
              "      <td>283</td>\n",
              "      <td>1500276892.jpg</td>\n",
              "      <td>5.94</td>\n",
              "    </tr>\n",
              "    <tr>\n",
              "      <th>1</th>\n",
              "      <td>1</td>\n",
              "      <td>1500277002.jpg</td>\n",
              "      <td>20001</td>\n",
              "      <td>38163151</td>\n",
              "      <td>561</td>\n",
              "      <td>67</td>\n",
              "      <td>590</td>\n",
              "      <td>117</td>\n",
              "      <td>396</td>\n",
              "      <td>280</td>\n",
              "      <td>296</td>\n",
              "      <td>241</td>\n",
              "      <td>1500277002.jpg</td>\n",
              "      <td>6.20</td>\n",
              "    </tr>\n",
              "    <tr>\n",
              "      <th>2</th>\n",
              "      <td>2</td>\n",
              "      <td>1500277036.jpg</td>\n",
              "      <td>20001</td>\n",
              "      <td>35409978</td>\n",
              "      <td>483</td>\n",
              "      <td>26</td>\n",
              "      <td>445</td>\n",
              "      <td>23</td>\n",
              "      <td>285</td>\n",
              "      <td>267</td>\n",
              "      <td>196</td>\n",
              "      <td>224</td>\n",
              "      <td>1500277036.jpg</td>\n",
              "      <td>6.04</td>\n",
              "    </tr>\n",
              "    <tr>\n",
              "      <th>3</th>\n",
              "      <td>3</td>\n",
              "      <td>1500277171.jpg</td>\n",
              "      <td>20001</td>\n",
              "      <td>35608799</td>\n",
              "      <td>524</td>\n",
              "      <td>54</td>\n",
              "      <td>498</td>\n",
              "      <td>81</td>\n",
              "      <td>321</td>\n",
              "      <td>217</td>\n",
              "      <td>331</td>\n",
              "      <td>326</td>\n",
              "      <td>1500277171.jpg</td>\n",
              "      <td>6.48</td>\n",
              "    </tr>\n",
              "    <tr>\n",
              "      <th>4</th>\n",
              "      <td>4</td>\n",
              "      <td>1500277182.jpg</td>\n",
              "      <td>20001</td>\n",
              "      <td>38085989</td>\n",
              "      <td>538</td>\n",
              "      <td>78</td>\n",
              "      <td>530</td>\n",
              "      <td>101</td>\n",
              "      <td>267</td>\n",
              "      <td>330</td>\n",
              "      <td>264</td>\n",
              "      <td>384</td>\n",
              "      <td>1500277182.jpg</td>\n",
              "      <td>6.34</td>\n",
              "    </tr>\n",
              "  </tbody>\n",
              "</table>\n",
              "</div>"
            ],
            "text/plain": [
              "   Unnamed: 0        FileName  ProductID  ...  yminX         outFile  Weight\n",
              "0           0  1500276892.jpg      20001  ...    283  1500276892.jpg    5.94\n",
              "1           1  1500277002.jpg      20001  ...    241  1500277002.jpg    6.20\n",
              "2           2  1500277036.jpg      20001  ...    224  1500277036.jpg    6.04\n",
              "3           3  1500277171.jpg      20001  ...    326  1500277171.jpg    6.48\n",
              "4           4  1500277182.jpg      20001  ...    384  1500277182.jpg    6.34\n",
              "\n",
              "[5 rows x 14 columns]"
            ]
          },
          "metadata": {
            "tags": []
          },
          "execution_count": 3
        }
      ]
    },
    {
      "cell_type": "code",
      "metadata": {
        "colab": {
          "base_uri": "https://localhost:8080/"
        },
        "id": "I7X1PVhguLd8",
        "outputId": "9f668b22-1b03-4115-d130-e02cf979d2c6"
      },
      "source": [
        "df.count()"
      ],
      "execution_count": null,
      "outputs": [
        {
          "output_type": "execute_result",
          "data": {
            "text/plain": [
              "Unnamed: 0    8292\n",
              "FileName      8292\n",
              "ProductID     8292\n",
              "density       8292\n",
              "xmax          8292\n",
              "xmin          8292\n",
              "ymax          8292\n",
              "ymin          8292\n",
              "xmaxY         8292\n",
              "xminY         8292\n",
              "ymaxX         8292\n",
              "yminX         8292\n",
              "outFile       8292\n",
              "Weight        8068\n",
              "dtype: int64"
            ]
          },
          "metadata": {
            "tags": []
          },
          "execution_count": 4
        }
      ]
    },
    {
      "cell_type": "code",
      "metadata": {
        "id": "j776RIDpJ9-k"
      },
      "source": [
        "df.dropna(subset = [\"Weight\"], inplace=True)"
      ],
      "execution_count": null,
      "outputs": []
    },
    {
      "cell_type": "code",
      "metadata": {
        "colab": {
          "base_uri": "https://localhost:8080/"
        },
        "id": "gbHhXU80KFtz",
        "outputId": "1459cbe7-0c54-48b5-8108-1d853b7f8ab9"
      },
      "source": [
        "df.count()"
      ],
      "execution_count": null,
      "outputs": [
        {
          "output_type": "execute_result",
          "data": {
            "text/plain": [
              "Unnamed: 0    8068\n",
              "FileName      8068\n",
              "ProductID     8068\n",
              "density       8068\n",
              "xmax          8068\n",
              "xmin          8068\n",
              "ymax          8068\n",
              "ymin          8068\n",
              "xmaxY         8068\n",
              "xminY         8068\n",
              "ymaxX         8068\n",
              "yminX         8068\n",
              "outFile       8068\n",
              "Weight        8068\n",
              "dtype: int64"
            ]
          },
          "metadata": {
            "tags": []
          },
          "execution_count": 6
        }
      ]
    },
    {
      "cell_type": "code",
      "metadata": {
        "id": "lXLXJHAERM19"
      },
      "source": [
        "features = df[[\"Weight\",\"xmax\",\"xmin\",\"ymax\",\"ymin\",\"xmaxY\",\"xminY\",\"ymaxX\",\"yminX\"]]\n",
        "#features = features.to_numpy() # converts feature set to numpy array\n",
        "#target = df[['ProductID']] # converts target column to numpy array\n",
        "#features.shape, len(target)"
      ],
      "execution_count": null,
      "outputs": []
    },
    {
      "cell_type": "code",
      "metadata": {
        "id": "sfU5Q-M9ZCDz",
        "colab": {
          "base_uri": "https://localhost:8080/",
          "height": 223
        },
        "outputId": "0876616b-e9ec-455f-b07d-b9044c899640"
      },
      "source": [
        "corr =features.corr()\n",
        "corr.style.background_gradient(cmap='coolwarm')"
      ],
      "execution_count": null,
      "outputs": [
        {
          "output_type": "execute_result",
          "data": {
            "text/html": [
              "<style  type=\"text/css\" >\n",
              "#T_f009d6be_4462_11eb_b383_0242ac1c0002row0_col0,#T_f009d6be_4462_11eb_b383_0242ac1c0002row1_col1,#T_f009d6be_4462_11eb_b383_0242ac1c0002row2_col2,#T_f009d6be_4462_11eb_b383_0242ac1c0002row3_col3,#T_f009d6be_4462_11eb_b383_0242ac1c0002row4_col4,#T_f009d6be_4462_11eb_b383_0242ac1c0002row5_col5,#T_f009d6be_4462_11eb_b383_0242ac1c0002row6_col6,#T_f009d6be_4462_11eb_b383_0242ac1c0002row7_col7,#T_f009d6be_4462_11eb_b383_0242ac1c0002row8_col8{\n",
              "            background-color:  #b40426;\n",
              "            color:  #f1f1f1;\n",
              "        }#T_f009d6be_4462_11eb_b383_0242ac1c0002row0_col1{\n",
              "            background-color:  #d8dce2;\n",
              "            color:  #000000;\n",
              "        }#T_f009d6be_4462_11eb_b383_0242ac1c0002row0_col2,#T_f009d6be_4462_11eb_b383_0242ac1c0002row0_col4,#T_f009d6be_4462_11eb_b383_0242ac1c0002row2_col1,#T_f009d6be_4462_11eb_b383_0242ac1c0002row4_col0,#T_f009d6be_4462_11eb_b383_0242ac1c0002row4_col3,#T_f009d6be_4462_11eb_b383_0242ac1c0002row6_col5,#T_f009d6be_4462_11eb_b383_0242ac1c0002row6_col7,#T_f009d6be_4462_11eb_b383_0242ac1c0002row7_col6,#T_f009d6be_4462_11eb_b383_0242ac1c0002row7_col8{\n",
              "            background-color:  #3b4cc0;\n",
              "            color:  #f1f1f1;\n",
              "        }#T_f009d6be_4462_11eb_b383_0242ac1c0002row0_col3{\n",
              "            background-color:  #f7a889;\n",
              "            color:  #000000;\n",
              "        }#T_f009d6be_4462_11eb_b383_0242ac1c0002row0_col5,#T_f009d6be_4462_11eb_b383_0242ac1c0002row4_col1{\n",
              "            background-color:  #c3d5f4;\n",
              "            color:  #000000;\n",
              "        }#T_f009d6be_4462_11eb_b383_0242ac1c0002row0_col6{\n",
              "            background-color:  #d2dbe8;\n",
              "            color:  #000000;\n",
              "        }#T_f009d6be_4462_11eb_b383_0242ac1c0002row0_col7,#T_f009d6be_4462_11eb_b383_0242ac1c0002row2_col4,#T_f009d6be_4462_11eb_b383_0242ac1c0002row8_col4{\n",
              "            background-color:  #a9c6fd;\n",
              "            color:  #000000;\n",
              "        }#T_f009d6be_4462_11eb_b383_0242ac1c0002row0_col8{\n",
              "            background-color:  #779af7;\n",
              "            color:  #000000;\n",
              "        }#T_f009d6be_4462_11eb_b383_0242ac1c0002row1_col0{\n",
              "            background-color:  #f5c2aa;\n",
              "            color:  #000000;\n",
              "        }#T_f009d6be_4462_11eb_b383_0242ac1c0002row1_col2,#T_f009d6be_4462_11eb_b383_0242ac1c0002row6_col4{\n",
              "            background-color:  #82a6fb;\n",
              "            color:  #000000;\n",
              "        }#T_f009d6be_4462_11eb_b383_0242ac1c0002row1_col3{\n",
              "            background-color:  #e2dad5;\n",
              "            color:  #000000;\n",
              "        }#T_f009d6be_4462_11eb_b383_0242ac1c0002row1_col4{\n",
              "            background-color:  #efcfbf;\n",
              "            color:  #000000;\n",
              "        }#T_f009d6be_4462_11eb_b383_0242ac1c0002row1_col5{\n",
              "            background-color:  #cdd9ec;\n",
              "            color:  #000000;\n",
              "        }#T_f009d6be_4462_11eb_b383_0242ac1c0002row1_col6{\n",
              "            background-color:  #bed2f6;\n",
              "            color:  #000000;\n",
              "        }#T_f009d6be_4462_11eb_b383_0242ac1c0002row1_col7,#T_f009d6be_4462_11eb_b383_0242ac1c0002row3_col5{\n",
              "            background-color:  #edd1c2;\n",
              "            color:  #000000;\n",
              "        }#T_f009d6be_4462_11eb_b383_0242ac1c0002row1_col8,#T_f009d6be_4462_11eb_b383_0242ac1c0002row5_col1{\n",
              "            background-color:  #b2ccfb;\n",
              "            color:  #000000;\n",
              "        }#T_f009d6be_4462_11eb_b383_0242ac1c0002row2_col0,#T_f009d6be_4462_11eb_b383_0242ac1c0002row7_col3,#T_f009d6be_4462_11eb_b383_0242ac1c0002row8_col2{\n",
              "            background-color:  #5572df;\n",
              "            color:  #000000;\n",
              "        }#T_f009d6be_4462_11eb_b383_0242ac1c0002row2_col3{\n",
              "            background-color:  #5a78e4;\n",
              "            color:  #000000;\n",
              "        }#T_f009d6be_4462_11eb_b383_0242ac1c0002row2_col5{\n",
              "            background-color:  #7a9df8;\n",
              "            color:  #000000;\n",
              "        }#T_f009d6be_4462_11eb_b383_0242ac1c0002row2_col6{\n",
              "            background-color:  #6c8ff1;\n",
              "            color:  #000000;\n",
              "        }#T_f009d6be_4462_11eb_b383_0242ac1c0002row2_col7,#T_f009d6be_4462_11eb_b383_0242ac1c0002row4_col2{\n",
              "            background-color:  #92b4fe;\n",
              "            color:  #000000;\n",
              "        }#T_f009d6be_4462_11eb_b383_0242ac1c0002row2_col8,#T_f009d6be_4462_11eb_b383_0242ac1c0002row8_col5{\n",
              "            background-color:  #3f53c6;\n",
              "            color:  #f1f1f1;\n",
              "        }#T_f009d6be_4462_11eb_b383_0242ac1c0002row3_col0{\n",
              "            background-color:  #ed8366;\n",
              "            color:  #000000;\n",
              "        }#T_f009d6be_4462_11eb_b383_0242ac1c0002row3_col1{\n",
              "            background-color:  #e6d7cf;\n",
              "            color:  #000000;\n",
              "        }#T_f009d6be_4462_11eb_b383_0242ac1c0002row3_col2{\n",
              "            background-color:  #a7c5fe;\n",
              "            color:  #000000;\n",
              "        }#T_f009d6be_4462_11eb_b383_0242ac1c0002row3_col4,#T_f009d6be_4462_11eb_b383_0242ac1c0002row8_col0{\n",
              "            background-color:  #a3c2fe;\n",
              "            color:  #000000;\n",
              "        }#T_f009d6be_4462_11eb_b383_0242ac1c0002row3_col6{\n",
              "            background-color:  #f4c6af;\n",
              "            color:  #000000;\n",
              "        }#T_f009d6be_4462_11eb_b383_0242ac1c0002row3_col7{\n",
              "            background-color:  #bcd2f7;\n",
              "            color:  #000000;\n",
              "        }#T_f009d6be_4462_11eb_b383_0242ac1c0002row3_col8{\n",
              "            background-color:  #93b5fe;\n",
              "            color:  #000000;\n",
              "        }#T_f009d6be_4462_11eb_b383_0242ac1c0002row4_col5,#T_f009d6be_4462_11eb_b383_0242ac1c0002row6_col8{\n",
              "            background-color:  #7396f5;\n",
              "            color:  #000000;\n",
              "        }#T_f009d6be_4462_11eb_b383_0242ac1c0002row4_col6,#T_f009d6be_4462_11eb_b383_0242ac1c0002row8_col1{\n",
              "            background-color:  #88abfd;\n",
              "            color:  #000000;\n",
              "        }#T_f009d6be_4462_11eb_b383_0242ac1c0002row4_col7,#T_f009d6be_4462_11eb_b383_0242ac1c0002row5_col4{\n",
              "            background-color:  #a6c4fe;\n",
              "            color:  #000000;\n",
              "        }#T_f009d6be_4462_11eb_b383_0242ac1c0002row4_col8{\n",
              "            background-color:  #7ea1fa;\n",
              "            color:  #000000;\n",
              "        }#T_f009d6be_4462_11eb_b383_0242ac1c0002row5_col0{\n",
              "            background-color:  #dfdbd9;\n",
              "            color:  #000000;\n",
              "        }#T_f009d6be_4462_11eb_b383_0242ac1c0002row5_col2{\n",
              "            background-color:  #96b7ff;\n",
              "            color:  #000000;\n",
              "        }#T_f009d6be_4462_11eb_b383_0242ac1c0002row5_col3{\n",
              "            background-color:  #d9dce1;\n",
              "            color:  #000000;\n",
              "        }#T_f009d6be_4462_11eb_b383_0242ac1c0002row5_col6{\n",
              "            background-color:  #799cf8;\n",
              "            color:  #000000;\n",
              "        }#T_f009d6be_4462_11eb_b383_0242ac1c0002row5_col7{\n",
              "            background-color:  #e0dbd8;\n",
              "            color:  #000000;\n",
              "        }#T_f009d6be_4462_11eb_b383_0242ac1c0002row5_col8{\n",
              "            background-color:  #465ecf;\n",
              "            color:  #f1f1f1;\n",
              "        }#T_f009d6be_4462_11eb_b383_0242ac1c0002row6_col0{\n",
              "            background-color:  #cedaeb;\n",
              "            color:  #000000;\n",
              "        }#T_f009d6be_4462_11eb_b383_0242ac1c0002row6_col1{\n",
              "            background-color:  #6282ea;\n",
              "            color:  #000000;\n",
              "        }#T_f009d6be_4462_11eb_b383_0242ac1c0002row6_col2{\n",
              "            background-color:  #4c66d6;\n",
              "            color:  #000000;\n",
              "        }#T_f009d6be_4462_11eb_b383_0242ac1c0002row6_col3{\n",
              "            background-color:  #cad8ef;\n",
              "            color:  #000000;\n",
              "        }#T_f009d6be_4462_11eb_b383_0242ac1c0002row7_col0,#T_f009d6be_4462_11eb_b383_0242ac1c0002row8_col6{\n",
              "            background-color:  #a5c3fe;\n",
              "            color:  #000000;\n",
              "        }#T_f009d6be_4462_11eb_b383_0242ac1c0002row7_col1{\n",
              "            background-color:  #bad0f8;\n",
              "            color:  #000000;\n",
              "        }#T_f009d6be_4462_11eb_b383_0242ac1c0002row7_col2,#T_f009d6be_4462_11eb_b383_0242ac1c0002row8_col7{\n",
              "            background-color:  #7295f4;\n",
              "            color:  #000000;\n",
              "        }#T_f009d6be_4462_11eb_b383_0242ac1c0002row7_col4{\n",
              "            background-color:  #a1c0ff;\n",
              "            color:  #000000;\n",
              "        }#T_f009d6be_4462_11eb_b383_0242ac1c0002row7_col5{\n",
              "            background-color:  #bfd3f6;\n",
              "            color:  #000000;\n",
              "        }#T_f009d6be_4462_11eb_b383_0242ac1c0002row8_col3{\n",
              "            background-color:  #5875e1;\n",
              "            color:  #000000;\n",
              "        }</style><table id=\"T_f009d6be_4462_11eb_b383_0242ac1c0002\" ><thead>    <tr>        <th class=\"blank level0\" ></th>        <th class=\"col_heading level0 col0\" >Weight</th>        <th class=\"col_heading level0 col1\" >xmax</th>        <th class=\"col_heading level0 col2\" >xmin</th>        <th class=\"col_heading level0 col3\" >ymax</th>        <th class=\"col_heading level0 col4\" >ymin</th>        <th class=\"col_heading level0 col5\" >xmaxY</th>        <th class=\"col_heading level0 col6\" >xminY</th>        <th class=\"col_heading level0 col7\" >ymaxX</th>        <th class=\"col_heading level0 col8\" >yminX</th>    </tr></thead><tbody>\n",
              "                <tr>\n",
              "                        <th id=\"T_f009d6be_4462_11eb_b383_0242ac1c0002level0_row0\" class=\"row_heading level0 row0\" >Weight</th>\n",
              "                        <td id=\"T_f009d6be_4462_11eb_b383_0242ac1c0002row0_col0\" class=\"data row0 col0\" >1.000000</td>\n",
              "                        <td id=\"T_f009d6be_4462_11eb_b383_0242ac1c0002row0_col1\" class=\"data row0 col1\" >0.666895</td>\n",
              "                        <td id=\"T_f009d6be_4462_11eb_b383_0242ac1c0002row0_col2\" class=\"data row0 col2\" >0.176183</td>\n",
              "                        <td id=\"T_f009d6be_4462_11eb_b383_0242ac1c0002row0_col3\" class=\"data row0 col3\" >0.821320</td>\n",
              "                        <td id=\"T_f009d6be_4462_11eb_b383_0242ac1c0002row0_col4\" class=\"data row0 col4\" >0.094880</td>\n",
              "                        <td id=\"T_f009d6be_4462_11eb_b383_0242ac1c0002row0_col5\" class=\"data row0 col5\" >0.557385</td>\n",
              "                        <td id=\"T_f009d6be_4462_11eb_b383_0242ac1c0002row0_col6\" class=\"data row0 col6\" >0.500111</td>\n",
              "                        <td id=\"T_f009d6be_4462_11eb_b383_0242ac1c0002row0_col7\" class=\"data row0 col7\" >0.382171</td>\n",
              "                        <td id=\"T_f009d6be_4462_11eb_b383_0242ac1c0002row0_col8\" class=\"data row0 col8\" >0.379713</td>\n",
              "            </tr>\n",
              "            <tr>\n",
              "                        <th id=\"T_f009d6be_4462_11eb_b383_0242ac1c0002level0_row1\" class=\"row_heading level0 row1\" >xmax</th>\n",
              "                        <td id=\"T_f009d6be_4462_11eb_b383_0242ac1c0002row1_col0\" class=\"data row1 col0\" >0.666895</td>\n",
              "                        <td id=\"T_f009d6be_4462_11eb_b383_0242ac1c0002row1_col1\" class=\"data row1 col1\" >1.000000</td>\n",
              "                        <td id=\"T_f009d6be_4462_11eb_b383_0242ac1c0002row1_col2\" class=\"data row1 col2\" >0.358043</td>\n",
              "                        <td id=\"T_f009d6be_4462_11eb_b383_0242ac1c0002row1_col3\" class=\"data row1 col3\" >0.702685</td>\n",
              "                        <td id=\"T_f009d6be_4462_11eb_b383_0242ac1c0002row1_col4\" class=\"data row1 col4\" >0.621077</td>\n",
              "                        <td id=\"T_f009d6be_4462_11eb_b383_0242ac1c0002row1_col5\" class=\"data row1 col5\" >0.586362</td>\n",
              "                        <td id=\"T_f009d6be_4462_11eb_b383_0242ac1c0002row1_col6\" class=\"data row1 col6\" >0.438811</td>\n",
              "                        <td id=\"T_f009d6be_4462_11eb_b383_0242ac1c0002row1_col7\" class=\"data row1 col7\" >0.603471</td>\n",
              "                        <td id=\"T_f009d6be_4462_11eb_b383_0242ac1c0002row1_col8\" class=\"data row1 col8\" >0.509410</td>\n",
              "            </tr>\n",
              "            <tr>\n",
              "                        <th id=\"T_f009d6be_4462_11eb_b383_0242ac1c0002level0_row2\" class=\"row_heading level0 row2\" >xmin</th>\n",
              "                        <td id=\"T_f009d6be_4462_11eb_b383_0242ac1c0002row2_col0\" class=\"data row2 col0\" >0.176183</td>\n",
              "                        <td id=\"T_f009d6be_4462_11eb_b383_0242ac1c0002row2_col1\" class=\"data row2 col1\" >0.358043</td>\n",
              "                        <td id=\"T_f009d6be_4462_11eb_b383_0242ac1c0002row2_col2\" class=\"data row2 col2\" >1.000000</td>\n",
              "                        <td id=\"T_f009d6be_4462_11eb_b383_0242ac1c0002row2_col3\" class=\"data row2 col3\" >0.444408</td>\n",
              "                        <td id=\"T_f009d6be_4462_11eb_b383_0242ac1c0002row2_col4\" class=\"data row2 col4\" >0.394738</td>\n",
              "                        <td id=\"T_f009d6be_4462_11eb_b383_0242ac1c0002row2_col5\" class=\"data row2 col5\" >0.402025</td>\n",
              "                        <td id=\"T_f009d6be_4462_11eb_b383_0242ac1c0002row2_col6\" class=\"data row2 col6\" >0.224742</td>\n",
              "                        <td id=\"T_f009d6be_4462_11eb_b383_0242ac1c0002row2_col7\" class=\"data row2 col7\" >0.319310</td>\n",
              "                        <td id=\"T_f009d6be_4462_11eb_b383_0242ac1c0002row2_col8\" class=\"data row2 col8\" >0.249911</td>\n",
              "            </tr>\n",
              "            <tr>\n",
              "                        <th id=\"T_f009d6be_4462_11eb_b383_0242ac1c0002level0_row3\" class=\"row_heading level0 row3\" >ymax</th>\n",
              "                        <td id=\"T_f009d6be_4462_11eb_b383_0242ac1c0002row3_col0\" class=\"data row3 col0\" >0.821320</td>\n",
              "                        <td id=\"T_f009d6be_4462_11eb_b383_0242ac1c0002row3_col1\" class=\"data row3 col1\" >0.702685</td>\n",
              "                        <td id=\"T_f009d6be_4462_11eb_b383_0242ac1c0002row3_col2\" class=\"data row3 col2\" >0.444408</td>\n",
              "                        <td id=\"T_f009d6be_4462_11eb_b383_0242ac1c0002row3_col3\" class=\"data row3 col3\" >1.000000</td>\n",
              "                        <td id=\"T_f009d6be_4462_11eb_b383_0242ac1c0002row3_col4\" class=\"data row3 col4\" >0.380368</td>\n",
              "                        <td id=\"T_f009d6be_4462_11eb_b383_0242ac1c0002row3_col5\" class=\"data row3 col5\" >0.681243</td>\n",
              "                        <td id=\"T_f009d6be_4462_11eb_b383_0242ac1c0002row3_col6\" class=\"data row3 col6\" >0.647158</td>\n",
              "                        <td id=\"T_f009d6be_4462_11eb_b383_0242ac1c0002row3_col7\" class=\"data row3 col7\" >0.435624</td>\n",
              "                        <td id=\"T_f009d6be_4462_11eb_b383_0242ac1c0002row3_col8\" class=\"data row3 col8\" >0.439590</td>\n",
              "            </tr>\n",
              "            <tr>\n",
              "                        <th id=\"T_f009d6be_4462_11eb_b383_0242ac1c0002level0_row4\" class=\"row_heading level0 row4\" >ymin</th>\n",
              "                        <td id=\"T_f009d6be_4462_11eb_b383_0242ac1c0002row4_col0\" class=\"data row4 col0\" >0.094880</td>\n",
              "                        <td id=\"T_f009d6be_4462_11eb_b383_0242ac1c0002row4_col1\" class=\"data row4 col1\" >0.621077</td>\n",
              "                        <td id=\"T_f009d6be_4462_11eb_b383_0242ac1c0002row4_col2\" class=\"data row4 col2\" >0.394738</td>\n",
              "                        <td id=\"T_f009d6be_4462_11eb_b383_0242ac1c0002row4_col3\" class=\"data row4 col3\" >0.380368</td>\n",
              "                        <td id=\"T_f009d6be_4462_11eb_b383_0242ac1c0002row4_col4\" class=\"data row4 col4\" >1.000000</td>\n",
              "                        <td id=\"T_f009d6be_4462_11eb_b383_0242ac1c0002row4_col5\" class=\"data row4 col5\" >0.385531</td>\n",
              "                        <td id=\"T_f009d6be_4462_11eb_b383_0242ac1c0002row4_col6\" class=\"data row4 col6\" >0.295691</td>\n",
              "                        <td id=\"T_f009d6be_4462_11eb_b383_0242ac1c0002row4_col7\" class=\"data row4 col7\" >0.373757</td>\n",
              "                        <td id=\"T_f009d6be_4462_11eb_b383_0242ac1c0002row4_col8\" class=\"data row4 col8\" >0.394708</td>\n",
              "            </tr>\n",
              "            <tr>\n",
              "                        <th id=\"T_f009d6be_4462_11eb_b383_0242ac1c0002level0_row5\" class=\"row_heading level0 row5\" >xmaxY</th>\n",
              "                        <td id=\"T_f009d6be_4462_11eb_b383_0242ac1c0002row5_col0\" class=\"data row5 col0\" >0.557385</td>\n",
              "                        <td id=\"T_f009d6be_4462_11eb_b383_0242ac1c0002row5_col1\" class=\"data row5 col1\" >0.586362</td>\n",
              "                        <td id=\"T_f009d6be_4462_11eb_b383_0242ac1c0002row5_col2\" class=\"data row5 col2\" >0.402025</td>\n",
              "                        <td id=\"T_f009d6be_4462_11eb_b383_0242ac1c0002row5_col3\" class=\"data row5 col3\" >0.681243</td>\n",
              "                        <td id=\"T_f009d6be_4462_11eb_b383_0242ac1c0002row5_col4\" class=\"data row5 col4\" >0.385531</td>\n",
              "                        <td id=\"T_f009d6be_4462_11eb_b383_0242ac1c0002row5_col5\" class=\"data row5 col5\" >1.000000</td>\n",
              "                        <td id=\"T_f009d6be_4462_11eb_b383_0242ac1c0002row5_col6\" class=\"data row5 col6\" >0.254439</td>\n",
              "                        <td id=\"T_f009d6be_4462_11eb_b383_0242ac1c0002row5_col7\" class=\"data row5 col7\" >0.550553</td>\n",
              "                        <td id=\"T_f009d6be_4462_11eb_b383_0242ac1c0002row5_col8\" class=\"data row5 col8\" >0.266558</td>\n",
              "            </tr>\n",
              "            <tr>\n",
              "                        <th id=\"T_f009d6be_4462_11eb_b383_0242ac1c0002level0_row6\" class=\"row_heading level0 row6\" >xminY</th>\n",
              "                        <td id=\"T_f009d6be_4462_11eb_b383_0242ac1c0002row6_col0\" class=\"data row6 col0\" >0.500111</td>\n",
              "                        <td id=\"T_f009d6be_4462_11eb_b383_0242ac1c0002row6_col1\" class=\"data row6 col1\" >0.438811</td>\n",
              "                        <td id=\"T_f009d6be_4462_11eb_b383_0242ac1c0002row6_col2\" class=\"data row6 col2\" >0.224742</td>\n",
              "                        <td id=\"T_f009d6be_4462_11eb_b383_0242ac1c0002row6_col3\" class=\"data row6 col3\" >0.647158</td>\n",
              "                        <td id=\"T_f009d6be_4462_11eb_b383_0242ac1c0002row6_col4\" class=\"data row6 col4\" >0.295691</td>\n",
              "                        <td id=\"T_f009d6be_4462_11eb_b383_0242ac1c0002row6_col5\" class=\"data row6 col5\" >0.254439</td>\n",
              "                        <td id=\"T_f009d6be_4462_11eb_b383_0242ac1c0002row6_col6\" class=\"data row6 col6\" >1.000000</td>\n",
              "                        <td id=\"T_f009d6be_4462_11eb_b383_0242ac1c0002row6_col7\" class=\"data row6 col7\" >0.077018</td>\n",
              "                        <td id=\"T_f009d6be_4462_11eb_b383_0242ac1c0002row6_col8\" class=\"data row6 col8\" >0.370635</td>\n",
              "            </tr>\n",
              "            <tr>\n",
              "                        <th id=\"T_f009d6be_4462_11eb_b383_0242ac1c0002level0_row7\" class=\"row_heading level0 row7\" >ymaxX</th>\n",
              "                        <td id=\"T_f009d6be_4462_11eb_b383_0242ac1c0002row7_col0\" class=\"data row7 col0\" >0.382171</td>\n",
              "                        <td id=\"T_f009d6be_4462_11eb_b383_0242ac1c0002row7_col1\" class=\"data row7 col1\" >0.603471</td>\n",
              "                        <td id=\"T_f009d6be_4462_11eb_b383_0242ac1c0002row7_col2\" class=\"data row7 col2\" >0.319310</td>\n",
              "                        <td id=\"T_f009d6be_4462_11eb_b383_0242ac1c0002row7_col3\" class=\"data row7 col3\" >0.435624</td>\n",
              "                        <td id=\"T_f009d6be_4462_11eb_b383_0242ac1c0002row7_col4\" class=\"data row7 col4\" >0.373757</td>\n",
              "                        <td id=\"T_f009d6be_4462_11eb_b383_0242ac1c0002row7_col5\" class=\"data row7 col5\" >0.550553</td>\n",
              "                        <td id=\"T_f009d6be_4462_11eb_b383_0242ac1c0002row7_col6\" class=\"data row7 col6\" >0.077018</td>\n",
              "                        <td id=\"T_f009d6be_4462_11eb_b383_0242ac1c0002row7_col7\" class=\"data row7 col7\" >1.000000</td>\n",
              "                        <td id=\"T_f009d6be_4462_11eb_b383_0242ac1c0002row7_col8\" class=\"data row7 col8\" >0.236205</td>\n",
              "            </tr>\n",
              "            <tr>\n",
              "                        <th id=\"T_f009d6be_4462_11eb_b383_0242ac1c0002level0_row8\" class=\"row_heading level0 row8\" >yminX</th>\n",
              "                        <td id=\"T_f009d6be_4462_11eb_b383_0242ac1c0002row8_col0\" class=\"data row8 col0\" >0.379713</td>\n",
              "                        <td id=\"T_f009d6be_4462_11eb_b383_0242ac1c0002row8_col1\" class=\"data row8 col1\" >0.509410</td>\n",
              "                        <td id=\"T_f009d6be_4462_11eb_b383_0242ac1c0002row8_col2\" class=\"data row8 col2\" >0.249911</td>\n",
              "                        <td id=\"T_f009d6be_4462_11eb_b383_0242ac1c0002row8_col3\" class=\"data row8 col3\" >0.439590</td>\n",
              "                        <td id=\"T_f009d6be_4462_11eb_b383_0242ac1c0002row8_col4\" class=\"data row8 col4\" >0.394708</td>\n",
              "                        <td id=\"T_f009d6be_4462_11eb_b383_0242ac1c0002row8_col5\" class=\"data row8 col5\" >0.266558</td>\n",
              "                        <td id=\"T_f009d6be_4462_11eb_b383_0242ac1c0002row8_col6\" class=\"data row8 col6\" >0.370635</td>\n",
              "                        <td id=\"T_f009d6be_4462_11eb_b383_0242ac1c0002row8_col7\" class=\"data row8 col7\" >0.236205</td>\n",
              "                        <td id=\"T_f009d6be_4462_11eb_b383_0242ac1c0002row8_col8\" class=\"data row8 col8\" >1.000000</td>\n",
              "            </tr>\n",
              "    </tbody></table>"
            ],
            "text/plain": [
              "<pandas.io.formats.style.Styler at 0x7f524d0b6fd0>"
            ]
          },
          "metadata": {
            "tags": []
          },
          "execution_count": 8
        }
      ]
    },
    {
      "cell_type": "code",
      "metadata": {
        "id": "u7cutdHAZc-z",
        "colab": {
          "base_uri": "https://localhost:8080/"
        },
        "outputId": "a8fc2f57-e67a-4019-8ed2-070602902e74"
      },
      "source": [
        "from statsmodels.stats.outliers_influence import variance_inflation_factor\n",
        "from patsy import dmatrices\n",
        "from statsmodels.api import add_constant\n",
        "X=df[[\"xmax\",\"xmaxY\",\"xminY\",\"Weight\"]] \n",
        "X = add_constant(X)\n",
        "y=df['ProductID']\n",
        "vif = [variance_inflation_factor(X.to_numpy(), i) for i in range(X.to_numpy().shape[1])]\n",
        "\n",
        "print(vif[1:])\n"
      ],
      "execution_count": null,
      "outputs": [
        {
          "output_type": "stream",
          "text": [
            "[2.121301877236436, 1.6651256874433473, 1.3832180981228566, 2.176752780580983]\n"
          ],
          "name": "stdout"
        }
      ]
    },
    {
      "cell_type": "code",
      "metadata": {
        "id": "ohHnmww4Kk3K"
      },
      "source": [
        "from sklearn.feature_selection import RFE\n",
        "from sklearn.linear_model import LogisticRegression\n",
        "logreg = LogisticRegression()"
      ],
      "execution_count": null,
      "outputs": []
    },
    {
      "cell_type": "code",
      "metadata": {
        "id": "id4V_5p7Kk9k"
      },
      "source": [
        "logreg = LogisticRegression()\n",
        "y_score = logreg.fit(X, y)"
      ],
      "execution_count": null,
      "outputs": []
    },
    {
      "cell_type": "code",
      "metadata": {
        "colab": {
          "base_uri": "https://localhost:8080/"
        },
        "id": "OIs9UBXqKlA1",
        "outputId": "d0c031d9-4682-4b41-b64f-d5d583e03f58"
      },
      "source": [
        "print('Accuracy of logistic regression classifier on train set: {:.2f}'.format(logreg.score(X, y)))"
      ],
      "execution_count": null,
      "outputs": [
        {
          "output_type": "stream",
          "text": [
            "Accuracy of logistic regression classifier on train set: 0.69\n"
          ],
          "name": "stdout"
        }
      ]
    },
    {
      "cell_type": "code",
      "metadata": {
        "id": "Ik64j_R-KlDo"
      },
      "source": [
        "y_pred = logreg.predict_proba(X)[:,1]"
      ],
      "execution_count": null,
      "outputs": []
    },
    {
      "cell_type": "code",
      "metadata": {
        "colab": {
          "base_uri": "https://localhost:8080/"
        },
        "id": "R9M2L0Vn5IzG",
        "outputId": "d401d320-df8a-42a3-beb6-3f7524cea6b2"
      },
      "source": [
        "print(type(y_pred))"
      ],
      "execution_count": null,
      "outputs": [
        {
          "output_type": "stream",
          "text": [
            "<class 'numpy.ndarray'>\n"
          ],
          "name": "stdout"
        }
      ]
    },
    {
      "cell_type": "code",
      "metadata": {
        "id": "qEvd44QX5I64"
      },
      "source": [
        "df[\"Log_Reg Prediction\"] = y_pred.tolist()"
      ],
      "execution_count": null,
      "outputs": []
    },
    {
      "cell_type": "code",
      "metadata": {
        "colab": {
          "base_uri": "https://localhost:8080/"
        },
        "id": "bn2TIyAz5I-T",
        "outputId": "571f6c54-e946-4d8b-a8ca-56e6f8f8d6ad"
      },
      "source": [
        "df.head"
      ],
      "execution_count": null,
      "outputs": [
        {
          "output_type": "execute_result",
          "data": {
            "text/plain": [
              "<bound method NDFrame.head of       Unnamed: 0  Predicted_Class  Colour_Predition  Log_Reg Prediction\n",
              "0              0     1.960000e-05      2.010000e-09            0.022018\n",
              "1              1     2.250000e-06      6.720000e-05            0.018175\n",
              "2              2     7.370000e-08      8.360000e-07            0.023971\n",
              "3              3     1.124540e-04      2.580000e-09            0.020056\n",
              "4              4     9.020000e-07      1.540000e-08            0.017171\n",
              "...          ...              ...               ...                 ...\n",
              "8063        8063     4.070000e-08      6.230000e-08            0.006688\n",
              "8064        8064     1.540000e-07      1.481000e-04            0.023385\n",
              "8065        8065     3.190000e-06      2.130000e-05            0.002962\n",
              "8066        8066     7.088510e-04      7.120000e-05            0.011960\n",
              "8067        8067     1.500000e-06      8.440000e-06            0.008205\n",
              "\n",
              "[8068 rows x 4 columns]>"
            ]
          },
          "metadata": {
            "tags": []
          },
          "execution_count": 26
        }
      ]
    },
    {
      "cell_type": "code",
      "metadata": {
        "id": "R5rZsqj_RMqk"
      },
      "source": [
        "#df_new = df.drop('File Name')\n",
        "from sklearn.model_selection import train_test_split\n",
        "RSEED = 30\n",
        "X=df[[\"FileName\",\"xmax\",\"xmaxY\",\"xminY\",\"Weight\"]]\n",
        "#X_train1, X_test1, y_train, y_test = train_test_split(finalDf.drop('ProductID', axis=1), finalDf['ProductID'], test_size=0.2, random_state=42)\n",
        "X_train1, X_test1, y_train, y_test = train_test_split(X, df['ProductID'], test_size=0.2, random_state=48)"
      ],
      "execution_count": null,
      "outputs": []
    },
    {
      "cell_type": "code",
      "metadata": {
        "id": "cy1mynHHUdqt"
      },
      "source": [
        "X_train = X_train1.drop('FileName', axis=1)\n",
        "X_test =  X_test1.drop('FileName', axis=1)"
      ],
      "execution_count": null,
      "outputs": []
    },
    {
      "cell_type": "markdown",
      "metadata": {
        "id": "J5o2d9i6ukU3"
      },
      "source": [
        "#LOGREG"
      ]
    },
    {
      "cell_type": "code",
      "metadata": {
        "id": "QxZH2fXaRxcX"
      },
      "source": [
        "from sklearn.feature_selection import RFE\n",
        "from sklearn.linear_model import LogisticRegression\n",
        "logreg = LogisticRegression()"
      ],
      "execution_count": null,
      "outputs": []
    },
    {
      "cell_type": "code",
      "metadata": {
        "id": "7iEUmRyGRxkn"
      },
      "source": [
        "logreg = LogisticRegression()\n",
        "y_score = logreg.fit(X_train, y_train).decision_function(X_test)"
      ],
      "execution_count": null,
      "outputs": []
    },
    {
      "cell_type": "code",
      "metadata": {
        "colab": {
          "base_uri": "https://localhost:8080/"
        },
        "id": "Y6dPbqvZy6WA",
        "outputId": "cb6172e1-c3fe-4e3b-bdb3-bb51f5bd9898"
      },
      "source": [
        "y_pred_train = logreg.predict(X_train)\n",
        "print('Accuracy of logistic regression classifier on train set: {:.2f}'.format(logreg.score(X_train, y_train)))"
      ],
      "execution_count": null,
      "outputs": [
        {
          "output_type": "stream",
          "text": [
            "Accuracy of logistic regression classifier on train set: 0.68\n"
          ],
          "name": "stdout"
        }
      ]
    },
    {
      "cell_type": "code",
      "metadata": {
        "id": "QEXSLXnTSD16",
        "colab": {
          "base_uri": "https://localhost:8080/"
        },
        "outputId": "41c557dd-204f-463d-ffb7-6fb3049b3ea0"
      },
      "source": [
        "y_pred_test = logreg.predict(X_test)\n",
        "print('Accuracy of logistic regression classifier on test set: {:.2f}'.format(logreg.score(X_test, y_test)))"
      ],
      "execution_count": null,
      "outputs": [
        {
          "output_type": "stream",
          "text": [
            "Accuracy of logistic regression classifier on test set: 0.69\n"
          ],
          "name": "stdout"
        }
      ]
    },
    {
      "cell_type": "code",
      "metadata": {
        "colab": {
          "base_uri": "https://localhost:8080/"
        },
        "id": "pp7WKLbhzCmD",
        "outputId": "6ab9da06-53b2-414f-e5e3-15e5874cd119"
      },
      "source": [
        "y_pred_test"
      ],
      "execution_count": null,
      "outputs": [
        {
          "output_type": "execute_result",
          "data": {
            "text/plain": [
              "array([20004, 20010, 20003, ..., 20010, 20004, 20010])"
            ]
          },
          "metadata": {
            "tags": []
          },
          "execution_count": 140
        }
      ]
    },
    {
      "cell_type": "code",
      "metadata": {
        "id": "dZYMPMLCTX_Z",
        "colab": {
          "base_uri": "https://localhost:8080/"
        },
        "outputId": "a2465fef-4a4f-451e-ee91-c7242c0e87e4"
      },
      "source": [
        "from sklearn.metrics import classification_report, confusion_matrix\n",
        "print('====Confusion Matrix=====')\n",
        "print('\\n')\n",
        "print(confusion_matrix(y_test,y_pred_test))\n",
        "print('\\n')\n",
        "print('====Classification Report====')\n",
        "print('\\n')\n",
        "print(classification_report(y_test,y_pred_test))"
      ],
      "execution_count": null,
      "outputs": [
        {
          "output_type": "stream",
          "text": [
            "====Confusion Matrix=====\n",
            "\n",
            "\n",
            "[[  0   0  82   2 122]\n",
            " [  0   0   0   0  18]\n",
            " [  0   0 266  33 117]\n",
            " [  0   0  15 405   0]\n",
            " [  0   0 105   3 446]]\n",
            "\n",
            "\n",
            "====Classification Report====\n",
            "\n",
            "\n",
            "              precision    recall  f1-score   support\n",
            "\n",
            "       20001       0.00      0.00      0.00       206\n",
            "       20002       0.00      0.00      0.00        18\n",
            "       20003       0.57      0.64      0.60       416\n",
            "       20004       0.91      0.96      0.94       420\n",
            "       20010       0.63      0.81      0.71       554\n",
            "\n",
            "    accuracy                           0.69      1614\n",
            "   macro avg       0.42      0.48      0.45      1614\n",
            "weighted avg       0.60      0.69      0.64      1614\n",
            "\n"
          ],
          "name": "stdout"
        }
      ]
    },
    {
      "cell_type": "code",
      "metadata": {
        "id": "xRgKAfLLPgfN"
      },
      "source": [
        "y_pred_test = logreg.predict_proba(X_test)[:,1]\n",
        "y_pred_train = logreg.predict_proba(X_train)[:,1]"
      ],
      "execution_count": null,
      "outputs": []
    },
    {
      "cell_type": "code",
      "metadata": {
        "colab": {
          "base_uri": "https://localhost:8080/"
        },
        "id": "3yoMenQg2l4x",
        "outputId": "62a787fd-61bf-4420-9b27-59315546c4a6"
      },
      "source": [
        "type(y_pred_train)"
      ],
      "execution_count": null,
      "outputs": [
        {
          "output_type": "execute_result",
          "data": {
            "text/plain": [
              "numpy.ndarray"
            ]
          },
          "metadata": {
            "tags": []
          },
          "execution_count": 143
        }
      ]
    },
    {
      "cell_type": "code",
      "metadata": {
        "colab": {
          "base_uri": "https://localhost:8080/"
        },
        "id": "YnfZ1Gxqq1ju",
        "outputId": "d766e046-9dd5-46f6-acc0-5bd8ae5458ae"
      },
      "source": [
        "print(y_pred_test)"
      ],
      "execution_count": null,
      "outputs": [
        {
          "output_type": "stream",
          "text": [
            "[0.01746884 0.00300067 0.02299968 ... 0.00709145 0.01267595 0.00760383]\n"
          ],
          "name": "stdout"
        }
      ]
    },
    {
      "cell_type": "code",
      "metadata": {
        "colab": {
          "base_uri": "https://localhost:8080/"
        },
        "id": "3fPItC0Y2asc",
        "outputId": "00c01f7b-beac-458f-8448-f1d918656412"
      },
      "source": [
        "test_res = []\n",
        "for i in range(0,len(y_pred_test)):\n",
        "  for j in range(0,5):\n",
        "    k = np.amax(y_pred_test)\n",
        "    test_res.append(k)\n",
        "print(test_res)\n"
      ],
      "execution_count": null,
      "outputs": [
        {
          "output_type": "stream",
          "text": [
            "[0.4658242835437018, 0.4658242835437018, 0.4658242835437018, 0.4658242835437018, 0.4658242835437018, 0.4658242835437018, 0.4658242835437018, 0.4658242835437018, 0.4658242835437018, 0.4658242835437018, 0.4658242835437018, 0.4658242835437018, 0.4658242835437018, 0.4658242835437018, 0.4658242835437018, 0.4658242835437018, 0.4658242835437018, 0.4658242835437018, 0.4658242835437018, 0.4658242835437018, 0.4658242835437018, 0.4658242835437018, 0.4658242835437018, 0.4658242835437018, 0.4658242835437018, 0.4658242835437018, 0.4658242835437018, 0.4658242835437018, 0.4658242835437018, 0.4658242835437018, 0.4658242835437018, 0.4658242835437018, 0.4658242835437018, 0.4658242835437018, 0.4658242835437018, 0.4658242835437018, 0.4658242835437018, 0.4658242835437018, 0.4658242835437018, 0.4658242835437018, 0.4658242835437018, 0.4658242835437018, 0.4658242835437018, 0.4658242835437018, 0.4658242835437018, 0.4658242835437018, 0.4658242835437018, 0.4658242835437018, 0.4658242835437018, 0.4658242835437018, 0.4658242835437018, 0.4658242835437018, 0.4658242835437018, 0.4658242835437018, 0.4658242835437018, 0.4658242835437018, 0.4658242835437018, 0.4658242835437018, 0.4658242835437018, 0.4658242835437018, 0.4658242835437018, 0.4658242835437018, 0.4658242835437018, 0.4658242835437018, 0.4658242835437018, 0.4658242835437018, 0.4658242835437018, 0.4658242835437018, 0.4658242835437018, 0.4658242835437018, 0.4658242835437018, 0.4658242835437018, 0.4658242835437018, 0.4658242835437018, 0.4658242835437018, 0.4658242835437018, 0.4658242835437018, 0.4658242835437018, 0.4658242835437018, 0.4658242835437018, 0.4658242835437018, 0.4658242835437018, 0.4658242835437018, 0.4658242835437018, 0.4658242835437018, 0.4658242835437018, 0.4658242835437018, 0.4658242835437018, 0.4658242835437018, 0.4658242835437018, 0.4658242835437018, 0.4658242835437018, 0.4658242835437018, 0.4658242835437018, 0.4658242835437018, 0.4658242835437018, 0.4658242835437018, 0.4658242835437018, 0.4658242835437018, 0.4658242835437018, 0.4658242835437018, 0.4658242835437018, 0.4658242835437018, 0.4658242835437018, 0.4658242835437018, 0.4658242835437018, 0.4658242835437018, 0.4658242835437018, 0.4658242835437018, 0.4658242835437018, 0.4658242835437018, 0.4658242835437018, 0.4658242835437018, 0.4658242835437018, 0.4658242835437018, 0.4658242835437018, 0.4658242835437018, 0.4658242835437018, 0.4658242835437018, 0.4658242835437018, 0.4658242835437018, 0.4658242835437018, 0.4658242835437018, 0.4658242835437018, 0.4658242835437018, 0.4658242835437018, 0.4658242835437018, 0.4658242835437018, 0.4658242835437018, 0.4658242835437018, 0.4658242835437018, 0.4658242835437018, 0.4658242835437018, 0.4658242835437018, 0.4658242835437018, 0.4658242835437018, 0.4658242835437018, 0.4658242835437018, 0.4658242835437018, 0.4658242835437018, 0.4658242835437018, 0.4658242835437018, 0.4658242835437018, 0.4658242835437018, 0.4658242835437018, 0.4658242835437018, 0.4658242835437018, 0.4658242835437018, 0.4658242835437018, 0.4658242835437018, 0.4658242835437018, 0.4658242835437018, 0.4658242835437018, 0.4658242835437018, 0.4658242835437018, 0.4658242835437018, 0.4658242835437018, 0.4658242835437018, 0.4658242835437018, 0.4658242835437018, 0.4658242835437018, 0.4658242835437018, 0.4658242835437018, 0.4658242835437018, 0.4658242835437018, 0.4658242835437018, 0.4658242835437018, 0.4658242835437018, 0.4658242835437018, 0.4658242835437018, 0.4658242835437018, 0.4658242835437018, 0.4658242835437018, 0.4658242835437018, 0.4658242835437018, 0.4658242835437018, 0.4658242835437018, 0.4658242835437018, 0.4658242835437018, 0.4658242835437018, 0.4658242835437018, 0.4658242835437018, 0.4658242835437018, 0.4658242835437018, 0.4658242835437018, 0.4658242835437018, 0.4658242835437018, 0.4658242835437018, 0.4658242835437018, 0.4658242835437018, 0.4658242835437018, 0.4658242835437018, 0.4658242835437018, 0.4658242835437018, 0.4658242835437018, 0.4658242835437018, 0.4658242835437018, 0.4658242835437018, 0.4658242835437018, 0.4658242835437018, 0.4658242835437018, 0.4658242835437018, 0.4658242835437018, 0.4658242835437018, 0.4658242835437018, 0.4658242835437018, 0.4658242835437018, 0.4658242835437018, 0.4658242835437018, 0.4658242835437018, 0.4658242835437018, 0.4658242835437018, 0.4658242835437018, 0.4658242835437018, 0.4658242835437018, 0.4658242835437018, 0.4658242835437018, 0.4658242835437018, 0.4658242835437018, 0.4658242835437018, 0.4658242835437018, 0.4658242835437018, 0.4658242835437018, 0.4658242835437018, 0.4658242835437018, 0.4658242835437018, 0.4658242835437018, 0.4658242835437018, 0.4658242835437018, 0.4658242835437018, 0.4658242835437018, 0.4658242835437018, 0.4658242835437018, 0.4658242835437018, 0.4658242835437018, 0.4658242835437018, 0.4658242835437018, 0.4658242835437018, 0.4658242835437018, 0.4658242835437018, 0.4658242835437018, 0.4658242835437018, 0.4658242835437018, 0.4658242835437018, 0.4658242835437018, 0.4658242835437018, 0.4658242835437018, 0.4658242835437018, 0.4658242835437018, 0.4658242835437018, 0.4658242835437018, 0.4658242835437018, 0.4658242835437018, 0.4658242835437018, 0.4658242835437018, 0.4658242835437018, 0.4658242835437018, 0.4658242835437018, 0.4658242835437018, 0.4658242835437018, 0.4658242835437018, 0.4658242835437018, 0.4658242835437018, 0.4658242835437018, 0.4658242835437018, 0.4658242835437018, 0.4658242835437018, 0.4658242835437018, 0.4658242835437018, 0.4658242835437018, 0.4658242835437018, 0.4658242835437018, 0.4658242835437018, 0.4658242835437018, 0.4658242835437018, 0.4658242835437018, 0.4658242835437018, 0.4658242835437018, 0.4658242835437018, 0.4658242835437018, 0.4658242835437018, 0.4658242835437018, 0.4658242835437018, 0.4658242835437018, 0.4658242835437018, 0.4658242835437018, 0.4658242835437018, 0.4658242835437018, 0.4658242835437018, 0.4658242835437018, 0.4658242835437018, 0.4658242835437018, 0.4658242835437018, 0.4658242835437018, 0.4658242835437018, 0.4658242835437018, 0.4658242835437018, 0.4658242835437018, 0.4658242835437018, 0.4658242835437018, 0.4658242835437018, 0.4658242835437018, 0.4658242835437018, 0.4658242835437018, 0.4658242835437018, 0.4658242835437018, 0.4658242835437018, 0.4658242835437018, 0.4658242835437018, 0.4658242835437018, 0.4658242835437018, 0.4658242835437018, 0.4658242835437018, 0.4658242835437018, 0.4658242835437018, 0.4658242835437018, 0.4658242835437018, 0.4658242835437018, 0.4658242835437018, 0.4658242835437018, 0.4658242835437018, 0.4658242835437018, 0.4658242835437018, 0.4658242835437018, 0.4658242835437018, 0.4658242835437018, 0.4658242835437018, 0.4658242835437018, 0.4658242835437018, 0.4658242835437018, 0.4658242835437018, 0.4658242835437018, 0.4658242835437018, 0.4658242835437018, 0.4658242835437018, 0.4658242835437018, 0.4658242835437018, 0.4658242835437018, 0.4658242835437018, 0.4658242835437018, 0.4658242835437018, 0.4658242835437018, 0.4658242835437018, 0.4658242835437018, 0.4658242835437018, 0.4658242835437018, 0.4658242835437018, 0.4658242835437018, 0.4658242835437018, 0.4658242835437018, 0.4658242835437018, 0.4658242835437018, 0.4658242835437018, 0.4658242835437018, 0.4658242835437018, 0.4658242835437018, 0.4658242835437018, 0.4658242835437018, 0.4658242835437018, 0.4658242835437018, 0.4658242835437018, 0.4658242835437018, 0.4658242835437018, 0.4658242835437018, 0.4658242835437018, 0.4658242835437018, 0.4658242835437018, 0.4658242835437018, 0.4658242835437018, 0.4658242835437018, 0.4658242835437018, 0.4658242835437018, 0.4658242835437018, 0.4658242835437018, 0.4658242835437018, 0.4658242835437018, 0.4658242835437018, 0.4658242835437018, 0.4658242835437018, 0.4658242835437018, 0.4658242835437018, 0.4658242835437018, 0.4658242835437018, 0.4658242835437018, 0.4658242835437018, 0.4658242835437018, 0.4658242835437018, 0.4658242835437018, 0.4658242835437018, 0.4658242835437018, 0.4658242835437018, 0.4658242835437018, 0.4658242835437018, 0.4658242835437018, 0.4658242835437018, 0.4658242835437018, 0.4658242835437018, 0.4658242835437018, 0.4658242835437018, 0.4658242835437018, 0.4658242835437018, 0.4658242835437018, 0.4658242835437018, 0.4658242835437018, 0.4658242835437018, 0.4658242835437018, 0.4658242835437018, 0.4658242835437018, 0.4658242835437018, 0.4658242835437018, 0.4658242835437018, 0.4658242835437018, 0.4658242835437018, 0.4658242835437018, 0.4658242835437018, 0.4658242835437018, 0.4658242835437018, 0.4658242835437018, 0.4658242835437018, 0.4658242835437018, 0.4658242835437018, 0.4658242835437018, 0.4658242835437018, 0.4658242835437018, 0.4658242835437018, 0.4658242835437018, 0.4658242835437018, 0.4658242835437018, 0.4658242835437018, 0.4658242835437018, 0.4658242835437018, 0.4658242835437018, 0.4658242835437018, 0.4658242835437018, 0.4658242835437018, 0.4658242835437018, 0.4658242835437018, 0.4658242835437018, 0.4658242835437018, 0.4658242835437018, 0.4658242835437018, 0.4658242835437018, 0.4658242835437018, 0.4658242835437018, 0.4658242835437018, 0.4658242835437018, 0.4658242835437018, 0.4658242835437018, 0.4658242835437018, 0.4658242835437018, 0.4658242835437018, 0.4658242835437018, 0.4658242835437018, 0.4658242835437018, 0.4658242835437018, 0.4658242835437018, 0.4658242835437018, 0.4658242835437018, 0.4658242835437018, 0.4658242835437018, 0.4658242835437018, 0.4658242835437018, 0.4658242835437018, 0.4658242835437018, 0.4658242835437018, 0.4658242835437018, 0.4658242835437018, 0.4658242835437018, 0.4658242835437018, 0.4658242835437018, 0.4658242835437018, 0.4658242835437018, 0.4658242835437018, 0.4658242835437018, 0.4658242835437018, 0.4658242835437018, 0.4658242835437018, 0.4658242835437018, 0.4658242835437018, 0.4658242835437018, 0.4658242835437018, 0.4658242835437018, 0.4658242835437018, 0.4658242835437018, 0.4658242835437018, 0.4658242835437018, 0.4658242835437018, 0.4658242835437018, 0.4658242835437018, 0.4658242835437018, 0.4658242835437018, 0.4658242835437018, 0.4658242835437018, 0.4658242835437018, 0.4658242835437018, 0.4658242835437018, 0.4658242835437018, 0.4658242835437018, 0.4658242835437018, 0.4658242835437018, 0.4658242835437018, 0.4658242835437018, 0.4658242835437018, 0.4658242835437018, 0.4658242835437018, 0.4658242835437018, 0.4658242835437018, 0.4658242835437018, 0.4658242835437018, 0.4658242835437018, 0.4658242835437018, 0.4658242835437018, 0.4658242835437018, 0.4658242835437018, 0.4658242835437018, 0.4658242835437018, 0.4658242835437018, 0.4658242835437018, 0.4658242835437018, 0.4658242835437018, 0.4658242835437018, 0.4658242835437018, 0.4658242835437018, 0.4658242835437018, 0.4658242835437018, 0.4658242835437018, 0.4658242835437018, 0.4658242835437018, 0.4658242835437018, 0.4658242835437018, 0.4658242835437018, 0.4658242835437018, 0.4658242835437018, 0.4658242835437018, 0.4658242835437018, 0.4658242835437018, 0.4658242835437018, 0.4658242835437018, 0.4658242835437018, 0.4658242835437018, 0.4658242835437018, 0.4658242835437018, 0.4658242835437018, 0.4658242835437018, 0.4658242835437018, 0.4658242835437018, 0.4658242835437018, 0.4658242835437018, 0.4658242835437018, 0.4658242835437018, 0.4658242835437018, 0.4658242835437018, 0.4658242835437018, 0.4658242835437018, 0.4658242835437018, 0.4658242835437018, 0.4658242835437018, 0.4658242835437018, 0.4658242835437018, 0.4658242835437018, 0.4658242835437018, 0.4658242835437018, 0.4658242835437018, 0.4658242835437018, 0.4658242835437018, 0.4658242835437018, 0.4658242835437018, 0.4658242835437018, 0.4658242835437018, 0.4658242835437018, 0.4658242835437018, 0.4658242835437018, 0.4658242835437018, 0.4658242835437018, 0.4658242835437018, 0.4658242835437018, 0.4658242835437018, 0.4658242835437018, 0.4658242835437018, 0.4658242835437018, 0.4658242835437018, 0.4658242835437018, 0.4658242835437018, 0.4658242835437018, 0.4658242835437018, 0.4658242835437018, 0.4658242835437018, 0.4658242835437018, 0.4658242835437018, 0.4658242835437018, 0.4658242835437018, 0.4658242835437018, 0.4658242835437018, 0.4658242835437018, 0.4658242835437018, 0.4658242835437018, 0.4658242835437018, 0.4658242835437018, 0.4658242835437018, 0.4658242835437018, 0.4658242835437018, 0.4658242835437018, 0.4658242835437018, 0.4658242835437018, 0.4658242835437018, 0.4658242835437018, 0.4658242835437018, 0.4658242835437018, 0.4658242835437018, 0.4658242835437018, 0.4658242835437018, 0.4658242835437018, 0.4658242835437018, 0.4658242835437018, 0.4658242835437018, 0.4658242835437018, 0.4658242835437018, 0.4658242835437018, 0.4658242835437018, 0.4658242835437018, 0.4658242835437018, 0.4658242835437018, 0.4658242835437018, 0.4658242835437018, 0.4658242835437018, 0.4658242835437018, 0.4658242835437018, 0.4658242835437018, 0.4658242835437018, 0.4658242835437018, 0.4658242835437018, 0.4658242835437018, 0.4658242835437018, 0.4658242835437018, 0.4658242835437018, 0.4658242835437018, 0.4658242835437018, 0.4658242835437018, 0.4658242835437018, 0.4658242835437018, 0.4658242835437018, 0.4658242835437018, 0.4658242835437018, 0.4658242835437018, 0.4658242835437018, 0.4658242835437018, 0.4658242835437018, 0.4658242835437018, 0.4658242835437018, 0.4658242835437018, 0.4658242835437018, 0.4658242835437018, 0.4658242835437018, 0.4658242835437018, 0.4658242835437018, 0.4658242835437018, 0.4658242835437018, 0.4658242835437018, 0.4658242835437018, 0.4658242835437018, 0.4658242835437018, 0.4658242835437018, 0.4658242835437018, 0.4658242835437018, 0.4658242835437018, 0.4658242835437018, 0.4658242835437018, 0.4658242835437018, 0.4658242835437018, 0.4658242835437018, 0.4658242835437018, 0.4658242835437018, 0.4658242835437018, 0.4658242835437018, 0.4658242835437018, 0.4658242835437018, 0.4658242835437018, 0.4658242835437018, 0.4658242835437018, 0.4658242835437018, 0.4658242835437018, 0.4658242835437018, 0.4658242835437018, 0.4658242835437018, 0.4658242835437018, 0.4658242835437018, 0.4658242835437018, 0.4658242835437018, 0.4658242835437018, 0.4658242835437018, 0.4658242835437018, 0.4658242835437018, 0.4658242835437018, 0.4658242835437018, 0.4658242835437018, 0.4658242835437018, 0.4658242835437018, 0.4658242835437018, 0.4658242835437018, 0.4658242835437018, 0.4658242835437018, 0.4658242835437018, 0.4658242835437018, 0.4658242835437018, 0.4658242835437018, 0.4658242835437018, 0.4658242835437018, 0.4658242835437018, 0.4658242835437018, 0.4658242835437018, 0.4658242835437018, 0.4658242835437018, 0.4658242835437018, 0.4658242835437018, 0.4658242835437018, 0.4658242835437018, 0.4658242835437018, 0.4658242835437018, 0.4658242835437018, 0.4658242835437018, 0.4658242835437018, 0.4658242835437018, 0.4658242835437018, 0.4658242835437018, 0.4658242835437018, 0.4658242835437018, 0.4658242835437018, 0.4658242835437018, 0.4658242835437018, 0.4658242835437018, 0.4658242835437018, 0.4658242835437018, 0.4658242835437018, 0.4658242835437018, 0.4658242835437018, 0.4658242835437018, 0.4658242835437018, 0.4658242835437018, 0.4658242835437018, 0.4658242835437018, 0.4658242835437018, 0.4658242835437018, 0.4658242835437018, 0.4658242835437018, 0.4658242835437018, 0.4658242835437018, 0.4658242835437018, 0.4658242835437018, 0.4658242835437018, 0.4658242835437018, 0.4658242835437018, 0.4658242835437018, 0.4658242835437018, 0.4658242835437018, 0.4658242835437018, 0.4658242835437018, 0.4658242835437018, 0.4658242835437018, 0.4658242835437018, 0.4658242835437018, 0.4658242835437018, 0.4658242835437018, 0.4658242835437018, 0.4658242835437018, 0.4658242835437018, 0.4658242835437018, 0.4658242835437018, 0.4658242835437018, 0.4658242835437018, 0.4658242835437018, 0.4658242835437018, 0.4658242835437018, 0.4658242835437018, 0.4658242835437018, 0.4658242835437018, 0.4658242835437018, 0.4658242835437018, 0.4658242835437018, 0.4658242835437018, 0.4658242835437018, 0.4658242835437018, 0.4658242835437018, 0.4658242835437018, 0.4658242835437018, 0.4658242835437018, 0.4658242835437018, 0.4658242835437018, 0.4658242835437018, 0.4658242835437018, 0.4658242835437018, 0.4658242835437018, 0.4658242835437018, 0.4658242835437018, 0.4658242835437018, 0.4658242835437018, 0.4658242835437018, 0.4658242835437018, 0.4658242835437018, 0.4658242835437018, 0.4658242835437018, 0.4658242835437018, 0.4658242835437018, 0.4658242835437018, 0.4658242835437018, 0.4658242835437018, 0.4658242835437018, 0.4658242835437018, 0.4658242835437018, 0.4658242835437018, 0.4658242835437018, 0.4658242835437018, 0.4658242835437018, 0.4658242835437018, 0.4658242835437018, 0.4658242835437018, 0.4658242835437018, 0.4658242835437018, 0.4658242835437018, 0.4658242835437018, 0.4658242835437018, 0.4658242835437018, 0.4658242835437018, 0.4658242835437018, 0.4658242835437018, 0.4658242835437018, 0.4658242835437018, 0.4658242835437018, 0.4658242835437018, 0.4658242835437018, 0.4658242835437018, 0.4658242835437018, 0.4658242835437018, 0.4658242835437018, 0.4658242835437018, 0.4658242835437018, 0.4658242835437018, 0.4658242835437018, 0.4658242835437018, 0.4658242835437018, 0.4658242835437018, 0.4658242835437018, 0.4658242835437018, 0.4658242835437018, 0.4658242835437018, 0.4658242835437018, 0.4658242835437018, 0.4658242835437018, 0.4658242835437018, 0.4658242835437018, 0.4658242835437018, 0.4658242835437018, 0.4658242835437018, 0.4658242835437018, 0.4658242835437018, 0.4658242835437018, 0.4658242835437018, 0.4658242835437018, 0.4658242835437018, 0.4658242835437018, 0.4658242835437018, 0.4658242835437018, 0.4658242835437018, 0.4658242835437018, 0.4658242835437018, 0.4658242835437018, 0.4658242835437018, 0.4658242835437018, 0.4658242835437018, 0.4658242835437018, 0.4658242835437018, 0.4658242835437018, 0.4658242835437018, 0.4658242835437018, 0.4658242835437018, 0.4658242835437018, 0.4658242835437018, 0.4658242835437018, 0.4658242835437018, 0.4658242835437018, 0.4658242835437018, 0.4658242835437018, 0.4658242835437018, 0.4658242835437018, 0.4658242835437018, 0.4658242835437018, 0.4658242835437018, 0.4658242835437018, 0.4658242835437018, 0.4658242835437018, 0.4658242835437018, 0.4658242835437018, 0.4658242835437018, 0.4658242835437018, 0.4658242835437018, 0.4658242835437018, 0.4658242835437018, 0.4658242835437018, 0.4658242835437018, 0.4658242835437018, 0.4658242835437018, 0.4658242835437018, 0.4658242835437018, 0.4658242835437018, 0.4658242835437018, 0.4658242835437018, 0.4658242835437018, 0.4658242835437018, 0.4658242835437018, 0.4658242835437018, 0.4658242835437018, 0.4658242835437018, 0.4658242835437018, 0.4658242835437018, 0.4658242835437018, 0.4658242835437018, 0.4658242835437018, 0.4658242835437018, 0.4658242835437018, 0.4658242835437018, 0.4658242835437018, 0.4658242835437018, 0.4658242835437018, 0.4658242835437018, 0.4658242835437018, 0.4658242835437018, 0.4658242835437018, 0.4658242835437018, 0.4658242835437018, 0.4658242835437018, 0.4658242835437018, 0.4658242835437018, 0.4658242835437018, 0.4658242835437018, 0.4658242835437018, 0.4658242835437018, 0.4658242835437018, 0.4658242835437018, 0.4658242835437018, 0.4658242835437018, 0.4658242835437018, 0.4658242835437018, 0.4658242835437018, 0.4658242835437018, 0.4658242835437018, 0.4658242835437018, 0.4658242835437018, 0.4658242835437018, 0.4658242835437018, 0.4658242835437018, 0.4658242835437018, 0.4658242835437018, 0.4658242835437018, 0.4658242835437018, 0.4658242835437018, 0.4658242835437018, 0.4658242835437018, 0.4658242835437018, 0.4658242835437018, 0.4658242835437018, 0.4658242835437018, 0.4658242835437018, 0.4658242835437018, 0.4658242835437018, 0.4658242835437018, 0.4658242835437018, 0.4658242835437018, 0.4658242835437018, 0.4658242835437018, 0.4658242835437018, 0.4658242835437018, 0.4658242835437018, 0.4658242835437018, 0.4658242835437018, 0.4658242835437018, 0.4658242835437018, 0.4658242835437018, 0.4658242835437018, 0.4658242835437018, 0.4658242835437018, 0.4658242835437018, 0.4658242835437018, 0.4658242835437018, 0.4658242835437018, 0.4658242835437018, 0.4658242835437018, 0.4658242835437018, 0.4658242835437018, 0.4658242835437018, 0.4658242835437018, 0.4658242835437018, 0.4658242835437018, 0.4658242835437018, 0.4658242835437018, 0.4658242835437018, 0.4658242835437018, 0.4658242835437018, 0.4658242835437018, 0.4658242835437018, 0.4658242835437018, 0.4658242835437018, 0.4658242835437018, 0.4658242835437018, 0.4658242835437018, 0.4658242835437018, 0.4658242835437018, 0.4658242835437018, 0.4658242835437018, 0.4658242835437018, 0.4658242835437018, 0.4658242835437018, 0.4658242835437018, 0.4658242835437018, 0.4658242835437018, 0.4658242835437018, 0.4658242835437018, 0.4658242835437018, 0.4658242835437018, 0.4658242835437018, 0.4658242835437018, 0.4658242835437018, 0.4658242835437018, 0.4658242835437018, 0.4658242835437018, 0.4658242835437018, 0.4658242835437018, 0.4658242835437018, 0.4658242835437018, 0.4658242835437018, 0.4658242835437018, 0.4658242835437018, 0.4658242835437018, 0.4658242835437018, 0.4658242835437018, 0.4658242835437018, 0.4658242835437018, 0.4658242835437018, 0.4658242835437018, 0.4658242835437018, 0.4658242835437018, 0.4658242835437018, 0.4658242835437018, 0.4658242835437018, 0.4658242835437018, 0.4658242835437018, 0.4658242835437018, 0.4658242835437018, 0.4658242835437018, 0.4658242835437018, 0.4658242835437018, 0.4658242835437018, 0.4658242835437018, 0.4658242835437018, 0.4658242835437018, 0.4658242835437018, 0.4658242835437018, 0.4658242835437018, 0.4658242835437018, 0.4658242835437018, 0.4658242835437018, 0.4658242835437018, 0.4658242835437018, 0.4658242835437018, 0.4658242835437018, 0.4658242835437018, 0.4658242835437018, 0.4658242835437018, 0.4658242835437018, 0.4658242835437018, 0.4658242835437018, 0.4658242835437018, 0.4658242835437018, 0.4658242835437018, 0.4658242835437018, 0.4658242835437018, 0.4658242835437018, 0.4658242835437018, 0.4658242835437018, 0.4658242835437018, 0.4658242835437018, 0.4658242835437018, 0.4658242835437018, 0.4658242835437018, 0.4658242835437018, 0.4658242835437018, 0.4658242835437018, 0.4658242835437018, 0.4658242835437018, 0.4658242835437018, 0.4658242835437018, 0.4658242835437018, 0.4658242835437018, 0.4658242835437018, 0.4658242835437018, 0.4658242835437018, 0.4658242835437018, 0.4658242835437018, 0.4658242835437018, 0.4658242835437018, 0.4658242835437018, 0.4658242835437018, 0.4658242835437018, 0.4658242835437018, 0.4658242835437018, 0.4658242835437018, 0.4658242835437018, 0.4658242835437018, 0.4658242835437018, 0.4658242835437018, 0.4658242835437018, 0.4658242835437018, 0.4658242835437018, 0.4658242835437018, 0.4658242835437018, 0.4658242835437018, 0.4658242835437018, 0.4658242835437018, 0.4658242835437018, 0.4658242835437018, 0.4658242835437018, 0.4658242835437018, 0.4658242835437018, 0.4658242835437018, 0.4658242835437018, 0.4658242835437018, 0.4658242835437018, 0.4658242835437018, 0.4658242835437018, 0.4658242835437018, 0.4658242835437018, 0.4658242835437018, 0.4658242835437018, 0.4658242835437018, 0.4658242835437018, 0.4658242835437018, 0.4658242835437018, 0.4658242835437018, 0.4658242835437018, 0.4658242835437018, 0.4658242835437018, 0.4658242835437018, 0.4658242835437018, 0.4658242835437018, 0.4658242835437018, 0.4658242835437018, 0.4658242835437018, 0.4658242835437018, 0.4658242835437018, 0.4658242835437018, 0.4658242835437018, 0.4658242835437018, 0.4658242835437018, 0.4658242835437018, 0.4658242835437018, 0.4658242835437018, 0.4658242835437018, 0.4658242835437018, 0.4658242835437018, 0.4658242835437018, 0.4658242835437018, 0.4658242835437018, 0.4658242835437018, 0.4658242835437018, 0.4658242835437018, 0.4658242835437018, 0.4658242835437018, 0.4658242835437018, 0.4658242835437018, 0.4658242835437018, 0.4658242835437018, 0.4658242835437018, 0.4658242835437018, 0.4658242835437018, 0.4658242835437018, 0.4658242835437018, 0.4658242835437018, 0.4658242835437018, 0.4658242835437018, 0.4658242835437018, 0.4658242835437018, 0.4658242835437018, 0.4658242835437018, 0.4658242835437018, 0.4658242835437018, 0.4658242835437018, 0.4658242835437018, 0.4658242835437018, 0.4658242835437018, 0.4658242835437018, 0.4658242835437018, 0.4658242835437018, 0.4658242835437018, 0.4658242835437018, 0.4658242835437018, 0.4658242835437018, 0.4658242835437018, 0.4658242835437018, 0.4658242835437018, 0.4658242835437018, 0.4658242835437018, 0.4658242835437018, 0.4658242835437018, 0.4658242835437018, 0.4658242835437018, 0.4658242835437018, 0.4658242835437018, 0.4658242835437018, 0.4658242835437018, 0.4658242835437018, 0.4658242835437018, 0.4658242835437018, 0.4658242835437018, 0.4658242835437018, 0.4658242835437018, 0.4658242835437018, 0.4658242835437018, 0.4658242835437018, 0.4658242835437018, 0.4658242835437018, 0.4658242835437018, 0.4658242835437018, 0.4658242835437018, 0.4658242835437018, 0.4658242835437018, 0.4658242835437018, 0.4658242835437018, 0.4658242835437018, 0.4658242835437018, 0.4658242835437018, 0.4658242835437018, 0.4658242835437018, 0.4658242835437018, 0.4658242835437018, 0.4658242835437018, 0.4658242835437018, 0.4658242835437018, 0.4658242835437018, 0.4658242835437018, 0.4658242835437018, 0.4658242835437018, 0.4658242835437018, 0.4658242835437018, 0.4658242835437018, 0.4658242835437018, 0.4658242835437018, 0.4658242835437018, 0.4658242835437018, 0.4658242835437018, 0.4658242835437018, 0.4658242835437018, 0.4658242835437018, 0.4658242835437018, 0.4658242835437018, 0.4658242835437018, 0.4658242835437018, 0.4658242835437018, 0.4658242835437018, 0.4658242835437018, 0.4658242835437018, 0.4658242835437018, 0.4658242835437018, 0.4658242835437018, 0.4658242835437018, 0.4658242835437018, 0.4658242835437018, 0.4658242835437018, 0.4658242835437018, 0.4658242835437018, 0.4658242835437018, 0.4658242835437018, 0.4658242835437018, 0.4658242835437018, 0.4658242835437018, 0.4658242835437018, 0.4658242835437018, 0.4658242835437018, 0.4658242835437018, 0.4658242835437018, 0.4658242835437018, 0.4658242835437018, 0.4658242835437018, 0.4658242835437018, 0.4658242835437018, 0.4658242835437018, 0.4658242835437018, 0.4658242835437018, 0.4658242835437018, 0.4658242835437018, 0.4658242835437018, 0.4658242835437018, 0.4658242835437018, 0.4658242835437018, 0.4658242835437018, 0.4658242835437018, 0.4658242835437018, 0.4658242835437018, 0.4658242835437018, 0.4658242835437018, 0.4658242835437018, 0.4658242835437018, 0.4658242835437018, 0.4658242835437018, 0.4658242835437018, 0.4658242835437018, 0.4658242835437018, 0.4658242835437018, 0.4658242835437018, 0.4658242835437018, 0.4658242835437018, 0.4658242835437018, 0.4658242835437018, 0.4658242835437018, 0.4658242835437018, 0.4658242835437018, 0.4658242835437018, 0.4658242835437018, 0.4658242835437018, 0.4658242835437018, 0.4658242835437018, 0.4658242835437018, 0.4658242835437018, 0.4658242835437018, 0.4658242835437018, 0.4658242835437018, 0.4658242835437018, 0.4658242835437018, 0.4658242835437018, 0.4658242835437018, 0.4658242835437018, 0.4658242835437018, 0.4658242835437018, 0.4658242835437018, 0.4658242835437018, 0.4658242835437018, 0.4658242835437018, 0.4658242835437018, 0.4658242835437018, 0.4658242835437018, 0.4658242835437018, 0.4658242835437018, 0.4658242835437018, 0.4658242835437018, 0.4658242835437018, 0.4658242835437018, 0.4658242835437018, 0.4658242835437018, 0.4658242835437018, 0.4658242835437018, 0.4658242835437018, 0.4658242835437018, 0.4658242835437018, 0.4658242835437018, 0.4658242835437018, 0.4658242835437018, 0.4658242835437018, 0.4658242835437018, 0.4658242835437018, 0.4658242835437018, 0.4658242835437018, 0.4658242835437018, 0.4658242835437018, 0.4658242835437018, 0.4658242835437018, 0.4658242835437018, 0.4658242835437018, 0.4658242835437018, 0.4658242835437018, 0.4658242835437018, 0.4658242835437018, 0.4658242835437018, 0.4658242835437018, 0.4658242835437018, 0.4658242835437018, 0.4658242835437018, 0.4658242835437018, 0.4658242835437018, 0.4658242835437018, 0.4658242835437018, 0.4658242835437018, 0.4658242835437018, 0.4658242835437018, 0.4658242835437018, 0.4658242835437018, 0.4658242835437018, 0.4658242835437018, 0.4658242835437018, 0.4658242835437018, 0.4658242835437018, 0.4658242835437018, 0.4658242835437018, 0.4658242835437018, 0.4658242835437018, 0.4658242835437018, 0.4658242835437018, 0.4658242835437018, 0.4658242835437018, 0.4658242835437018, 0.4658242835437018, 0.4658242835437018, 0.4658242835437018, 0.4658242835437018, 0.4658242835437018, 0.4658242835437018, 0.4658242835437018, 0.4658242835437018, 0.4658242835437018, 0.4658242835437018, 0.4658242835437018, 0.4658242835437018, 0.4658242835437018, 0.4658242835437018, 0.4658242835437018, 0.4658242835437018, 0.4658242835437018, 0.4658242835437018, 0.4658242835437018, 0.4658242835437018, 0.4658242835437018, 0.4658242835437018, 0.4658242835437018, 0.4658242835437018, 0.4658242835437018, 0.4658242835437018, 0.4658242835437018, 0.4658242835437018, 0.4658242835437018, 0.4658242835437018, 0.4658242835437018, 0.4658242835437018, 0.4658242835437018, 0.4658242835437018, 0.4658242835437018, 0.4658242835437018, 0.4658242835437018, 0.4658242835437018, 0.4658242835437018, 0.4658242835437018, 0.4658242835437018, 0.4658242835437018, 0.4658242835437018, 0.4658242835437018, 0.4658242835437018, 0.4658242835437018, 0.4658242835437018, 0.4658242835437018, 0.4658242835437018, 0.4658242835437018, 0.4658242835437018, 0.4658242835437018, 0.4658242835437018, 0.4658242835437018, 0.4658242835437018, 0.4658242835437018, 0.4658242835437018, 0.4658242835437018, 0.4658242835437018, 0.4658242835437018, 0.4658242835437018, 0.4658242835437018, 0.4658242835437018, 0.4658242835437018, 0.4658242835437018, 0.4658242835437018, 0.4658242835437018, 0.4658242835437018, 0.4658242835437018, 0.4658242835437018, 0.4658242835437018, 0.4658242835437018, 0.4658242835437018, 0.4658242835437018, 0.4658242835437018, 0.4658242835437018, 0.4658242835437018, 0.4658242835437018, 0.4658242835437018, 0.4658242835437018, 0.4658242835437018, 0.4658242835437018, 0.4658242835437018, 0.4658242835437018, 0.4658242835437018, 0.4658242835437018, 0.4658242835437018, 0.4658242835437018, 0.4658242835437018, 0.4658242835437018, 0.4658242835437018, 0.4658242835437018, 0.4658242835437018, 0.4658242835437018, 0.4658242835437018, 0.4658242835437018, 0.4658242835437018, 0.4658242835437018, 0.4658242835437018, 0.4658242835437018, 0.4658242835437018, 0.4658242835437018, 0.4658242835437018, 0.4658242835437018, 0.4658242835437018, 0.4658242835437018, 0.4658242835437018, 0.4658242835437018, 0.4658242835437018, 0.4658242835437018, 0.4658242835437018, 0.4658242835437018, 0.4658242835437018, 0.4658242835437018, 0.4658242835437018, 0.4658242835437018, 0.4658242835437018, 0.4658242835437018, 0.4658242835437018, 0.4658242835437018, 0.4658242835437018, 0.4658242835437018, 0.4658242835437018, 0.4658242835437018, 0.4658242835437018, 0.4658242835437018, 0.4658242835437018, 0.4658242835437018, 0.4658242835437018, 0.4658242835437018, 0.4658242835437018, 0.4658242835437018, 0.4658242835437018, 0.4658242835437018, 0.4658242835437018, 0.4658242835437018, 0.4658242835437018, 0.4658242835437018, 0.4658242835437018, 0.4658242835437018, 0.4658242835437018, 0.4658242835437018, 0.4658242835437018, 0.4658242835437018, 0.4658242835437018, 0.4658242835437018, 0.4658242835437018, 0.4658242835437018, 0.4658242835437018, 0.4658242835437018, 0.4658242835437018, 0.4658242835437018, 0.4658242835437018, 0.4658242835437018, 0.4658242835437018, 0.4658242835437018, 0.4658242835437018, 0.4658242835437018, 0.4658242835437018, 0.4658242835437018, 0.4658242835437018, 0.4658242835437018, 0.4658242835437018, 0.4658242835437018, 0.4658242835437018, 0.4658242835437018, 0.4658242835437018, 0.4658242835437018, 0.4658242835437018, 0.4658242835437018, 0.4658242835437018, 0.4658242835437018, 0.4658242835437018, 0.4658242835437018, 0.4658242835437018, 0.4658242835437018, 0.4658242835437018, 0.4658242835437018, 0.4658242835437018, 0.4658242835437018, 0.4658242835437018, 0.4658242835437018, 0.4658242835437018, 0.4658242835437018, 0.4658242835437018, 0.4658242835437018, 0.4658242835437018, 0.4658242835437018, 0.4658242835437018, 0.4658242835437018, 0.4658242835437018, 0.4658242835437018, 0.4658242835437018, 0.4658242835437018, 0.4658242835437018, 0.4658242835437018, 0.4658242835437018, 0.4658242835437018, 0.4658242835437018, 0.4658242835437018, 0.4658242835437018, 0.4658242835437018, 0.4658242835437018, 0.4658242835437018, 0.4658242835437018, 0.4658242835437018, 0.4658242835437018, 0.4658242835437018, 0.4658242835437018, 0.4658242835437018, 0.4658242835437018, 0.4658242835437018, 0.4658242835437018, 0.4658242835437018, 0.4658242835437018, 0.4658242835437018, 0.4658242835437018, 0.4658242835437018, 0.4658242835437018, 0.4658242835437018, 0.4658242835437018, 0.4658242835437018, 0.4658242835437018, 0.4658242835437018, 0.4658242835437018, 0.4658242835437018, 0.4658242835437018, 0.4658242835437018, 0.4658242835437018, 0.4658242835437018, 0.4658242835437018, 0.4658242835437018, 0.4658242835437018, 0.4658242835437018, 0.4658242835437018, 0.4658242835437018, 0.4658242835437018, 0.4658242835437018, 0.4658242835437018, 0.4658242835437018, 0.4658242835437018, 0.4658242835437018, 0.4658242835437018, 0.4658242835437018, 0.4658242835437018, 0.4658242835437018, 0.4658242835437018, 0.4658242835437018, 0.4658242835437018, 0.4658242835437018, 0.4658242835437018, 0.4658242835437018, 0.4658242835437018, 0.4658242835437018, 0.4658242835437018, 0.4658242835437018, 0.4658242835437018, 0.4658242835437018, 0.4658242835437018, 0.4658242835437018, 0.4658242835437018, 0.4658242835437018, 0.4658242835437018, 0.4658242835437018, 0.4658242835437018, 0.4658242835437018, 0.4658242835437018, 0.4658242835437018, 0.4658242835437018, 0.4658242835437018, 0.4658242835437018, 0.4658242835437018, 0.4658242835437018, 0.4658242835437018, 0.4658242835437018, 0.4658242835437018, 0.4658242835437018, 0.4658242835437018, 0.4658242835437018, 0.4658242835437018, 0.4658242835437018, 0.4658242835437018, 0.4658242835437018, 0.4658242835437018, 0.4658242835437018, 0.4658242835437018, 0.4658242835437018, 0.4658242835437018, 0.4658242835437018, 0.4658242835437018, 0.4658242835437018, 0.4658242835437018, 0.4658242835437018, 0.4658242835437018, 0.4658242835437018, 0.4658242835437018, 0.4658242835437018, 0.4658242835437018, 0.4658242835437018, 0.4658242835437018, 0.4658242835437018, 0.4658242835437018, 0.4658242835437018, 0.4658242835437018, 0.4658242835437018, 0.4658242835437018, 0.4658242835437018, 0.4658242835437018, 0.4658242835437018, 0.4658242835437018, 0.4658242835437018, 0.4658242835437018, 0.4658242835437018, 0.4658242835437018, 0.4658242835437018, 0.4658242835437018, 0.4658242835437018, 0.4658242835437018, 0.4658242835437018, 0.4658242835437018, 0.4658242835437018, 0.4658242835437018, 0.4658242835437018, 0.4658242835437018, 0.4658242835437018, 0.4658242835437018, 0.4658242835437018, 0.4658242835437018, 0.4658242835437018, 0.4658242835437018, 0.4658242835437018, 0.4658242835437018, 0.4658242835437018, 0.4658242835437018, 0.4658242835437018, 0.4658242835437018, 0.4658242835437018, 0.4658242835437018, 0.4658242835437018, 0.4658242835437018, 0.4658242835437018, 0.4658242835437018, 0.4658242835437018, 0.4658242835437018, 0.4658242835437018, 0.4658242835437018, 0.4658242835437018, 0.4658242835437018, 0.4658242835437018, 0.4658242835437018, 0.4658242835437018, 0.4658242835437018, 0.4658242835437018, 0.4658242835437018, 0.4658242835437018, 0.4658242835437018, 0.4658242835437018, 0.4658242835437018, 0.4658242835437018, 0.4658242835437018, 0.4658242835437018, 0.4658242835437018, 0.4658242835437018, 0.4658242835437018, 0.4658242835437018, 0.4658242835437018, 0.4658242835437018, 0.4658242835437018, 0.4658242835437018, 0.4658242835437018, 0.4658242835437018, 0.4658242835437018, 0.4658242835437018, 0.4658242835437018, 0.4658242835437018, 0.4658242835437018, 0.4658242835437018, 0.4658242835437018, 0.4658242835437018, 0.4658242835437018, 0.4658242835437018, 0.4658242835437018, 0.4658242835437018, 0.4658242835437018, 0.4658242835437018, 0.4658242835437018, 0.4658242835437018, 0.4658242835437018, 0.4658242835437018, 0.4658242835437018, 0.4658242835437018, 0.4658242835437018, 0.4658242835437018, 0.4658242835437018, 0.4658242835437018, 0.4658242835437018, 0.4658242835437018, 0.4658242835437018, 0.4658242835437018, 0.4658242835437018, 0.4658242835437018, 0.4658242835437018, 0.4658242835437018, 0.4658242835437018, 0.4658242835437018, 0.4658242835437018, 0.4658242835437018, 0.4658242835437018, 0.4658242835437018, 0.4658242835437018, 0.4658242835437018, 0.4658242835437018, 0.4658242835437018, 0.4658242835437018, 0.4658242835437018, 0.4658242835437018, 0.4658242835437018, 0.4658242835437018, 0.4658242835437018, 0.4658242835437018, 0.4658242835437018, 0.4658242835437018, 0.4658242835437018, 0.4658242835437018, 0.4658242835437018, 0.4658242835437018, 0.4658242835437018, 0.4658242835437018, 0.4658242835437018, 0.4658242835437018, 0.4658242835437018, 0.4658242835437018, 0.4658242835437018, 0.4658242835437018, 0.4658242835437018, 0.4658242835437018, 0.4658242835437018, 0.4658242835437018, 0.4658242835437018, 0.4658242835437018, 0.4658242835437018, 0.4658242835437018, 0.4658242835437018, 0.4658242835437018, 0.4658242835437018, 0.4658242835437018, 0.4658242835437018, 0.4658242835437018, 0.4658242835437018, 0.4658242835437018, 0.4658242835437018, 0.4658242835437018, 0.4658242835437018, 0.4658242835437018, 0.4658242835437018, 0.4658242835437018, 0.4658242835437018, 0.4658242835437018, 0.4658242835437018, 0.4658242835437018, 0.4658242835437018, 0.4658242835437018, 0.4658242835437018, 0.4658242835437018, 0.4658242835437018, 0.4658242835437018, 0.4658242835437018, 0.4658242835437018, 0.4658242835437018, 0.4658242835437018, 0.4658242835437018, 0.4658242835437018, 0.4658242835437018, 0.4658242835437018, 0.4658242835437018, 0.4658242835437018, 0.4658242835437018, 0.4658242835437018, 0.4658242835437018, 0.4658242835437018, 0.4658242835437018, 0.4658242835437018, 0.4658242835437018, 0.4658242835437018, 0.4658242835437018, 0.4658242835437018, 0.4658242835437018, 0.4658242835437018, 0.4658242835437018, 0.4658242835437018, 0.4658242835437018, 0.4658242835437018, 0.4658242835437018, 0.4658242835437018, 0.4658242835437018, 0.4658242835437018, 0.4658242835437018, 0.4658242835437018, 0.4658242835437018, 0.4658242835437018, 0.4658242835437018, 0.4658242835437018, 0.4658242835437018, 0.4658242835437018, 0.4658242835437018, 0.4658242835437018, 0.4658242835437018, 0.4658242835437018, 0.4658242835437018, 0.4658242835437018, 0.4658242835437018, 0.4658242835437018, 0.4658242835437018, 0.4658242835437018, 0.4658242835437018, 0.4658242835437018, 0.4658242835437018, 0.4658242835437018, 0.4658242835437018, 0.4658242835437018, 0.4658242835437018, 0.4658242835437018, 0.4658242835437018, 0.4658242835437018, 0.4658242835437018, 0.4658242835437018, 0.4658242835437018, 0.4658242835437018, 0.4658242835437018, 0.4658242835437018, 0.4658242835437018, 0.4658242835437018, 0.4658242835437018, 0.4658242835437018, 0.4658242835437018, 0.4658242835437018, 0.4658242835437018, 0.4658242835437018, 0.4658242835437018, 0.4658242835437018, 0.4658242835437018, 0.4658242835437018, 0.4658242835437018, 0.4658242835437018, 0.4658242835437018, 0.4658242835437018, 0.4658242835437018, 0.4658242835437018, 0.4658242835437018, 0.4658242835437018, 0.4658242835437018, 0.4658242835437018, 0.4658242835437018, 0.4658242835437018, 0.4658242835437018, 0.4658242835437018, 0.4658242835437018, 0.4658242835437018, 0.4658242835437018, 0.4658242835437018, 0.4658242835437018, 0.4658242835437018, 0.4658242835437018, 0.4658242835437018, 0.4658242835437018, 0.4658242835437018, 0.4658242835437018, 0.4658242835437018, 0.4658242835437018, 0.4658242835437018, 0.4658242835437018, 0.4658242835437018, 0.4658242835437018, 0.4658242835437018, 0.4658242835437018, 0.4658242835437018, 0.4658242835437018, 0.4658242835437018, 0.4658242835437018, 0.4658242835437018, 0.4658242835437018, 0.4658242835437018, 0.4658242835437018, 0.4658242835437018, 0.4658242835437018, 0.4658242835437018, 0.4658242835437018, 0.4658242835437018, 0.4658242835437018, 0.4658242835437018, 0.4658242835437018, 0.4658242835437018, 0.4658242835437018, 0.4658242835437018, 0.4658242835437018, 0.4658242835437018, 0.4658242835437018, 0.4658242835437018, 0.4658242835437018, 0.4658242835437018, 0.4658242835437018, 0.4658242835437018, 0.4658242835437018, 0.4658242835437018, 0.4658242835437018, 0.4658242835437018, 0.4658242835437018, 0.4658242835437018, 0.4658242835437018, 0.4658242835437018, 0.4658242835437018, 0.4658242835437018, 0.4658242835437018, 0.4658242835437018, 0.4658242835437018, 0.4658242835437018, 0.4658242835437018, 0.4658242835437018, 0.4658242835437018, 0.4658242835437018, 0.4658242835437018, 0.4658242835437018, 0.4658242835437018, 0.4658242835437018, 0.4658242835437018, 0.4658242835437018, 0.4658242835437018, 0.4658242835437018, 0.4658242835437018, 0.4658242835437018, 0.4658242835437018, 0.4658242835437018, 0.4658242835437018, 0.4658242835437018, 0.4658242835437018, 0.4658242835437018, 0.4658242835437018, 0.4658242835437018, 0.4658242835437018, 0.4658242835437018, 0.4658242835437018, 0.4658242835437018, 0.4658242835437018, 0.4658242835437018, 0.4658242835437018, 0.4658242835437018, 0.4658242835437018, 0.4658242835437018, 0.4658242835437018, 0.4658242835437018, 0.4658242835437018, 0.4658242835437018, 0.4658242835437018, 0.4658242835437018, 0.4658242835437018, 0.4658242835437018, 0.4658242835437018, 0.4658242835437018, 0.4658242835437018, 0.4658242835437018, 0.4658242835437018, 0.4658242835437018, 0.4658242835437018, 0.4658242835437018, 0.4658242835437018, 0.4658242835437018, 0.4658242835437018, 0.4658242835437018, 0.4658242835437018, 0.4658242835437018, 0.4658242835437018, 0.4658242835437018, 0.4658242835437018, 0.4658242835437018, 0.4658242835437018, 0.4658242835437018, 0.4658242835437018, 0.4658242835437018, 0.4658242835437018, 0.4658242835437018, 0.4658242835437018, 0.4658242835437018, 0.4658242835437018, 0.4658242835437018, 0.4658242835437018, 0.4658242835437018, 0.4658242835437018, 0.4658242835437018, 0.4658242835437018, 0.4658242835437018, 0.4658242835437018, 0.4658242835437018, 0.4658242835437018, 0.4658242835437018, 0.4658242835437018, 0.4658242835437018, 0.4658242835437018, 0.4658242835437018, 0.4658242835437018, 0.4658242835437018, 0.4658242835437018, 0.4658242835437018, 0.4658242835437018, 0.4658242835437018, 0.4658242835437018, 0.4658242835437018, 0.4658242835437018, 0.4658242835437018, 0.4658242835437018, 0.4658242835437018, 0.4658242835437018, 0.4658242835437018, 0.4658242835437018, 0.4658242835437018, 0.4658242835437018, 0.4658242835437018, 0.4658242835437018, 0.4658242835437018, 0.4658242835437018, 0.4658242835437018, 0.4658242835437018, 0.4658242835437018, 0.4658242835437018, 0.4658242835437018, 0.4658242835437018, 0.4658242835437018, 0.4658242835437018, 0.4658242835437018, 0.4658242835437018, 0.4658242835437018, 0.4658242835437018, 0.4658242835437018, 0.4658242835437018, 0.4658242835437018, 0.4658242835437018, 0.4658242835437018, 0.4658242835437018, 0.4658242835437018, 0.4658242835437018, 0.4658242835437018, 0.4658242835437018, 0.4658242835437018, 0.4658242835437018, 0.4658242835437018, 0.4658242835437018, 0.4658242835437018, 0.4658242835437018, 0.4658242835437018, 0.4658242835437018, 0.4658242835437018, 0.4658242835437018, 0.4658242835437018, 0.4658242835437018, 0.4658242835437018, 0.4658242835437018, 0.4658242835437018, 0.4658242835437018, 0.4658242835437018, 0.4658242835437018, 0.4658242835437018, 0.4658242835437018, 0.4658242835437018, 0.4658242835437018, 0.4658242835437018, 0.4658242835437018, 0.4658242835437018, 0.4658242835437018, 0.4658242835437018, 0.4658242835437018, 0.4658242835437018, 0.4658242835437018, 0.4658242835437018, 0.4658242835437018, 0.4658242835437018, 0.4658242835437018, 0.4658242835437018, 0.4658242835437018, 0.4658242835437018, 0.4658242835437018, 0.4658242835437018, 0.4658242835437018, 0.4658242835437018, 0.4658242835437018, 0.4658242835437018, 0.4658242835437018, 0.4658242835437018, 0.4658242835437018, 0.4658242835437018, 0.4658242835437018, 0.4658242835437018, 0.4658242835437018, 0.4658242835437018, 0.4658242835437018, 0.4658242835437018, 0.4658242835437018, 0.4658242835437018, 0.4658242835437018, 0.4658242835437018, 0.4658242835437018, 0.4658242835437018, 0.4658242835437018, 0.4658242835437018, 0.4658242835437018, 0.4658242835437018, 0.4658242835437018, 0.4658242835437018, 0.4658242835437018, 0.4658242835437018, 0.4658242835437018, 0.4658242835437018, 0.4658242835437018, 0.4658242835437018, 0.4658242835437018, 0.4658242835437018, 0.4658242835437018, 0.4658242835437018, 0.4658242835437018, 0.4658242835437018, 0.4658242835437018, 0.4658242835437018, 0.4658242835437018, 0.4658242835437018, 0.4658242835437018, 0.4658242835437018, 0.4658242835437018, 0.4658242835437018, 0.4658242835437018, 0.4658242835437018, 0.4658242835437018, 0.4658242835437018, 0.4658242835437018, 0.4658242835437018, 0.4658242835437018, 0.4658242835437018, 0.4658242835437018, 0.4658242835437018, 0.4658242835437018, 0.4658242835437018, 0.4658242835437018, 0.4658242835437018, 0.4658242835437018, 0.4658242835437018, 0.4658242835437018, 0.4658242835437018, 0.4658242835437018, 0.4658242835437018, 0.4658242835437018, 0.4658242835437018, 0.4658242835437018, 0.4658242835437018, 0.4658242835437018, 0.4658242835437018, 0.4658242835437018, 0.4658242835437018, 0.4658242835437018, 0.4658242835437018, 0.4658242835437018, 0.4658242835437018, 0.4658242835437018, 0.4658242835437018, 0.4658242835437018, 0.4658242835437018, 0.4658242835437018, 0.4658242835437018, 0.4658242835437018, 0.4658242835437018, 0.4658242835437018, 0.4658242835437018, 0.4658242835437018, 0.4658242835437018, 0.4658242835437018, 0.4658242835437018, 0.4658242835437018, 0.4658242835437018, 0.4658242835437018, 0.4658242835437018, 0.4658242835437018, 0.4658242835437018, 0.4658242835437018, 0.4658242835437018, 0.4658242835437018, 0.4658242835437018, 0.4658242835437018, 0.4658242835437018, 0.4658242835437018, 0.4658242835437018, 0.4658242835437018, 0.4658242835437018, 0.4658242835437018, 0.4658242835437018, 0.4658242835437018, 0.4658242835437018, 0.4658242835437018, 0.4658242835437018, 0.4658242835437018, 0.4658242835437018, 0.4658242835437018, 0.4658242835437018, 0.4658242835437018, 0.4658242835437018, 0.4658242835437018, 0.4658242835437018, 0.4658242835437018, 0.4658242835437018, 0.4658242835437018, 0.4658242835437018, 0.4658242835437018, 0.4658242835437018, 0.4658242835437018, 0.4658242835437018, 0.4658242835437018, 0.4658242835437018, 0.4658242835437018, 0.4658242835437018, 0.4658242835437018, 0.4658242835437018, 0.4658242835437018, 0.4658242835437018, 0.4658242835437018, 0.4658242835437018, 0.4658242835437018, 0.4658242835437018, 0.4658242835437018, 0.4658242835437018, 0.4658242835437018, 0.4658242835437018, 0.4658242835437018, 0.4658242835437018, 0.4658242835437018, 0.4658242835437018, 0.4658242835437018, 0.4658242835437018, 0.4658242835437018, 0.4658242835437018, 0.4658242835437018, 0.4658242835437018, 0.4658242835437018, 0.4658242835437018, 0.4658242835437018, 0.4658242835437018, 0.4658242835437018, 0.4658242835437018, 0.4658242835437018, 0.4658242835437018, 0.4658242835437018, 0.4658242835437018, 0.4658242835437018, 0.4658242835437018, 0.4658242835437018, 0.4658242835437018, 0.4658242835437018, 0.4658242835437018, 0.4658242835437018, 0.4658242835437018, 0.4658242835437018, 0.4658242835437018, 0.4658242835437018, 0.4658242835437018, 0.4658242835437018, 0.4658242835437018, 0.4658242835437018, 0.4658242835437018, 0.4658242835437018, 0.4658242835437018, 0.4658242835437018, 0.4658242835437018, 0.4658242835437018, 0.4658242835437018, 0.4658242835437018, 0.4658242835437018, 0.4658242835437018, 0.4658242835437018, 0.4658242835437018, 0.4658242835437018, 0.4658242835437018, 0.4658242835437018, 0.4658242835437018, 0.4658242835437018, 0.4658242835437018, 0.4658242835437018, 0.4658242835437018, 0.4658242835437018, 0.4658242835437018, 0.4658242835437018, 0.4658242835437018, 0.4658242835437018, 0.4658242835437018, 0.4658242835437018, 0.4658242835437018, 0.4658242835437018, 0.4658242835437018, 0.4658242835437018, 0.4658242835437018, 0.4658242835437018, 0.4658242835437018, 0.4658242835437018, 0.4658242835437018, 0.4658242835437018, 0.4658242835437018, 0.4658242835437018, 0.4658242835437018, 0.4658242835437018, 0.4658242835437018, 0.4658242835437018, 0.4658242835437018, 0.4658242835437018, 0.4658242835437018, 0.4658242835437018, 0.4658242835437018, 0.4658242835437018, 0.4658242835437018, 0.4658242835437018, 0.4658242835437018, 0.4658242835437018, 0.4658242835437018, 0.4658242835437018, 0.4658242835437018, 0.4658242835437018, 0.4658242835437018, 0.4658242835437018, 0.4658242835437018, 0.4658242835437018, 0.4658242835437018, 0.4658242835437018, 0.4658242835437018, 0.4658242835437018, 0.4658242835437018, 0.4658242835437018, 0.4658242835437018, 0.4658242835437018, 0.4658242835437018, 0.4658242835437018, 0.4658242835437018, 0.4658242835437018, 0.4658242835437018, 0.4658242835437018, 0.4658242835437018, 0.4658242835437018, 0.4658242835437018, 0.4658242835437018, 0.4658242835437018, 0.4658242835437018, 0.4658242835437018, 0.4658242835437018, 0.4658242835437018, 0.4658242835437018, 0.4658242835437018, 0.4658242835437018, 0.4658242835437018, 0.4658242835437018, 0.4658242835437018, 0.4658242835437018, 0.4658242835437018, 0.4658242835437018, 0.4658242835437018, 0.4658242835437018, 0.4658242835437018, 0.4658242835437018, 0.4658242835437018, 0.4658242835437018, 0.4658242835437018, 0.4658242835437018, 0.4658242835437018, 0.4658242835437018, 0.4658242835437018, 0.4658242835437018, 0.4658242835437018, 0.4658242835437018, 0.4658242835437018, 0.4658242835437018, 0.4658242835437018, 0.4658242835437018, 0.4658242835437018, 0.4658242835437018, 0.4658242835437018, 0.4658242835437018, 0.4658242835437018, 0.4658242835437018, 0.4658242835437018, 0.4658242835437018, 0.4658242835437018, 0.4658242835437018, 0.4658242835437018, 0.4658242835437018, 0.4658242835437018, 0.4658242835437018, 0.4658242835437018, 0.4658242835437018, 0.4658242835437018, 0.4658242835437018, 0.4658242835437018, 0.4658242835437018, 0.4658242835437018, 0.4658242835437018, 0.4658242835437018, 0.4658242835437018, 0.4658242835437018, 0.4658242835437018, 0.4658242835437018, 0.4658242835437018, 0.4658242835437018, 0.4658242835437018, 0.4658242835437018, 0.4658242835437018, 0.4658242835437018, 0.4658242835437018, 0.4658242835437018, 0.4658242835437018, 0.4658242835437018, 0.4658242835437018, 0.4658242835437018, 0.4658242835437018, 0.4658242835437018, 0.4658242835437018, 0.4658242835437018, 0.4658242835437018, 0.4658242835437018, 0.4658242835437018, 0.4658242835437018, 0.4658242835437018, 0.4658242835437018, 0.4658242835437018, 0.4658242835437018, 0.4658242835437018, 0.4658242835437018, 0.4658242835437018, 0.4658242835437018, 0.4658242835437018, 0.4658242835437018, 0.4658242835437018, 0.4658242835437018, 0.4658242835437018, 0.4658242835437018, 0.4658242835437018, 0.4658242835437018, 0.4658242835437018, 0.4658242835437018, 0.4658242835437018, 0.4658242835437018, 0.4658242835437018, 0.4658242835437018, 0.4658242835437018, 0.4658242835437018, 0.4658242835437018, 0.4658242835437018, 0.4658242835437018, 0.4658242835437018, 0.4658242835437018, 0.4658242835437018, 0.4658242835437018, 0.4658242835437018, 0.4658242835437018, 0.4658242835437018, 0.4658242835437018, 0.4658242835437018, 0.4658242835437018, 0.4658242835437018, 0.4658242835437018, 0.4658242835437018, 0.4658242835437018, 0.4658242835437018, 0.4658242835437018, 0.4658242835437018, 0.4658242835437018, 0.4658242835437018, 0.4658242835437018, 0.4658242835437018, 0.4658242835437018, 0.4658242835437018, 0.4658242835437018, 0.4658242835437018, 0.4658242835437018, 0.4658242835437018, 0.4658242835437018, 0.4658242835437018, 0.4658242835437018, 0.4658242835437018, 0.4658242835437018, 0.4658242835437018, 0.4658242835437018, 0.4658242835437018, 0.4658242835437018, 0.4658242835437018, 0.4658242835437018, 0.4658242835437018, 0.4658242835437018, 0.4658242835437018, 0.4658242835437018, 0.4658242835437018, 0.4658242835437018, 0.4658242835437018, 0.4658242835437018, 0.4658242835437018, 0.4658242835437018, 0.4658242835437018, 0.4658242835437018, 0.4658242835437018, 0.4658242835437018, 0.4658242835437018, 0.4658242835437018, 0.4658242835437018, 0.4658242835437018, 0.4658242835437018, 0.4658242835437018, 0.4658242835437018, 0.4658242835437018, 0.4658242835437018, 0.4658242835437018, 0.4658242835437018, 0.4658242835437018, 0.4658242835437018, 0.4658242835437018, 0.4658242835437018, 0.4658242835437018, 0.4658242835437018, 0.4658242835437018, 0.4658242835437018, 0.4658242835437018, 0.4658242835437018, 0.4658242835437018, 0.4658242835437018, 0.4658242835437018, 0.4658242835437018, 0.4658242835437018, 0.4658242835437018, 0.4658242835437018, 0.4658242835437018, 0.4658242835437018, 0.4658242835437018, 0.4658242835437018, 0.4658242835437018, 0.4658242835437018, 0.4658242835437018, 0.4658242835437018, 0.4658242835437018, 0.4658242835437018, 0.4658242835437018, 0.4658242835437018, 0.4658242835437018, 0.4658242835437018, 0.4658242835437018, 0.4658242835437018, 0.4658242835437018, 0.4658242835437018, 0.4658242835437018, 0.4658242835437018, 0.4658242835437018, 0.4658242835437018, 0.4658242835437018, 0.4658242835437018, 0.4658242835437018, 0.4658242835437018, 0.4658242835437018, 0.4658242835437018, 0.4658242835437018, 0.4658242835437018, 0.4658242835437018, 0.4658242835437018, 0.4658242835437018, 0.4658242835437018, 0.4658242835437018, 0.4658242835437018, 0.4658242835437018, 0.4658242835437018, 0.4658242835437018, 0.4658242835437018, 0.4658242835437018, 0.4658242835437018, 0.4658242835437018, 0.4658242835437018, 0.4658242835437018, 0.4658242835437018, 0.4658242835437018, 0.4658242835437018, 0.4658242835437018, 0.4658242835437018, 0.4658242835437018, 0.4658242835437018, 0.4658242835437018, 0.4658242835437018, 0.4658242835437018, 0.4658242835437018, 0.4658242835437018, 0.4658242835437018, 0.4658242835437018, 0.4658242835437018, 0.4658242835437018, 0.4658242835437018, 0.4658242835437018, 0.4658242835437018, 0.4658242835437018, 0.4658242835437018, 0.4658242835437018, 0.4658242835437018, 0.4658242835437018, 0.4658242835437018, 0.4658242835437018, 0.4658242835437018, 0.4658242835437018, 0.4658242835437018, 0.4658242835437018, 0.4658242835437018, 0.4658242835437018, 0.4658242835437018, 0.4658242835437018, 0.4658242835437018, 0.4658242835437018, 0.4658242835437018, 0.4658242835437018, 0.4658242835437018, 0.4658242835437018, 0.4658242835437018, 0.4658242835437018, 0.4658242835437018, 0.4658242835437018, 0.4658242835437018, 0.4658242835437018, 0.4658242835437018, 0.4658242835437018, 0.4658242835437018, 0.4658242835437018, 0.4658242835437018, 0.4658242835437018, 0.4658242835437018, 0.4658242835437018, 0.4658242835437018, 0.4658242835437018, 0.4658242835437018, 0.4658242835437018, 0.4658242835437018, 0.4658242835437018, 0.4658242835437018, 0.4658242835437018, 0.4658242835437018, 0.4658242835437018, 0.4658242835437018, 0.4658242835437018, 0.4658242835437018, 0.4658242835437018, 0.4658242835437018, 0.4658242835437018, 0.4658242835437018, 0.4658242835437018, 0.4658242835437018, 0.4658242835437018, 0.4658242835437018, 0.4658242835437018, 0.4658242835437018, 0.4658242835437018, 0.4658242835437018, 0.4658242835437018, 0.4658242835437018, 0.4658242835437018, 0.4658242835437018, 0.4658242835437018, 0.4658242835437018, 0.4658242835437018, 0.4658242835437018, 0.4658242835437018, 0.4658242835437018, 0.4658242835437018, 0.4658242835437018, 0.4658242835437018, 0.4658242835437018, 0.4658242835437018, 0.4658242835437018, 0.4658242835437018, 0.4658242835437018, 0.4658242835437018, 0.4658242835437018, 0.4658242835437018, 0.4658242835437018, 0.4658242835437018, 0.4658242835437018, 0.4658242835437018, 0.4658242835437018, 0.4658242835437018, 0.4658242835437018, 0.4658242835437018, 0.4658242835437018, 0.4658242835437018, 0.4658242835437018, 0.4658242835437018, 0.4658242835437018, 0.4658242835437018, 0.4658242835437018, 0.4658242835437018, 0.4658242835437018, 0.4658242835437018, 0.4658242835437018, 0.4658242835437018, 0.4658242835437018, 0.4658242835437018, 0.4658242835437018, 0.4658242835437018, 0.4658242835437018, 0.4658242835437018, 0.4658242835437018, 0.4658242835437018, 0.4658242835437018, 0.4658242835437018, 0.4658242835437018, 0.4658242835437018, 0.4658242835437018, 0.4658242835437018, 0.4658242835437018, 0.4658242835437018, 0.4658242835437018, 0.4658242835437018, 0.4658242835437018, 0.4658242835437018, 0.4658242835437018, 0.4658242835437018, 0.4658242835437018, 0.4658242835437018, 0.4658242835437018, 0.4658242835437018, 0.4658242835437018, 0.4658242835437018, 0.4658242835437018, 0.4658242835437018, 0.4658242835437018, 0.4658242835437018, 0.4658242835437018, 0.4658242835437018, 0.4658242835437018, 0.4658242835437018, 0.4658242835437018, 0.4658242835437018, 0.4658242835437018, 0.4658242835437018, 0.4658242835437018, 0.4658242835437018, 0.4658242835437018, 0.4658242835437018, 0.4658242835437018, 0.4658242835437018, 0.4658242835437018, 0.4658242835437018, 0.4658242835437018, 0.4658242835437018, 0.4658242835437018, 0.4658242835437018, 0.4658242835437018, 0.4658242835437018, 0.4658242835437018, 0.4658242835437018, 0.4658242835437018, 0.4658242835437018, 0.4658242835437018, 0.4658242835437018, 0.4658242835437018, 0.4658242835437018, 0.4658242835437018, 0.4658242835437018, 0.4658242835437018, 0.4658242835437018, 0.4658242835437018, 0.4658242835437018, 0.4658242835437018, 0.4658242835437018, 0.4658242835437018, 0.4658242835437018, 0.4658242835437018, 0.4658242835437018, 0.4658242835437018, 0.4658242835437018, 0.4658242835437018, 0.4658242835437018, 0.4658242835437018, 0.4658242835437018, 0.4658242835437018, 0.4658242835437018, 0.4658242835437018, 0.4658242835437018, 0.4658242835437018, 0.4658242835437018, 0.4658242835437018, 0.4658242835437018, 0.4658242835437018, 0.4658242835437018, 0.4658242835437018, 0.4658242835437018, 0.4658242835437018, 0.4658242835437018, 0.4658242835437018, 0.4658242835437018, 0.4658242835437018, 0.4658242835437018, 0.4658242835437018, 0.4658242835437018, 0.4658242835437018, 0.4658242835437018, 0.4658242835437018, 0.4658242835437018, 0.4658242835437018, 0.4658242835437018, 0.4658242835437018, 0.4658242835437018, 0.4658242835437018, 0.4658242835437018, 0.4658242835437018, 0.4658242835437018, 0.4658242835437018, 0.4658242835437018, 0.4658242835437018, 0.4658242835437018, 0.4658242835437018, 0.4658242835437018, 0.4658242835437018, 0.4658242835437018, 0.4658242835437018, 0.4658242835437018, 0.4658242835437018, 0.4658242835437018, 0.4658242835437018, 0.4658242835437018, 0.4658242835437018, 0.4658242835437018, 0.4658242835437018, 0.4658242835437018, 0.4658242835437018, 0.4658242835437018, 0.4658242835437018, 0.4658242835437018, 0.4658242835437018, 0.4658242835437018, 0.4658242835437018, 0.4658242835437018, 0.4658242835437018, 0.4658242835437018, 0.4658242835437018, 0.4658242835437018, 0.4658242835437018, 0.4658242835437018, 0.4658242835437018, 0.4658242835437018, 0.4658242835437018, 0.4658242835437018, 0.4658242835437018, 0.4658242835437018, 0.4658242835437018, 0.4658242835437018, 0.4658242835437018, 0.4658242835437018, 0.4658242835437018, 0.4658242835437018, 0.4658242835437018, 0.4658242835437018, 0.4658242835437018, 0.4658242835437018, 0.4658242835437018, 0.4658242835437018, 0.4658242835437018, 0.4658242835437018, 0.4658242835437018, 0.4658242835437018, 0.4658242835437018, 0.4658242835437018, 0.4658242835437018, 0.4658242835437018, 0.4658242835437018, 0.4658242835437018, 0.4658242835437018, 0.4658242835437018, 0.4658242835437018, 0.4658242835437018, 0.4658242835437018, 0.4658242835437018, 0.4658242835437018, 0.4658242835437018, 0.4658242835437018, 0.4658242835437018, 0.4658242835437018, 0.4658242835437018, 0.4658242835437018, 0.4658242835437018, 0.4658242835437018, 0.4658242835437018, 0.4658242835437018, 0.4658242835437018, 0.4658242835437018, 0.4658242835437018, 0.4658242835437018, 0.4658242835437018, 0.4658242835437018, 0.4658242835437018, 0.4658242835437018, 0.4658242835437018, 0.4658242835437018, 0.4658242835437018, 0.4658242835437018, 0.4658242835437018, 0.4658242835437018, 0.4658242835437018, 0.4658242835437018, 0.4658242835437018, 0.4658242835437018, 0.4658242835437018, 0.4658242835437018, 0.4658242835437018, 0.4658242835437018, 0.4658242835437018, 0.4658242835437018, 0.4658242835437018, 0.4658242835437018, 0.4658242835437018, 0.4658242835437018, 0.4658242835437018, 0.4658242835437018, 0.4658242835437018, 0.4658242835437018, 0.4658242835437018, 0.4658242835437018, 0.4658242835437018, 0.4658242835437018, 0.4658242835437018, 0.4658242835437018, 0.4658242835437018, 0.4658242835437018, 0.4658242835437018, 0.4658242835437018, 0.4658242835437018, 0.4658242835437018, 0.4658242835437018, 0.4658242835437018, 0.4658242835437018, 0.4658242835437018, 0.4658242835437018, 0.4658242835437018, 0.4658242835437018, 0.4658242835437018, 0.4658242835437018, 0.4658242835437018, 0.4658242835437018, 0.4658242835437018, 0.4658242835437018, 0.4658242835437018, 0.4658242835437018, 0.4658242835437018, 0.4658242835437018, 0.4658242835437018, 0.4658242835437018, 0.4658242835437018, 0.4658242835437018, 0.4658242835437018, 0.4658242835437018, 0.4658242835437018, 0.4658242835437018, 0.4658242835437018, 0.4658242835437018, 0.4658242835437018, 0.4658242835437018, 0.4658242835437018, 0.4658242835437018, 0.4658242835437018, 0.4658242835437018, 0.4658242835437018, 0.4658242835437018, 0.4658242835437018, 0.4658242835437018, 0.4658242835437018, 0.4658242835437018, 0.4658242835437018, 0.4658242835437018, 0.4658242835437018, 0.4658242835437018, 0.4658242835437018, 0.4658242835437018, 0.4658242835437018, 0.4658242835437018, 0.4658242835437018, 0.4658242835437018, 0.4658242835437018, 0.4658242835437018, 0.4658242835437018, 0.4658242835437018, 0.4658242835437018, 0.4658242835437018, 0.4658242835437018, 0.4658242835437018, 0.4658242835437018, 0.4658242835437018, 0.4658242835437018, 0.4658242835437018, 0.4658242835437018, 0.4658242835437018, 0.4658242835437018, 0.4658242835437018, 0.4658242835437018, 0.4658242835437018, 0.4658242835437018, 0.4658242835437018, 0.4658242835437018, 0.4658242835437018, 0.4658242835437018, 0.4658242835437018, 0.4658242835437018, 0.4658242835437018, 0.4658242835437018, 0.4658242835437018, 0.4658242835437018, 0.4658242835437018, 0.4658242835437018, 0.4658242835437018, 0.4658242835437018, 0.4658242835437018, 0.4658242835437018, 0.4658242835437018, 0.4658242835437018, 0.4658242835437018, 0.4658242835437018, 0.4658242835437018, 0.4658242835437018, 0.4658242835437018, 0.4658242835437018, 0.4658242835437018, 0.4658242835437018, 0.4658242835437018, 0.4658242835437018, 0.4658242835437018, 0.4658242835437018, 0.4658242835437018, 0.4658242835437018, 0.4658242835437018, 0.4658242835437018, 0.4658242835437018, 0.4658242835437018, 0.4658242835437018, 0.4658242835437018, 0.4658242835437018, 0.4658242835437018, 0.4658242835437018, 0.4658242835437018, 0.4658242835437018, 0.4658242835437018, 0.4658242835437018, 0.4658242835437018, 0.4658242835437018, 0.4658242835437018, 0.4658242835437018, 0.4658242835437018, 0.4658242835437018, 0.4658242835437018, 0.4658242835437018, 0.4658242835437018, 0.4658242835437018, 0.4658242835437018, 0.4658242835437018, 0.4658242835437018, 0.4658242835437018, 0.4658242835437018, 0.4658242835437018, 0.4658242835437018, 0.4658242835437018, 0.4658242835437018, 0.4658242835437018, 0.4658242835437018, 0.4658242835437018, 0.4658242835437018, 0.4658242835437018, 0.4658242835437018, 0.4658242835437018, 0.4658242835437018, 0.4658242835437018, 0.4658242835437018, 0.4658242835437018, 0.4658242835437018, 0.4658242835437018, 0.4658242835437018, 0.4658242835437018, 0.4658242835437018, 0.4658242835437018, 0.4658242835437018, 0.4658242835437018, 0.4658242835437018, 0.4658242835437018, 0.4658242835437018, 0.4658242835437018, 0.4658242835437018, 0.4658242835437018, 0.4658242835437018, 0.4658242835437018, 0.4658242835437018, 0.4658242835437018, 0.4658242835437018, 0.4658242835437018, 0.4658242835437018, 0.4658242835437018, 0.4658242835437018, 0.4658242835437018, 0.4658242835437018, 0.4658242835437018, 0.4658242835437018, 0.4658242835437018, 0.4658242835437018, 0.4658242835437018, 0.4658242835437018, 0.4658242835437018, 0.4658242835437018, 0.4658242835437018, 0.4658242835437018, 0.4658242835437018, 0.4658242835437018, 0.4658242835437018, 0.4658242835437018, 0.4658242835437018, 0.4658242835437018, 0.4658242835437018, 0.4658242835437018, 0.4658242835437018, 0.4658242835437018, 0.4658242835437018, 0.4658242835437018, 0.4658242835437018, 0.4658242835437018, 0.4658242835437018, 0.4658242835437018, 0.4658242835437018, 0.4658242835437018, 0.4658242835437018, 0.4658242835437018, 0.4658242835437018, 0.4658242835437018, 0.4658242835437018, 0.4658242835437018, 0.4658242835437018, 0.4658242835437018, 0.4658242835437018, 0.4658242835437018, 0.4658242835437018, 0.4658242835437018, 0.4658242835437018, 0.4658242835437018, 0.4658242835437018, 0.4658242835437018, 0.4658242835437018, 0.4658242835437018, 0.4658242835437018, 0.4658242835437018, 0.4658242835437018, 0.4658242835437018, 0.4658242835437018, 0.4658242835437018, 0.4658242835437018, 0.4658242835437018, 0.4658242835437018, 0.4658242835437018, 0.4658242835437018, 0.4658242835437018, 0.4658242835437018, 0.4658242835437018, 0.4658242835437018, 0.4658242835437018, 0.4658242835437018, 0.4658242835437018, 0.4658242835437018, 0.4658242835437018, 0.4658242835437018, 0.4658242835437018, 0.4658242835437018, 0.4658242835437018, 0.4658242835437018, 0.4658242835437018, 0.4658242835437018, 0.4658242835437018, 0.4658242835437018, 0.4658242835437018, 0.4658242835437018, 0.4658242835437018, 0.4658242835437018, 0.4658242835437018, 0.4658242835437018, 0.4658242835437018, 0.4658242835437018, 0.4658242835437018, 0.4658242835437018, 0.4658242835437018, 0.4658242835437018, 0.4658242835437018, 0.4658242835437018, 0.4658242835437018, 0.4658242835437018, 0.4658242835437018, 0.4658242835437018, 0.4658242835437018, 0.4658242835437018, 0.4658242835437018, 0.4658242835437018, 0.4658242835437018, 0.4658242835437018, 0.4658242835437018, 0.4658242835437018, 0.4658242835437018, 0.4658242835437018, 0.4658242835437018, 0.4658242835437018, 0.4658242835437018, 0.4658242835437018, 0.4658242835437018, 0.4658242835437018, 0.4658242835437018, 0.4658242835437018, 0.4658242835437018, 0.4658242835437018, 0.4658242835437018, 0.4658242835437018, 0.4658242835437018, 0.4658242835437018, 0.4658242835437018, 0.4658242835437018, 0.4658242835437018, 0.4658242835437018, 0.4658242835437018, 0.4658242835437018, 0.4658242835437018, 0.4658242835437018, 0.4658242835437018, 0.4658242835437018, 0.4658242835437018, 0.4658242835437018, 0.4658242835437018, 0.4658242835437018, 0.4658242835437018, 0.4658242835437018, 0.4658242835437018, 0.4658242835437018, 0.4658242835437018, 0.4658242835437018, 0.4658242835437018, 0.4658242835437018, 0.4658242835437018, 0.4658242835437018, 0.4658242835437018, 0.4658242835437018, 0.4658242835437018, 0.4658242835437018, 0.4658242835437018, 0.4658242835437018, 0.4658242835437018, 0.4658242835437018, 0.4658242835437018, 0.4658242835437018, 0.4658242835437018, 0.4658242835437018, 0.4658242835437018, 0.4658242835437018, 0.4658242835437018, 0.4658242835437018, 0.4658242835437018, 0.4658242835437018, 0.4658242835437018, 0.4658242835437018, 0.4658242835437018, 0.4658242835437018, 0.4658242835437018, 0.4658242835437018, 0.4658242835437018, 0.4658242835437018, 0.4658242835437018, 0.4658242835437018, 0.4658242835437018, 0.4658242835437018, 0.4658242835437018, 0.4658242835437018, 0.4658242835437018, 0.4658242835437018, 0.4658242835437018, 0.4658242835437018, 0.4658242835437018, 0.4658242835437018, 0.4658242835437018, 0.4658242835437018, 0.4658242835437018, 0.4658242835437018, 0.4658242835437018, 0.4658242835437018, 0.4658242835437018, 0.4658242835437018, 0.4658242835437018, 0.4658242835437018, 0.4658242835437018, 0.4658242835437018, 0.4658242835437018, 0.4658242835437018, 0.4658242835437018, 0.4658242835437018, 0.4658242835437018, 0.4658242835437018, 0.4658242835437018, 0.4658242835437018, 0.4658242835437018, 0.4658242835437018, 0.4658242835437018, 0.4658242835437018, 0.4658242835437018, 0.4658242835437018, 0.4658242835437018, 0.4658242835437018, 0.4658242835437018, 0.4658242835437018, 0.4658242835437018, 0.4658242835437018, 0.4658242835437018, 0.4658242835437018, 0.4658242835437018, 0.4658242835437018, 0.4658242835437018, 0.4658242835437018, 0.4658242835437018, 0.4658242835437018, 0.4658242835437018, 0.4658242835437018, 0.4658242835437018, 0.4658242835437018, 0.4658242835437018, 0.4658242835437018, 0.4658242835437018, 0.4658242835437018, 0.4658242835437018, 0.4658242835437018, 0.4658242835437018, 0.4658242835437018, 0.4658242835437018, 0.4658242835437018, 0.4658242835437018, 0.4658242835437018, 0.4658242835437018, 0.4658242835437018, 0.4658242835437018, 0.4658242835437018, 0.4658242835437018, 0.4658242835437018, 0.4658242835437018, 0.4658242835437018, 0.4658242835437018, 0.4658242835437018, 0.4658242835437018, 0.4658242835437018, 0.4658242835437018, 0.4658242835437018, 0.4658242835437018, 0.4658242835437018, 0.4658242835437018, 0.4658242835437018, 0.4658242835437018, 0.4658242835437018, 0.4658242835437018, 0.4658242835437018, 0.4658242835437018, 0.4658242835437018, 0.4658242835437018, 0.4658242835437018, 0.4658242835437018, 0.4658242835437018, 0.4658242835437018, 0.4658242835437018, 0.4658242835437018, 0.4658242835437018, 0.4658242835437018, 0.4658242835437018, 0.4658242835437018, 0.4658242835437018, 0.4658242835437018, 0.4658242835437018, 0.4658242835437018, 0.4658242835437018, 0.4658242835437018, 0.4658242835437018, 0.4658242835437018, 0.4658242835437018, 0.4658242835437018, 0.4658242835437018, 0.4658242835437018, 0.4658242835437018, 0.4658242835437018, 0.4658242835437018, 0.4658242835437018, 0.4658242835437018, 0.4658242835437018, 0.4658242835437018, 0.4658242835437018, 0.4658242835437018, 0.4658242835437018, 0.4658242835437018, 0.4658242835437018, 0.4658242835437018, 0.4658242835437018, 0.4658242835437018, 0.4658242835437018, 0.4658242835437018, 0.4658242835437018, 0.4658242835437018, 0.4658242835437018, 0.4658242835437018, 0.4658242835437018, 0.4658242835437018, 0.4658242835437018, 0.4658242835437018, 0.4658242835437018, 0.4658242835437018, 0.4658242835437018, 0.4658242835437018, 0.4658242835437018, 0.4658242835437018, 0.4658242835437018, 0.4658242835437018, 0.4658242835437018, 0.4658242835437018, 0.4658242835437018, 0.4658242835437018, 0.4658242835437018, 0.4658242835437018, 0.4658242835437018, 0.4658242835437018, 0.4658242835437018, 0.4658242835437018, 0.4658242835437018, 0.4658242835437018, 0.4658242835437018, 0.4658242835437018, 0.4658242835437018, 0.4658242835437018, 0.4658242835437018, 0.4658242835437018, 0.4658242835437018, 0.4658242835437018, 0.4658242835437018, 0.4658242835437018, 0.4658242835437018, 0.4658242835437018, 0.4658242835437018, 0.4658242835437018, 0.4658242835437018, 0.4658242835437018, 0.4658242835437018, 0.4658242835437018, 0.4658242835437018, 0.4658242835437018, 0.4658242835437018, 0.4658242835437018, 0.4658242835437018, 0.4658242835437018, 0.4658242835437018, 0.4658242835437018, 0.4658242835437018, 0.4658242835437018, 0.4658242835437018, 0.4658242835437018, 0.4658242835437018, 0.4658242835437018, 0.4658242835437018, 0.4658242835437018, 0.4658242835437018, 0.4658242835437018, 0.4658242835437018, 0.4658242835437018, 0.4658242835437018, 0.4658242835437018, 0.4658242835437018, 0.4658242835437018, 0.4658242835437018, 0.4658242835437018, 0.4658242835437018, 0.4658242835437018, 0.4658242835437018, 0.4658242835437018, 0.4658242835437018, 0.4658242835437018, 0.4658242835437018, 0.4658242835437018, 0.4658242835437018, 0.4658242835437018, 0.4658242835437018, 0.4658242835437018, 0.4658242835437018, 0.4658242835437018, 0.4658242835437018, 0.4658242835437018, 0.4658242835437018, 0.4658242835437018, 0.4658242835437018, 0.4658242835437018, 0.4658242835437018, 0.4658242835437018, 0.4658242835437018, 0.4658242835437018, 0.4658242835437018, 0.4658242835437018, 0.4658242835437018, 0.4658242835437018, 0.4658242835437018, 0.4658242835437018, 0.4658242835437018, 0.4658242835437018, 0.4658242835437018, 0.4658242835437018, 0.4658242835437018, 0.4658242835437018, 0.4658242835437018, 0.4658242835437018, 0.4658242835437018, 0.4658242835437018, 0.4658242835437018, 0.4658242835437018, 0.4658242835437018, 0.4658242835437018, 0.4658242835437018, 0.4658242835437018, 0.4658242835437018, 0.4658242835437018, 0.4658242835437018, 0.4658242835437018, 0.4658242835437018, 0.4658242835437018, 0.4658242835437018, 0.4658242835437018, 0.4658242835437018, 0.4658242835437018, 0.4658242835437018, 0.4658242835437018, 0.4658242835437018, 0.4658242835437018, 0.4658242835437018, 0.4658242835437018, 0.4658242835437018, 0.4658242835437018, 0.4658242835437018, 0.4658242835437018, 0.4658242835437018, 0.4658242835437018, 0.4658242835437018, 0.4658242835437018, 0.4658242835437018, 0.4658242835437018, 0.4658242835437018, 0.4658242835437018, 0.4658242835437018, 0.4658242835437018, 0.4658242835437018, 0.4658242835437018, 0.4658242835437018, 0.4658242835437018, 0.4658242835437018, 0.4658242835437018, 0.4658242835437018, 0.4658242835437018, 0.4658242835437018, 0.4658242835437018, 0.4658242835437018, 0.4658242835437018, 0.4658242835437018, 0.4658242835437018, 0.4658242835437018, 0.4658242835437018, 0.4658242835437018, 0.4658242835437018, 0.4658242835437018, 0.4658242835437018, 0.4658242835437018, 0.4658242835437018, 0.4658242835437018, 0.4658242835437018, 0.4658242835437018, 0.4658242835437018, 0.4658242835437018, 0.4658242835437018, 0.4658242835437018, 0.4658242835437018, 0.4658242835437018, 0.4658242835437018, 0.4658242835437018, 0.4658242835437018, 0.4658242835437018, 0.4658242835437018, 0.4658242835437018, 0.4658242835437018, 0.4658242835437018, 0.4658242835437018, 0.4658242835437018, 0.4658242835437018, 0.4658242835437018, 0.4658242835437018, 0.4658242835437018, 0.4658242835437018, 0.4658242835437018, 0.4658242835437018, 0.4658242835437018, 0.4658242835437018, 0.4658242835437018, 0.4658242835437018, 0.4658242835437018, 0.4658242835437018, 0.4658242835437018, 0.4658242835437018, 0.4658242835437018, 0.4658242835437018, 0.4658242835437018, 0.4658242835437018, 0.4658242835437018, 0.4658242835437018, 0.4658242835437018, 0.4658242835437018, 0.4658242835437018, 0.4658242835437018, 0.4658242835437018, 0.4658242835437018, 0.4658242835437018, 0.4658242835437018, 0.4658242835437018, 0.4658242835437018, 0.4658242835437018, 0.4658242835437018, 0.4658242835437018, 0.4658242835437018, 0.4658242835437018, 0.4658242835437018, 0.4658242835437018, 0.4658242835437018, 0.4658242835437018, 0.4658242835437018, 0.4658242835437018, 0.4658242835437018, 0.4658242835437018, 0.4658242835437018, 0.4658242835437018, 0.4658242835437018, 0.4658242835437018, 0.4658242835437018, 0.4658242835437018, 0.4658242835437018, 0.4658242835437018, 0.4658242835437018, 0.4658242835437018, 0.4658242835437018, 0.4658242835437018, 0.4658242835437018, 0.4658242835437018, 0.4658242835437018, 0.4658242835437018, 0.4658242835437018, 0.4658242835437018, 0.4658242835437018, 0.4658242835437018, 0.4658242835437018, 0.4658242835437018, 0.4658242835437018, 0.4658242835437018, 0.4658242835437018, 0.4658242835437018, 0.4658242835437018, 0.4658242835437018, 0.4658242835437018, 0.4658242835437018, 0.4658242835437018, 0.4658242835437018, 0.4658242835437018, 0.4658242835437018, 0.4658242835437018, 0.4658242835437018, 0.4658242835437018, 0.4658242835437018, 0.4658242835437018, 0.4658242835437018, 0.4658242835437018, 0.4658242835437018, 0.4658242835437018, 0.4658242835437018, 0.4658242835437018, 0.4658242835437018, 0.4658242835437018, 0.4658242835437018, 0.4658242835437018, 0.4658242835437018, 0.4658242835437018, 0.4658242835437018, 0.4658242835437018, 0.4658242835437018, 0.4658242835437018, 0.4658242835437018, 0.4658242835437018, 0.4658242835437018, 0.4658242835437018, 0.4658242835437018, 0.4658242835437018, 0.4658242835437018, 0.4658242835437018, 0.4658242835437018, 0.4658242835437018, 0.4658242835437018, 0.4658242835437018, 0.4658242835437018, 0.4658242835437018, 0.4658242835437018, 0.4658242835437018, 0.4658242835437018, 0.4658242835437018, 0.4658242835437018, 0.4658242835437018, 0.4658242835437018, 0.4658242835437018, 0.4658242835437018, 0.4658242835437018, 0.4658242835437018, 0.4658242835437018, 0.4658242835437018, 0.4658242835437018, 0.4658242835437018, 0.4658242835437018, 0.4658242835437018, 0.4658242835437018, 0.4658242835437018, 0.4658242835437018, 0.4658242835437018, 0.4658242835437018, 0.4658242835437018, 0.4658242835437018, 0.4658242835437018, 0.4658242835437018, 0.4658242835437018, 0.4658242835437018, 0.4658242835437018, 0.4658242835437018, 0.4658242835437018, 0.4658242835437018, 0.4658242835437018, 0.4658242835437018, 0.4658242835437018, 0.4658242835437018, 0.4658242835437018, 0.4658242835437018, 0.4658242835437018, 0.4658242835437018, 0.4658242835437018, 0.4658242835437018, 0.4658242835437018, 0.4658242835437018, 0.4658242835437018, 0.4658242835437018, 0.4658242835437018, 0.4658242835437018, 0.4658242835437018, 0.4658242835437018, 0.4658242835437018, 0.4658242835437018, 0.4658242835437018, 0.4658242835437018, 0.4658242835437018, 0.4658242835437018, 0.4658242835437018, 0.4658242835437018, 0.4658242835437018, 0.4658242835437018, 0.4658242835437018, 0.4658242835437018, 0.4658242835437018, 0.4658242835437018, 0.4658242835437018, 0.4658242835437018, 0.4658242835437018, 0.4658242835437018, 0.4658242835437018, 0.4658242835437018, 0.4658242835437018, 0.4658242835437018, 0.4658242835437018, 0.4658242835437018, 0.4658242835437018, 0.4658242835437018, 0.4658242835437018, 0.4658242835437018, 0.4658242835437018, 0.4658242835437018, 0.4658242835437018, 0.4658242835437018, 0.4658242835437018, 0.4658242835437018, 0.4658242835437018, 0.4658242835437018, 0.4658242835437018, 0.4658242835437018, 0.4658242835437018, 0.4658242835437018, 0.4658242835437018, 0.4658242835437018, 0.4658242835437018, 0.4658242835437018, 0.4658242835437018, 0.4658242835437018, 0.4658242835437018, 0.4658242835437018, 0.4658242835437018, 0.4658242835437018, 0.4658242835437018, 0.4658242835437018, 0.4658242835437018, 0.4658242835437018, 0.4658242835437018, 0.4658242835437018, 0.4658242835437018, 0.4658242835437018, 0.4658242835437018, 0.4658242835437018, 0.4658242835437018, 0.4658242835437018, 0.4658242835437018, 0.4658242835437018, 0.4658242835437018, 0.4658242835437018, 0.4658242835437018, 0.4658242835437018, 0.4658242835437018, 0.4658242835437018, 0.4658242835437018, 0.4658242835437018, 0.4658242835437018, 0.4658242835437018, 0.4658242835437018, 0.4658242835437018, 0.4658242835437018, 0.4658242835437018, 0.4658242835437018, 0.4658242835437018, 0.4658242835437018, 0.4658242835437018, 0.4658242835437018, 0.4658242835437018, 0.4658242835437018, 0.4658242835437018, 0.4658242835437018, 0.4658242835437018, 0.4658242835437018, 0.4658242835437018, 0.4658242835437018, 0.4658242835437018, 0.4658242835437018, 0.4658242835437018, 0.4658242835437018, 0.4658242835437018, 0.4658242835437018, 0.4658242835437018, 0.4658242835437018, 0.4658242835437018, 0.4658242835437018, 0.4658242835437018, 0.4658242835437018, 0.4658242835437018, 0.4658242835437018, 0.4658242835437018, 0.4658242835437018, 0.4658242835437018, 0.4658242835437018, 0.4658242835437018, 0.4658242835437018, 0.4658242835437018, 0.4658242835437018, 0.4658242835437018, 0.4658242835437018, 0.4658242835437018, 0.4658242835437018, 0.4658242835437018, 0.4658242835437018, 0.4658242835437018, 0.4658242835437018, 0.4658242835437018, 0.4658242835437018, 0.4658242835437018, 0.4658242835437018, 0.4658242835437018, 0.4658242835437018, 0.4658242835437018, 0.4658242835437018, 0.4658242835437018, 0.4658242835437018, 0.4658242835437018, 0.4658242835437018, 0.4658242835437018, 0.4658242835437018, 0.4658242835437018, 0.4658242835437018, 0.4658242835437018, 0.4658242835437018, 0.4658242835437018, 0.4658242835437018, 0.4658242835437018, 0.4658242835437018, 0.4658242835437018, 0.4658242835437018, 0.4658242835437018, 0.4658242835437018, 0.4658242835437018, 0.4658242835437018, 0.4658242835437018, 0.4658242835437018, 0.4658242835437018, 0.4658242835437018, 0.4658242835437018, 0.4658242835437018, 0.4658242835437018, 0.4658242835437018, 0.4658242835437018, 0.4658242835437018, 0.4658242835437018, 0.4658242835437018, 0.4658242835437018, 0.4658242835437018, 0.4658242835437018, 0.4658242835437018, 0.4658242835437018, 0.4658242835437018, 0.4658242835437018, 0.4658242835437018, 0.4658242835437018, 0.4658242835437018, 0.4658242835437018, 0.4658242835437018, 0.4658242835437018, 0.4658242835437018, 0.4658242835437018, 0.4658242835437018, 0.4658242835437018, 0.4658242835437018, 0.4658242835437018, 0.4658242835437018, 0.4658242835437018, 0.4658242835437018, 0.4658242835437018, 0.4658242835437018, 0.4658242835437018, 0.4658242835437018, 0.4658242835437018, 0.4658242835437018, 0.4658242835437018, 0.4658242835437018, 0.4658242835437018, 0.4658242835437018, 0.4658242835437018, 0.4658242835437018, 0.4658242835437018, 0.4658242835437018, 0.4658242835437018, 0.4658242835437018, 0.4658242835437018, 0.4658242835437018, 0.4658242835437018, 0.4658242835437018, 0.4658242835437018, 0.4658242835437018, 0.4658242835437018, 0.4658242835437018, 0.4658242835437018, 0.4658242835437018, 0.4658242835437018, 0.4658242835437018, 0.4658242835437018, 0.4658242835437018, 0.4658242835437018, 0.4658242835437018, 0.4658242835437018, 0.4658242835437018, 0.4658242835437018, 0.4658242835437018, 0.4658242835437018, 0.4658242835437018, 0.4658242835437018, 0.4658242835437018, 0.4658242835437018, 0.4658242835437018, 0.4658242835437018, 0.4658242835437018, 0.4658242835437018, 0.4658242835437018, 0.4658242835437018, 0.4658242835437018, 0.4658242835437018, 0.4658242835437018, 0.4658242835437018, 0.4658242835437018, 0.4658242835437018, 0.4658242835437018, 0.4658242835437018, 0.4658242835437018, 0.4658242835437018, 0.4658242835437018, 0.4658242835437018, 0.4658242835437018, 0.4658242835437018, 0.4658242835437018, 0.4658242835437018, 0.4658242835437018, 0.4658242835437018, 0.4658242835437018, 0.4658242835437018, 0.4658242835437018, 0.4658242835437018, 0.4658242835437018, 0.4658242835437018, 0.4658242835437018, 0.4658242835437018, 0.4658242835437018, 0.4658242835437018, 0.4658242835437018, 0.4658242835437018, 0.4658242835437018, 0.4658242835437018, 0.4658242835437018, 0.4658242835437018, 0.4658242835437018, 0.4658242835437018, 0.4658242835437018, 0.4658242835437018, 0.4658242835437018, 0.4658242835437018, 0.4658242835437018, 0.4658242835437018, 0.4658242835437018, 0.4658242835437018, 0.4658242835437018, 0.4658242835437018, 0.4658242835437018, 0.4658242835437018, 0.4658242835437018, 0.4658242835437018, 0.4658242835437018, 0.4658242835437018, 0.4658242835437018, 0.4658242835437018, 0.4658242835437018, 0.4658242835437018, 0.4658242835437018, 0.4658242835437018, 0.4658242835437018, 0.4658242835437018, 0.4658242835437018, 0.4658242835437018, 0.4658242835437018, 0.4658242835437018, 0.4658242835437018, 0.4658242835437018, 0.4658242835437018, 0.4658242835437018, 0.4658242835437018, 0.4658242835437018, 0.4658242835437018, 0.4658242835437018, 0.4658242835437018, 0.4658242835437018, 0.4658242835437018, 0.4658242835437018, 0.4658242835437018, 0.4658242835437018, 0.4658242835437018, 0.4658242835437018, 0.4658242835437018, 0.4658242835437018, 0.4658242835437018, 0.4658242835437018, 0.4658242835437018, 0.4658242835437018, 0.4658242835437018, 0.4658242835437018, 0.4658242835437018, 0.4658242835437018, 0.4658242835437018, 0.4658242835437018, 0.4658242835437018, 0.4658242835437018, 0.4658242835437018, 0.4658242835437018, 0.4658242835437018, 0.4658242835437018, 0.4658242835437018, 0.4658242835437018, 0.4658242835437018, 0.4658242835437018, 0.4658242835437018, 0.4658242835437018, 0.4658242835437018, 0.4658242835437018, 0.4658242835437018, 0.4658242835437018, 0.4658242835437018, 0.4658242835437018, 0.4658242835437018, 0.4658242835437018, 0.4658242835437018, 0.4658242835437018, 0.4658242835437018, 0.4658242835437018, 0.4658242835437018, 0.4658242835437018, 0.4658242835437018, 0.4658242835437018, 0.4658242835437018, 0.4658242835437018, 0.4658242835437018, 0.4658242835437018, 0.4658242835437018, 0.4658242835437018, 0.4658242835437018, 0.4658242835437018, 0.4658242835437018, 0.4658242835437018, 0.4658242835437018, 0.4658242835437018, 0.4658242835437018, 0.4658242835437018, 0.4658242835437018, 0.4658242835437018, 0.4658242835437018, 0.4658242835437018, 0.4658242835437018, 0.4658242835437018, 0.4658242835437018, 0.4658242835437018, 0.4658242835437018, 0.4658242835437018, 0.4658242835437018, 0.4658242835437018, 0.4658242835437018, 0.4658242835437018, 0.4658242835437018, 0.4658242835437018, 0.4658242835437018, 0.4658242835437018, 0.4658242835437018, 0.4658242835437018, 0.4658242835437018, 0.4658242835437018, 0.4658242835437018, 0.4658242835437018, 0.4658242835437018, 0.4658242835437018, 0.4658242835437018, 0.4658242835437018, 0.4658242835437018, 0.4658242835437018, 0.4658242835437018, 0.4658242835437018, 0.4658242835437018, 0.4658242835437018, 0.4658242835437018, 0.4658242835437018, 0.4658242835437018, 0.4658242835437018, 0.4658242835437018, 0.4658242835437018, 0.4658242835437018, 0.4658242835437018, 0.4658242835437018, 0.4658242835437018, 0.4658242835437018, 0.4658242835437018, 0.4658242835437018, 0.4658242835437018, 0.4658242835437018, 0.4658242835437018, 0.4658242835437018, 0.4658242835437018, 0.4658242835437018, 0.4658242835437018, 0.4658242835437018, 0.4658242835437018, 0.4658242835437018, 0.4658242835437018, 0.4658242835437018, 0.4658242835437018, 0.4658242835437018, 0.4658242835437018, 0.4658242835437018, 0.4658242835437018, 0.4658242835437018, 0.4658242835437018, 0.4658242835437018, 0.4658242835437018, 0.4658242835437018, 0.4658242835437018, 0.4658242835437018, 0.4658242835437018, 0.4658242835437018, 0.4658242835437018, 0.4658242835437018, 0.4658242835437018, 0.4658242835437018, 0.4658242835437018, 0.4658242835437018, 0.4658242835437018, 0.4658242835437018, 0.4658242835437018, 0.4658242835437018, 0.4658242835437018, 0.4658242835437018, 0.4658242835437018, 0.4658242835437018, 0.4658242835437018, 0.4658242835437018, 0.4658242835437018, 0.4658242835437018, 0.4658242835437018, 0.4658242835437018, 0.4658242835437018, 0.4658242835437018, 0.4658242835437018, 0.4658242835437018, 0.4658242835437018, 0.4658242835437018, 0.4658242835437018, 0.4658242835437018, 0.4658242835437018, 0.4658242835437018, 0.4658242835437018, 0.4658242835437018, 0.4658242835437018, 0.4658242835437018, 0.4658242835437018, 0.4658242835437018, 0.4658242835437018, 0.4658242835437018, 0.4658242835437018, 0.4658242835437018, 0.4658242835437018, 0.4658242835437018, 0.4658242835437018, 0.4658242835437018, 0.4658242835437018, 0.4658242835437018, 0.4658242835437018, 0.4658242835437018, 0.4658242835437018, 0.4658242835437018, 0.4658242835437018, 0.4658242835437018, 0.4658242835437018, 0.4658242835437018, 0.4658242835437018, 0.4658242835437018, 0.4658242835437018, 0.4658242835437018, 0.4658242835437018, 0.4658242835437018, 0.4658242835437018, 0.4658242835437018, 0.4658242835437018, 0.4658242835437018, 0.4658242835437018, 0.4658242835437018, 0.4658242835437018, 0.4658242835437018, 0.4658242835437018, 0.4658242835437018, 0.4658242835437018, 0.4658242835437018, 0.4658242835437018, 0.4658242835437018, 0.4658242835437018, 0.4658242835437018, 0.4658242835437018, 0.4658242835437018, 0.4658242835437018, 0.4658242835437018, 0.4658242835437018, 0.4658242835437018, 0.4658242835437018, 0.4658242835437018, 0.4658242835437018, 0.4658242835437018, 0.4658242835437018, 0.4658242835437018, 0.4658242835437018, 0.4658242835437018, 0.4658242835437018, 0.4658242835437018, 0.4658242835437018, 0.4658242835437018, 0.4658242835437018, 0.4658242835437018, 0.4658242835437018, 0.4658242835437018, 0.4658242835437018, 0.4658242835437018, 0.4658242835437018, 0.4658242835437018, 0.4658242835437018, 0.4658242835437018, 0.4658242835437018, 0.4658242835437018, 0.4658242835437018, 0.4658242835437018, 0.4658242835437018, 0.4658242835437018, 0.4658242835437018, 0.4658242835437018, 0.4658242835437018, 0.4658242835437018, 0.4658242835437018, 0.4658242835437018, 0.4658242835437018, 0.4658242835437018, 0.4658242835437018, 0.4658242835437018, 0.4658242835437018, 0.4658242835437018, 0.4658242835437018, 0.4658242835437018, 0.4658242835437018, 0.4658242835437018, 0.4658242835437018, 0.4658242835437018, 0.4658242835437018, 0.4658242835437018, 0.4658242835437018, 0.4658242835437018, 0.4658242835437018, 0.4658242835437018, 0.4658242835437018, 0.4658242835437018, 0.4658242835437018, 0.4658242835437018, 0.4658242835437018, 0.4658242835437018, 0.4658242835437018, 0.4658242835437018, 0.4658242835437018, 0.4658242835437018, 0.4658242835437018, 0.4658242835437018, 0.4658242835437018, 0.4658242835437018, 0.4658242835437018, 0.4658242835437018, 0.4658242835437018, 0.4658242835437018, 0.4658242835437018, 0.4658242835437018, 0.4658242835437018, 0.4658242835437018, 0.4658242835437018, 0.4658242835437018, 0.4658242835437018, 0.4658242835437018, 0.4658242835437018, 0.4658242835437018, 0.4658242835437018, 0.4658242835437018, 0.4658242835437018, 0.4658242835437018, 0.4658242835437018, 0.4658242835437018, 0.4658242835437018, 0.4658242835437018, 0.4658242835437018, 0.4658242835437018, 0.4658242835437018, 0.4658242835437018, 0.4658242835437018, 0.4658242835437018, 0.4658242835437018, 0.4658242835437018, 0.4658242835437018, 0.4658242835437018, 0.4658242835437018, 0.4658242835437018, 0.4658242835437018, 0.4658242835437018, 0.4658242835437018, 0.4658242835437018, 0.4658242835437018, 0.4658242835437018, 0.4658242835437018, 0.4658242835437018, 0.4658242835437018, 0.4658242835437018, 0.4658242835437018, 0.4658242835437018, 0.4658242835437018, 0.4658242835437018, 0.4658242835437018, 0.4658242835437018, 0.4658242835437018, 0.4658242835437018, 0.4658242835437018, 0.4658242835437018, 0.4658242835437018, 0.4658242835437018, 0.4658242835437018, 0.4658242835437018, 0.4658242835437018, 0.4658242835437018, 0.4658242835437018, 0.4658242835437018, 0.4658242835437018, 0.4658242835437018, 0.4658242835437018, 0.4658242835437018, 0.4658242835437018, 0.4658242835437018, 0.4658242835437018, 0.4658242835437018, 0.4658242835437018, 0.4658242835437018, 0.4658242835437018, 0.4658242835437018, 0.4658242835437018, 0.4658242835437018, 0.4658242835437018, 0.4658242835437018, 0.4658242835437018, 0.4658242835437018, 0.4658242835437018, 0.4658242835437018, 0.4658242835437018, 0.4658242835437018, 0.4658242835437018, 0.4658242835437018, 0.4658242835437018, 0.4658242835437018, 0.4658242835437018, 0.4658242835437018, 0.4658242835437018, 0.4658242835437018, 0.4658242835437018, 0.4658242835437018, 0.4658242835437018, 0.4658242835437018, 0.4658242835437018, 0.4658242835437018, 0.4658242835437018, 0.4658242835437018, 0.4658242835437018, 0.4658242835437018, 0.4658242835437018, 0.4658242835437018, 0.4658242835437018, 0.4658242835437018, 0.4658242835437018, 0.4658242835437018, 0.4658242835437018, 0.4658242835437018, 0.4658242835437018, 0.4658242835437018, 0.4658242835437018, 0.4658242835437018, 0.4658242835437018, 0.4658242835437018, 0.4658242835437018, 0.4658242835437018, 0.4658242835437018, 0.4658242835437018, 0.4658242835437018, 0.4658242835437018, 0.4658242835437018, 0.4658242835437018, 0.4658242835437018, 0.4658242835437018, 0.4658242835437018, 0.4658242835437018, 0.4658242835437018, 0.4658242835437018, 0.4658242835437018, 0.4658242835437018, 0.4658242835437018, 0.4658242835437018, 0.4658242835437018, 0.4658242835437018, 0.4658242835437018, 0.4658242835437018, 0.4658242835437018, 0.4658242835437018, 0.4658242835437018, 0.4658242835437018, 0.4658242835437018, 0.4658242835437018, 0.4658242835437018, 0.4658242835437018, 0.4658242835437018, 0.4658242835437018, 0.4658242835437018, 0.4658242835437018, 0.4658242835437018, 0.4658242835437018, 0.4658242835437018, 0.4658242835437018, 0.4658242835437018, 0.4658242835437018, 0.4658242835437018, 0.4658242835437018, 0.4658242835437018, 0.4658242835437018, 0.4658242835437018, 0.4658242835437018, 0.4658242835437018, 0.4658242835437018, 0.4658242835437018, 0.4658242835437018, 0.4658242835437018, 0.4658242835437018, 0.4658242835437018, 0.4658242835437018, 0.4658242835437018, 0.4658242835437018, 0.4658242835437018, 0.4658242835437018, 0.4658242835437018, 0.4658242835437018, 0.4658242835437018, 0.4658242835437018, 0.4658242835437018, 0.4658242835437018, 0.4658242835437018, 0.4658242835437018, 0.4658242835437018, 0.4658242835437018, 0.4658242835437018, 0.4658242835437018, 0.4658242835437018, 0.4658242835437018, 0.4658242835437018, 0.4658242835437018, 0.4658242835437018, 0.4658242835437018, 0.4658242835437018, 0.4658242835437018, 0.4658242835437018, 0.4658242835437018, 0.4658242835437018, 0.4658242835437018, 0.4658242835437018, 0.4658242835437018, 0.4658242835437018, 0.4658242835437018, 0.4658242835437018, 0.4658242835437018, 0.4658242835437018, 0.4658242835437018, 0.4658242835437018, 0.4658242835437018, 0.4658242835437018, 0.4658242835437018, 0.4658242835437018, 0.4658242835437018, 0.4658242835437018, 0.4658242835437018, 0.4658242835437018, 0.4658242835437018, 0.4658242835437018, 0.4658242835437018, 0.4658242835437018, 0.4658242835437018, 0.4658242835437018, 0.4658242835437018, 0.4658242835437018, 0.4658242835437018, 0.4658242835437018, 0.4658242835437018, 0.4658242835437018, 0.4658242835437018, 0.4658242835437018, 0.4658242835437018, 0.4658242835437018, 0.4658242835437018, 0.4658242835437018, 0.4658242835437018, 0.4658242835437018, 0.4658242835437018, 0.4658242835437018, 0.4658242835437018, 0.4658242835437018, 0.4658242835437018, 0.4658242835437018, 0.4658242835437018, 0.4658242835437018, 0.4658242835437018, 0.4658242835437018, 0.4658242835437018, 0.4658242835437018, 0.4658242835437018, 0.4658242835437018, 0.4658242835437018, 0.4658242835437018, 0.4658242835437018, 0.4658242835437018, 0.4658242835437018, 0.4658242835437018, 0.4658242835437018, 0.4658242835437018, 0.4658242835437018, 0.4658242835437018, 0.4658242835437018, 0.4658242835437018, 0.4658242835437018, 0.4658242835437018, 0.4658242835437018, 0.4658242835437018, 0.4658242835437018, 0.4658242835437018, 0.4658242835437018, 0.4658242835437018, 0.4658242835437018, 0.4658242835437018, 0.4658242835437018, 0.4658242835437018, 0.4658242835437018, 0.4658242835437018, 0.4658242835437018, 0.4658242835437018, 0.4658242835437018, 0.4658242835437018, 0.4658242835437018, 0.4658242835437018, 0.4658242835437018, 0.4658242835437018, 0.4658242835437018, 0.4658242835437018, 0.4658242835437018, 0.4658242835437018, 0.4658242835437018, 0.4658242835437018, 0.4658242835437018, 0.4658242835437018, 0.4658242835437018, 0.4658242835437018, 0.4658242835437018, 0.4658242835437018, 0.4658242835437018, 0.4658242835437018, 0.4658242835437018, 0.4658242835437018, 0.4658242835437018, 0.4658242835437018, 0.4658242835437018, 0.4658242835437018, 0.4658242835437018, 0.4658242835437018, 0.4658242835437018, 0.4658242835437018, 0.4658242835437018, 0.4658242835437018, 0.4658242835437018, 0.4658242835437018, 0.4658242835437018, 0.4658242835437018, 0.4658242835437018, 0.4658242835437018, 0.4658242835437018, 0.4658242835437018, 0.4658242835437018, 0.4658242835437018, 0.4658242835437018, 0.4658242835437018, 0.4658242835437018, 0.4658242835437018, 0.4658242835437018, 0.4658242835437018, 0.4658242835437018, 0.4658242835437018, 0.4658242835437018, 0.4658242835437018, 0.4658242835437018, 0.4658242835437018, 0.4658242835437018, 0.4658242835437018, 0.4658242835437018, 0.4658242835437018, 0.4658242835437018, 0.4658242835437018, 0.4658242835437018, 0.4658242835437018, 0.4658242835437018, 0.4658242835437018, 0.4658242835437018, 0.4658242835437018, 0.4658242835437018, 0.4658242835437018, 0.4658242835437018, 0.4658242835437018, 0.4658242835437018, 0.4658242835437018, 0.4658242835437018, 0.4658242835437018, 0.4658242835437018, 0.4658242835437018, 0.4658242835437018, 0.4658242835437018, 0.4658242835437018, 0.4658242835437018, 0.4658242835437018, 0.4658242835437018, 0.4658242835437018, 0.4658242835437018, 0.4658242835437018, 0.4658242835437018, 0.4658242835437018, 0.4658242835437018, 0.4658242835437018, 0.4658242835437018, 0.4658242835437018, 0.4658242835437018, 0.4658242835437018, 0.4658242835437018, 0.4658242835437018, 0.4658242835437018, 0.4658242835437018, 0.4658242835437018, 0.4658242835437018, 0.4658242835437018, 0.4658242835437018, 0.4658242835437018, 0.4658242835437018, 0.4658242835437018, 0.4658242835437018, 0.4658242835437018, 0.4658242835437018, 0.4658242835437018, 0.4658242835437018, 0.4658242835437018, 0.4658242835437018, 0.4658242835437018, 0.4658242835437018, 0.4658242835437018, 0.4658242835437018, 0.4658242835437018, 0.4658242835437018, 0.4658242835437018, 0.4658242835437018, 0.4658242835437018, 0.4658242835437018, 0.4658242835437018, 0.4658242835437018, 0.4658242835437018, 0.4658242835437018, 0.4658242835437018, 0.4658242835437018, 0.4658242835437018, 0.4658242835437018, 0.4658242835437018, 0.4658242835437018, 0.4658242835437018, 0.4658242835437018, 0.4658242835437018, 0.4658242835437018, 0.4658242835437018, 0.4658242835437018, 0.4658242835437018, 0.4658242835437018, 0.4658242835437018, 0.4658242835437018, 0.4658242835437018, 0.4658242835437018, 0.4658242835437018, 0.4658242835437018, 0.4658242835437018, 0.4658242835437018, 0.4658242835437018, 0.4658242835437018, 0.4658242835437018, 0.4658242835437018, 0.4658242835437018, 0.4658242835437018, 0.4658242835437018, 0.4658242835437018, 0.4658242835437018, 0.4658242835437018, 0.4658242835437018, 0.4658242835437018, 0.4658242835437018, 0.4658242835437018, 0.4658242835437018, 0.4658242835437018, 0.4658242835437018, 0.4658242835437018, 0.4658242835437018, 0.4658242835437018, 0.4658242835437018, 0.4658242835437018, 0.4658242835437018, 0.4658242835437018, 0.4658242835437018, 0.4658242835437018, 0.4658242835437018, 0.4658242835437018, 0.4658242835437018, 0.4658242835437018, 0.4658242835437018, 0.4658242835437018, 0.4658242835437018, 0.4658242835437018, 0.4658242835437018, 0.4658242835437018, 0.4658242835437018, 0.4658242835437018, 0.4658242835437018, 0.4658242835437018, 0.4658242835437018, 0.4658242835437018, 0.4658242835437018, 0.4658242835437018, 0.4658242835437018, 0.4658242835437018, 0.4658242835437018, 0.4658242835437018, 0.4658242835437018, 0.4658242835437018, 0.4658242835437018, 0.4658242835437018, 0.4658242835437018, 0.4658242835437018, 0.4658242835437018, 0.4658242835437018, 0.4658242835437018, 0.4658242835437018, 0.4658242835437018, 0.4658242835437018, 0.4658242835437018, 0.4658242835437018, 0.4658242835437018, 0.4658242835437018, 0.4658242835437018, 0.4658242835437018, 0.4658242835437018, 0.4658242835437018, 0.4658242835437018, 0.4658242835437018, 0.4658242835437018, 0.4658242835437018, 0.4658242835437018, 0.4658242835437018, 0.4658242835437018, 0.4658242835437018, 0.4658242835437018, 0.4658242835437018, 0.4658242835437018, 0.4658242835437018, 0.4658242835437018, 0.4658242835437018, 0.4658242835437018, 0.4658242835437018, 0.4658242835437018, 0.4658242835437018, 0.4658242835437018, 0.4658242835437018, 0.4658242835437018, 0.4658242835437018, 0.4658242835437018, 0.4658242835437018, 0.4658242835437018, 0.4658242835437018, 0.4658242835437018, 0.4658242835437018, 0.4658242835437018, 0.4658242835437018, 0.4658242835437018, 0.4658242835437018, 0.4658242835437018, 0.4658242835437018, 0.4658242835437018, 0.4658242835437018, 0.4658242835437018, 0.4658242835437018, 0.4658242835437018, 0.4658242835437018, 0.4658242835437018, 0.4658242835437018, 0.4658242835437018, 0.4658242835437018, 0.4658242835437018, 0.4658242835437018, 0.4658242835437018, 0.4658242835437018, 0.4658242835437018, 0.4658242835437018, 0.4658242835437018, 0.4658242835437018, 0.4658242835437018, 0.4658242835437018, 0.4658242835437018, 0.4658242835437018, 0.4658242835437018, 0.4658242835437018, 0.4658242835437018, 0.4658242835437018, 0.4658242835437018, 0.4658242835437018, 0.4658242835437018, 0.4658242835437018, 0.4658242835437018, 0.4658242835437018, 0.4658242835437018, 0.4658242835437018, 0.4658242835437018, 0.4658242835437018, 0.4658242835437018, 0.4658242835437018, 0.4658242835437018, 0.4658242835437018, 0.4658242835437018, 0.4658242835437018, 0.4658242835437018, 0.4658242835437018, 0.4658242835437018, 0.4658242835437018, 0.4658242835437018, 0.4658242835437018, 0.4658242835437018, 0.4658242835437018, 0.4658242835437018, 0.4658242835437018, 0.4658242835437018, 0.4658242835437018, 0.4658242835437018, 0.4658242835437018, 0.4658242835437018, 0.4658242835437018, 0.4658242835437018, 0.4658242835437018, 0.4658242835437018, 0.4658242835437018, 0.4658242835437018, 0.4658242835437018, 0.4658242835437018, 0.4658242835437018, 0.4658242835437018, 0.4658242835437018, 0.4658242835437018, 0.4658242835437018, 0.4658242835437018, 0.4658242835437018, 0.4658242835437018, 0.4658242835437018, 0.4658242835437018, 0.4658242835437018, 0.4658242835437018, 0.4658242835437018, 0.4658242835437018, 0.4658242835437018, 0.4658242835437018, 0.4658242835437018, 0.4658242835437018, 0.4658242835437018, 0.4658242835437018, 0.4658242835437018, 0.4658242835437018, 0.4658242835437018, 0.4658242835437018, 0.4658242835437018, 0.4658242835437018, 0.4658242835437018, 0.4658242835437018, 0.4658242835437018, 0.4658242835437018, 0.4658242835437018, 0.4658242835437018, 0.4658242835437018, 0.4658242835437018, 0.4658242835437018, 0.4658242835437018, 0.4658242835437018, 0.4658242835437018, 0.4658242835437018, 0.4658242835437018, 0.4658242835437018, 0.4658242835437018, 0.4658242835437018, 0.4658242835437018, 0.4658242835437018, 0.4658242835437018, 0.4658242835437018, 0.4658242835437018, 0.4658242835437018, 0.4658242835437018, 0.4658242835437018, 0.4658242835437018, 0.4658242835437018, 0.4658242835437018, 0.4658242835437018, 0.4658242835437018, 0.4658242835437018, 0.4658242835437018, 0.4658242835437018, 0.4658242835437018, 0.4658242835437018, 0.4658242835437018, 0.4658242835437018, 0.4658242835437018, 0.4658242835437018, 0.4658242835437018, 0.4658242835437018, 0.4658242835437018, 0.4658242835437018, 0.4658242835437018, 0.4658242835437018, 0.4658242835437018, 0.4658242835437018, 0.4658242835437018, 0.4658242835437018, 0.4658242835437018, 0.4658242835437018, 0.4658242835437018, 0.4658242835437018, 0.4658242835437018, 0.4658242835437018, 0.4658242835437018, 0.4658242835437018, 0.4658242835437018, 0.4658242835437018, 0.4658242835437018, 0.4658242835437018, 0.4658242835437018, 0.4658242835437018, 0.4658242835437018, 0.4658242835437018, 0.4658242835437018, 0.4658242835437018, 0.4658242835437018, 0.4658242835437018, 0.4658242835437018, 0.4658242835437018, 0.4658242835437018, 0.4658242835437018, 0.4658242835437018, 0.4658242835437018, 0.4658242835437018, 0.4658242835437018, 0.4658242835437018, 0.4658242835437018, 0.4658242835437018, 0.4658242835437018, 0.4658242835437018, 0.4658242835437018, 0.4658242835437018, 0.4658242835437018, 0.4658242835437018, 0.4658242835437018, 0.4658242835437018, 0.4658242835437018, 0.4658242835437018, 0.4658242835437018, 0.4658242835437018, 0.4658242835437018, 0.4658242835437018, 0.4658242835437018, 0.4658242835437018, 0.4658242835437018, 0.4658242835437018, 0.4658242835437018, 0.4658242835437018, 0.4658242835437018, 0.4658242835437018, 0.4658242835437018, 0.4658242835437018, 0.4658242835437018, 0.4658242835437018, 0.4658242835437018, 0.4658242835437018, 0.4658242835437018, 0.4658242835437018, 0.4658242835437018, 0.4658242835437018, 0.4658242835437018, 0.4658242835437018, 0.4658242835437018, 0.4658242835437018, 0.4658242835437018, 0.4658242835437018, 0.4658242835437018, 0.4658242835437018, 0.4658242835437018, 0.4658242835437018, 0.4658242835437018, 0.4658242835437018, 0.4658242835437018, 0.4658242835437018, 0.4658242835437018, 0.4658242835437018, 0.4658242835437018, 0.4658242835437018, 0.4658242835437018, 0.4658242835437018, 0.4658242835437018, 0.4658242835437018, 0.4658242835437018, 0.4658242835437018, 0.4658242835437018, 0.4658242835437018, 0.4658242835437018, 0.4658242835437018, 0.4658242835437018, 0.4658242835437018, 0.4658242835437018, 0.4658242835437018, 0.4658242835437018, 0.4658242835437018, 0.4658242835437018, 0.4658242835437018, 0.4658242835437018, 0.4658242835437018, 0.4658242835437018, 0.4658242835437018, 0.4658242835437018, 0.4658242835437018, 0.4658242835437018, 0.4658242835437018, 0.4658242835437018, 0.4658242835437018, 0.4658242835437018, 0.4658242835437018, 0.4658242835437018, 0.4658242835437018, 0.4658242835437018, 0.4658242835437018, 0.4658242835437018, 0.4658242835437018, 0.4658242835437018, 0.4658242835437018, 0.4658242835437018, 0.4658242835437018, 0.4658242835437018, 0.4658242835437018, 0.4658242835437018, 0.4658242835437018, 0.4658242835437018, 0.4658242835437018, 0.4658242835437018, 0.4658242835437018, 0.4658242835437018, 0.4658242835437018, 0.4658242835437018, 0.4658242835437018, 0.4658242835437018, 0.4658242835437018, 0.4658242835437018, 0.4658242835437018, 0.4658242835437018, 0.4658242835437018, 0.4658242835437018, 0.4658242835437018, 0.4658242835437018, 0.4658242835437018, 0.4658242835437018, 0.4658242835437018, 0.4658242835437018, 0.4658242835437018, 0.4658242835437018, 0.4658242835437018, 0.4658242835437018, 0.4658242835437018, 0.4658242835437018, 0.4658242835437018, 0.4658242835437018, 0.4658242835437018, 0.4658242835437018, 0.4658242835437018, 0.4658242835437018, 0.4658242835437018, 0.4658242835437018, 0.4658242835437018, 0.4658242835437018, 0.4658242835437018, 0.4658242835437018, 0.4658242835437018, 0.4658242835437018, 0.4658242835437018, 0.4658242835437018, 0.4658242835437018, 0.4658242835437018, 0.4658242835437018, 0.4658242835437018, 0.4658242835437018, 0.4658242835437018, 0.4658242835437018, 0.4658242835437018, 0.4658242835437018, 0.4658242835437018, 0.4658242835437018, 0.4658242835437018, 0.4658242835437018, 0.4658242835437018, 0.4658242835437018, 0.4658242835437018, 0.4658242835437018, 0.4658242835437018, 0.4658242835437018, 0.4658242835437018, 0.4658242835437018, 0.4658242835437018, 0.4658242835437018, 0.4658242835437018, 0.4658242835437018, 0.4658242835437018, 0.4658242835437018, 0.4658242835437018, 0.4658242835437018, 0.4658242835437018, 0.4658242835437018, 0.4658242835437018, 0.4658242835437018, 0.4658242835437018, 0.4658242835437018, 0.4658242835437018, 0.4658242835437018, 0.4658242835437018, 0.4658242835437018, 0.4658242835437018, 0.4658242835437018, 0.4658242835437018, 0.4658242835437018, 0.4658242835437018, 0.4658242835437018, 0.4658242835437018, 0.4658242835437018, 0.4658242835437018, 0.4658242835437018, 0.4658242835437018, 0.4658242835437018, 0.4658242835437018, 0.4658242835437018, 0.4658242835437018, 0.4658242835437018, 0.4658242835437018, 0.4658242835437018, 0.4658242835437018, 0.4658242835437018, 0.4658242835437018, 0.4658242835437018, 0.4658242835437018, 0.4658242835437018, 0.4658242835437018, 0.4658242835437018, 0.4658242835437018, 0.4658242835437018, 0.4658242835437018, 0.4658242835437018, 0.4658242835437018, 0.4658242835437018, 0.4658242835437018, 0.4658242835437018, 0.4658242835437018, 0.4658242835437018, 0.4658242835437018, 0.4658242835437018, 0.4658242835437018, 0.4658242835437018, 0.4658242835437018, 0.4658242835437018, 0.4658242835437018, 0.4658242835437018, 0.4658242835437018, 0.4658242835437018, 0.4658242835437018, 0.4658242835437018, 0.4658242835437018, 0.4658242835437018, 0.4658242835437018, 0.4658242835437018, 0.4658242835437018, 0.4658242835437018, 0.4658242835437018, 0.4658242835437018, 0.4658242835437018, 0.4658242835437018, 0.4658242835437018, 0.4658242835437018, 0.4658242835437018, 0.4658242835437018, 0.4658242835437018, 0.4658242835437018, 0.4658242835437018, 0.4658242835437018, 0.4658242835437018, 0.4658242835437018, 0.4658242835437018, 0.4658242835437018, 0.4658242835437018, 0.4658242835437018, 0.4658242835437018, 0.4658242835437018, 0.4658242835437018, 0.4658242835437018, 0.4658242835437018, 0.4658242835437018, 0.4658242835437018, 0.4658242835437018, 0.4658242835437018, 0.4658242835437018, 0.4658242835437018, 0.4658242835437018, 0.4658242835437018, 0.4658242835437018, 0.4658242835437018, 0.4658242835437018, 0.4658242835437018, 0.4658242835437018, 0.4658242835437018, 0.4658242835437018, 0.4658242835437018, 0.4658242835437018, 0.4658242835437018, 0.4658242835437018, 0.4658242835437018, 0.4658242835437018, 0.4658242835437018, 0.4658242835437018, 0.4658242835437018, 0.4658242835437018, 0.4658242835437018, 0.4658242835437018, 0.4658242835437018, 0.4658242835437018, 0.4658242835437018, 0.4658242835437018, 0.4658242835437018, 0.4658242835437018, 0.4658242835437018, 0.4658242835437018, 0.4658242835437018, 0.4658242835437018, 0.4658242835437018, 0.4658242835437018, 0.4658242835437018, 0.4658242835437018, 0.4658242835437018, 0.4658242835437018, 0.4658242835437018, 0.4658242835437018, 0.4658242835437018, 0.4658242835437018, 0.4658242835437018, 0.4658242835437018, 0.4658242835437018, 0.4658242835437018, 0.4658242835437018, 0.4658242835437018, 0.4658242835437018, 0.4658242835437018, 0.4658242835437018, 0.4658242835437018, 0.4658242835437018, 0.4658242835437018, 0.4658242835437018, 0.4658242835437018, 0.4658242835437018, 0.4658242835437018, 0.4658242835437018, 0.4658242835437018, 0.4658242835437018, 0.4658242835437018, 0.4658242835437018, 0.4658242835437018, 0.4658242835437018, 0.4658242835437018, 0.4658242835437018, 0.4658242835437018, 0.4658242835437018, 0.4658242835437018, 0.4658242835437018, 0.4658242835437018, 0.4658242835437018, 0.4658242835437018, 0.4658242835437018, 0.4658242835437018, 0.4658242835437018, 0.4658242835437018, 0.4658242835437018, 0.4658242835437018, 0.4658242835437018, 0.4658242835437018, 0.4658242835437018, 0.4658242835437018, 0.4658242835437018, 0.4658242835437018, 0.4658242835437018, 0.4658242835437018, 0.4658242835437018, 0.4658242835437018, 0.4658242835437018, 0.4658242835437018, 0.4658242835437018, 0.4658242835437018, 0.4658242835437018, 0.4658242835437018, 0.4658242835437018, 0.4658242835437018, 0.4658242835437018, 0.4658242835437018, 0.4658242835437018, 0.4658242835437018, 0.4658242835437018, 0.4658242835437018, 0.4658242835437018, 0.4658242835437018, 0.4658242835437018, 0.4658242835437018, 0.4658242835437018, 0.4658242835437018, 0.4658242835437018, 0.4658242835437018, 0.4658242835437018, 0.4658242835437018, 0.4658242835437018, 0.4658242835437018, 0.4658242835437018, 0.4658242835437018, 0.4658242835437018, 0.4658242835437018, 0.4658242835437018, 0.4658242835437018, 0.4658242835437018, 0.4658242835437018, 0.4658242835437018, 0.4658242835437018, 0.4658242835437018, 0.4658242835437018, 0.4658242835437018, 0.4658242835437018, 0.4658242835437018, 0.4658242835437018, 0.4658242835437018, 0.4658242835437018, 0.4658242835437018, 0.4658242835437018, 0.4658242835437018, 0.4658242835437018, 0.4658242835437018, 0.4658242835437018, 0.4658242835437018, 0.4658242835437018, 0.4658242835437018, 0.4658242835437018, 0.4658242835437018, 0.4658242835437018, 0.4658242835437018, 0.4658242835437018, 0.4658242835437018, 0.4658242835437018, 0.4658242835437018, 0.4658242835437018, 0.4658242835437018, 0.4658242835437018, 0.4658242835437018, 0.4658242835437018, 0.4658242835437018, 0.4658242835437018, 0.4658242835437018, 0.4658242835437018, 0.4658242835437018, 0.4658242835437018, 0.4658242835437018, 0.4658242835437018, 0.4658242835437018, 0.4658242835437018, 0.4658242835437018, 0.4658242835437018, 0.4658242835437018, 0.4658242835437018, 0.4658242835437018, 0.4658242835437018, 0.4658242835437018, 0.4658242835437018, 0.4658242835437018, 0.4658242835437018, 0.4658242835437018, 0.4658242835437018, 0.4658242835437018, 0.4658242835437018, 0.4658242835437018, 0.4658242835437018, 0.4658242835437018, 0.4658242835437018, 0.4658242835437018, 0.4658242835437018, 0.4658242835437018, 0.4658242835437018, 0.4658242835437018, 0.4658242835437018, 0.4658242835437018, 0.4658242835437018, 0.4658242835437018, 0.4658242835437018, 0.4658242835437018, 0.4658242835437018, 0.4658242835437018, 0.4658242835437018, 0.4658242835437018, 0.4658242835437018, 0.4658242835437018, 0.4658242835437018, 0.4658242835437018, 0.4658242835437018, 0.4658242835437018, 0.4658242835437018, 0.4658242835437018, 0.4658242835437018, 0.4658242835437018, 0.4658242835437018, 0.4658242835437018, 0.4658242835437018, 0.4658242835437018, 0.4658242835437018, 0.4658242835437018, 0.4658242835437018, 0.4658242835437018, 0.4658242835437018, 0.4658242835437018, 0.4658242835437018, 0.4658242835437018, 0.4658242835437018, 0.4658242835437018, 0.4658242835437018, 0.4658242835437018, 0.4658242835437018, 0.4658242835437018, 0.4658242835437018, 0.4658242835437018, 0.4658242835437018, 0.4658242835437018, 0.4658242835437018, 0.4658242835437018, 0.4658242835437018, 0.4658242835437018, 0.4658242835437018, 0.4658242835437018, 0.4658242835437018, 0.4658242835437018, 0.4658242835437018, 0.4658242835437018, 0.4658242835437018, 0.4658242835437018, 0.4658242835437018, 0.4658242835437018, 0.4658242835437018, 0.4658242835437018, 0.4658242835437018, 0.4658242835437018, 0.4658242835437018, 0.4658242835437018, 0.4658242835437018, 0.4658242835437018, 0.4658242835437018, 0.4658242835437018, 0.4658242835437018, 0.4658242835437018, 0.4658242835437018, 0.4658242835437018, 0.4658242835437018, 0.4658242835437018, 0.4658242835437018, 0.4658242835437018, 0.4658242835437018, 0.4658242835437018, 0.4658242835437018, 0.4658242835437018, 0.4658242835437018, 0.4658242835437018, 0.4658242835437018, 0.4658242835437018, 0.4658242835437018, 0.4658242835437018, 0.4658242835437018, 0.4658242835437018, 0.4658242835437018, 0.4658242835437018, 0.4658242835437018, 0.4658242835437018, 0.4658242835437018, 0.4658242835437018, 0.4658242835437018, 0.4658242835437018, 0.4658242835437018, 0.4658242835437018, 0.4658242835437018, 0.4658242835437018, 0.4658242835437018, 0.4658242835437018, 0.4658242835437018, 0.4658242835437018, 0.4658242835437018, 0.4658242835437018, 0.4658242835437018, 0.4658242835437018, 0.4658242835437018, 0.4658242835437018, 0.4658242835437018, 0.4658242835437018, 0.4658242835437018, 0.4658242835437018, 0.4658242835437018, 0.4658242835437018, 0.4658242835437018, 0.4658242835437018, 0.4658242835437018, 0.4658242835437018, 0.4658242835437018, 0.4658242835437018, 0.4658242835437018, 0.4658242835437018, 0.4658242835437018, 0.4658242835437018, 0.4658242835437018, 0.4658242835437018, 0.4658242835437018, 0.4658242835437018, 0.4658242835437018, 0.4658242835437018, 0.4658242835437018, 0.4658242835437018, 0.4658242835437018, 0.4658242835437018, 0.4658242835437018, 0.4658242835437018, 0.4658242835437018, 0.4658242835437018, 0.4658242835437018, 0.4658242835437018, 0.4658242835437018, 0.4658242835437018, 0.4658242835437018, 0.4658242835437018, 0.4658242835437018, 0.4658242835437018, 0.4658242835437018, 0.4658242835437018, 0.4658242835437018, 0.4658242835437018, 0.4658242835437018, 0.4658242835437018, 0.4658242835437018, 0.4658242835437018, 0.4658242835437018, 0.4658242835437018, 0.4658242835437018, 0.4658242835437018, 0.4658242835437018, 0.4658242835437018, 0.4658242835437018, 0.4658242835437018, 0.4658242835437018, 0.4658242835437018, 0.4658242835437018, 0.4658242835437018, 0.4658242835437018, 0.4658242835437018, 0.4658242835437018, 0.4658242835437018, 0.4658242835437018, 0.4658242835437018, 0.4658242835437018, 0.4658242835437018, 0.4658242835437018, 0.4658242835437018, 0.4658242835437018, 0.4658242835437018, 0.4658242835437018, 0.4658242835437018, 0.4658242835437018, 0.4658242835437018, 0.4658242835437018, 0.4658242835437018, 0.4658242835437018, 0.4658242835437018, 0.4658242835437018, 0.4658242835437018, 0.4658242835437018, 0.4658242835437018, 0.4658242835437018, 0.4658242835437018, 0.4658242835437018, 0.4658242835437018, 0.4658242835437018, 0.4658242835437018, 0.4658242835437018, 0.4658242835437018, 0.4658242835437018, 0.4658242835437018, 0.4658242835437018, 0.4658242835437018, 0.4658242835437018, 0.4658242835437018, 0.4658242835437018, 0.4658242835437018, 0.4658242835437018, 0.4658242835437018, 0.4658242835437018, 0.4658242835437018, 0.4658242835437018, 0.4658242835437018, 0.4658242835437018, 0.4658242835437018, 0.4658242835437018, 0.4658242835437018, 0.4658242835437018, 0.4658242835437018, 0.4658242835437018, 0.4658242835437018, 0.4658242835437018, 0.4658242835437018, 0.4658242835437018, 0.4658242835437018, 0.4658242835437018, 0.4658242835437018, 0.4658242835437018, 0.4658242835437018, 0.4658242835437018, 0.4658242835437018, 0.4658242835437018, 0.4658242835437018, 0.4658242835437018, 0.4658242835437018, 0.4658242835437018, 0.4658242835437018, 0.4658242835437018, 0.4658242835437018, 0.4658242835437018, 0.4658242835437018, 0.4658242835437018, 0.4658242835437018, 0.4658242835437018, 0.4658242835437018, 0.4658242835437018, 0.4658242835437018, 0.4658242835437018, 0.4658242835437018, 0.4658242835437018, 0.4658242835437018, 0.4658242835437018, 0.4658242835437018, 0.4658242835437018, 0.4658242835437018, 0.4658242835437018, 0.4658242835437018, 0.4658242835437018, 0.4658242835437018, 0.4658242835437018, 0.4658242835437018, 0.4658242835437018, 0.4658242835437018, 0.4658242835437018, 0.4658242835437018, 0.4658242835437018, 0.4658242835437018, 0.4658242835437018, 0.4658242835437018, 0.4658242835437018, 0.4658242835437018, 0.4658242835437018, 0.4658242835437018, 0.4658242835437018, 0.4658242835437018, 0.4658242835437018, 0.4658242835437018, 0.4658242835437018, 0.4658242835437018, 0.4658242835437018, 0.4658242835437018, 0.4658242835437018, 0.4658242835437018, 0.4658242835437018, 0.4658242835437018, 0.4658242835437018, 0.4658242835437018, 0.4658242835437018, 0.4658242835437018, 0.4658242835437018, 0.4658242835437018, 0.4658242835437018, 0.4658242835437018, 0.4658242835437018, 0.4658242835437018, 0.4658242835437018, 0.4658242835437018, 0.4658242835437018, 0.4658242835437018, 0.4658242835437018, 0.4658242835437018, 0.4658242835437018, 0.4658242835437018, 0.4658242835437018, 0.4658242835437018, 0.4658242835437018, 0.4658242835437018, 0.4658242835437018, 0.4658242835437018, 0.4658242835437018, 0.4658242835437018, 0.4658242835437018, 0.4658242835437018, 0.4658242835437018, 0.4658242835437018, 0.4658242835437018, 0.4658242835437018, 0.4658242835437018, 0.4658242835437018, 0.4658242835437018, 0.4658242835437018, 0.4658242835437018, 0.4658242835437018, 0.4658242835437018, 0.4658242835437018, 0.4658242835437018, 0.4658242835437018, 0.4658242835437018, 0.4658242835437018, 0.4658242835437018, 0.4658242835437018, 0.4658242835437018, 0.4658242835437018, 0.4658242835437018, 0.4658242835437018, 0.4658242835437018, 0.4658242835437018, 0.4658242835437018, 0.4658242835437018, 0.4658242835437018, 0.4658242835437018, 0.4658242835437018, 0.4658242835437018, 0.4658242835437018, 0.4658242835437018, 0.4658242835437018, 0.4658242835437018, 0.4658242835437018, 0.4658242835437018, 0.4658242835437018, 0.4658242835437018, 0.4658242835437018, 0.4658242835437018, 0.4658242835437018, 0.4658242835437018, 0.4658242835437018, 0.4658242835437018, 0.4658242835437018, 0.4658242835437018, 0.4658242835437018, 0.4658242835437018, 0.4658242835437018, 0.4658242835437018, 0.4658242835437018, 0.4658242835437018, 0.4658242835437018, 0.4658242835437018, 0.4658242835437018, 0.4658242835437018, 0.4658242835437018, 0.4658242835437018, 0.4658242835437018, 0.4658242835437018, 0.4658242835437018, 0.4658242835437018, 0.4658242835437018, 0.4658242835437018, 0.4658242835437018, 0.4658242835437018, 0.4658242835437018, 0.4658242835437018, 0.4658242835437018, 0.4658242835437018, 0.4658242835437018, 0.4658242835437018, 0.4658242835437018, 0.4658242835437018, 0.4658242835437018, 0.4658242835437018, 0.4658242835437018, 0.4658242835437018, 0.4658242835437018, 0.4658242835437018, 0.4658242835437018, 0.4658242835437018, 0.4658242835437018, 0.4658242835437018, 0.4658242835437018, 0.4658242835437018, 0.4658242835437018, 0.4658242835437018, 0.4658242835437018, 0.4658242835437018, 0.4658242835437018, 0.4658242835437018, 0.4658242835437018, 0.4658242835437018, 0.4658242835437018, 0.4658242835437018, 0.4658242835437018, 0.4658242835437018, 0.4658242835437018, 0.4658242835437018, 0.4658242835437018, 0.4658242835437018, 0.4658242835437018, 0.4658242835437018, 0.4658242835437018, 0.4658242835437018, 0.4658242835437018, 0.4658242835437018, 0.4658242835437018, 0.4658242835437018, 0.4658242835437018, 0.4658242835437018, 0.4658242835437018, 0.4658242835437018, 0.4658242835437018, 0.4658242835437018, 0.4658242835437018, 0.4658242835437018, 0.4658242835437018, 0.4658242835437018, 0.4658242835437018, 0.4658242835437018, 0.4658242835437018, 0.4658242835437018, 0.4658242835437018, 0.4658242835437018, 0.4658242835437018, 0.4658242835437018, 0.4658242835437018, 0.4658242835437018, 0.4658242835437018, 0.4658242835437018, 0.4658242835437018, 0.4658242835437018, 0.4658242835437018, 0.4658242835437018, 0.4658242835437018, 0.4658242835437018, 0.4658242835437018, 0.4658242835437018, 0.4658242835437018, 0.4658242835437018, 0.4658242835437018, 0.4658242835437018, 0.4658242835437018, 0.4658242835437018, 0.4658242835437018, 0.4658242835437018, 0.4658242835437018, 0.4658242835437018, 0.4658242835437018, 0.4658242835437018, 0.4658242835437018, 0.4658242835437018, 0.4658242835437018, 0.4658242835437018, 0.4658242835437018, 0.4658242835437018, 0.4658242835437018, 0.4658242835437018, 0.4658242835437018, 0.4658242835437018, 0.4658242835437018, 0.4658242835437018, 0.4658242835437018, 0.4658242835437018, 0.4658242835437018, 0.4658242835437018, 0.4658242835437018, 0.4658242835437018, 0.4658242835437018, 0.4658242835437018, 0.4658242835437018, 0.4658242835437018, 0.4658242835437018, 0.4658242835437018, 0.4658242835437018, 0.4658242835437018, 0.4658242835437018, 0.4658242835437018, 0.4658242835437018, 0.4658242835437018, 0.4658242835437018, 0.4658242835437018, 0.4658242835437018, 0.4658242835437018, 0.4658242835437018, 0.4658242835437018, 0.4658242835437018, 0.4658242835437018, 0.4658242835437018, 0.4658242835437018, 0.4658242835437018, 0.4658242835437018, 0.4658242835437018, 0.4658242835437018, 0.4658242835437018, 0.4658242835437018, 0.4658242835437018, 0.4658242835437018, 0.4658242835437018, 0.4658242835437018, 0.4658242835437018, 0.4658242835437018, 0.4658242835437018, 0.4658242835437018, 0.4658242835437018, 0.4658242835437018, 0.4658242835437018, 0.4658242835437018, 0.4658242835437018, 0.4658242835437018, 0.4658242835437018, 0.4658242835437018, 0.4658242835437018, 0.4658242835437018, 0.4658242835437018, 0.4658242835437018, 0.4658242835437018, 0.4658242835437018, 0.4658242835437018, 0.4658242835437018, 0.4658242835437018, 0.4658242835437018, 0.4658242835437018, 0.4658242835437018, 0.4658242835437018, 0.4658242835437018, 0.4658242835437018, 0.4658242835437018, 0.4658242835437018, 0.4658242835437018, 0.4658242835437018, 0.4658242835437018, 0.4658242835437018, 0.4658242835437018, 0.4658242835437018, 0.4658242835437018, 0.4658242835437018, 0.4658242835437018, 0.4658242835437018, 0.4658242835437018, 0.4658242835437018, 0.4658242835437018, 0.4658242835437018, 0.4658242835437018, 0.4658242835437018, 0.4658242835437018, 0.4658242835437018, 0.4658242835437018, 0.4658242835437018, 0.4658242835437018, 0.4658242835437018, 0.4658242835437018, 0.4658242835437018, 0.4658242835437018, 0.4658242835437018, 0.4658242835437018, 0.4658242835437018, 0.4658242835437018, 0.4658242835437018, 0.4658242835437018, 0.4658242835437018, 0.4658242835437018, 0.4658242835437018, 0.4658242835437018, 0.4658242835437018, 0.4658242835437018, 0.4658242835437018, 0.4658242835437018, 0.4658242835437018, 0.4658242835437018, 0.4658242835437018, 0.4658242835437018, 0.4658242835437018, 0.4658242835437018, 0.4658242835437018, 0.4658242835437018, 0.4658242835437018, 0.4658242835437018, 0.4658242835437018, 0.4658242835437018, 0.4658242835437018, 0.4658242835437018, 0.4658242835437018, 0.4658242835437018, 0.4658242835437018, 0.4658242835437018, 0.4658242835437018, 0.4658242835437018, 0.4658242835437018, 0.4658242835437018, 0.4658242835437018, 0.4658242835437018, 0.4658242835437018, 0.4658242835437018, 0.4658242835437018, 0.4658242835437018, 0.4658242835437018, 0.4658242835437018, 0.4658242835437018, 0.4658242835437018, 0.4658242835437018, 0.4658242835437018, 0.4658242835437018, 0.4658242835437018, 0.4658242835437018, 0.4658242835437018, 0.4658242835437018, 0.4658242835437018, 0.4658242835437018, 0.4658242835437018, 0.4658242835437018, 0.4658242835437018, 0.4658242835437018, 0.4658242835437018, 0.4658242835437018, 0.4658242835437018, 0.4658242835437018, 0.4658242835437018, 0.4658242835437018, 0.4658242835437018, 0.4658242835437018, 0.4658242835437018, 0.4658242835437018, 0.4658242835437018, 0.4658242835437018, 0.4658242835437018, 0.4658242835437018, 0.4658242835437018, 0.4658242835437018, 0.4658242835437018, 0.4658242835437018, 0.4658242835437018, 0.4658242835437018, 0.4658242835437018, 0.4658242835437018, 0.4658242835437018, 0.4658242835437018, 0.4658242835437018, 0.4658242835437018, 0.4658242835437018, 0.4658242835437018, 0.4658242835437018, 0.4658242835437018, 0.4658242835437018, 0.4658242835437018, 0.4658242835437018, 0.4658242835437018, 0.4658242835437018, 0.4658242835437018, 0.4658242835437018, 0.4658242835437018, 0.4658242835437018, 0.4658242835437018, 0.4658242835437018, 0.4658242835437018, 0.4658242835437018, 0.4658242835437018, 0.4658242835437018, 0.4658242835437018, 0.4658242835437018, 0.4658242835437018, 0.4658242835437018, 0.4658242835437018, 0.4658242835437018, 0.4658242835437018, 0.4658242835437018, 0.4658242835437018, 0.4658242835437018, 0.4658242835437018, 0.4658242835437018, 0.4658242835437018, 0.4658242835437018, 0.4658242835437018, 0.4658242835437018, 0.4658242835437018, 0.4658242835437018, 0.4658242835437018, 0.4658242835437018, 0.4658242835437018, 0.4658242835437018, 0.4658242835437018, 0.4658242835437018, 0.4658242835437018, 0.4658242835437018, 0.4658242835437018, 0.4658242835437018, 0.4658242835437018, 0.4658242835437018, 0.4658242835437018, 0.4658242835437018, 0.4658242835437018, 0.4658242835437018, 0.4658242835437018, 0.4658242835437018, 0.4658242835437018, 0.4658242835437018, 0.4658242835437018, 0.4658242835437018, 0.4658242835437018, 0.4658242835437018, 0.4658242835437018, 0.4658242835437018, 0.4658242835437018, 0.4658242835437018, 0.4658242835437018, 0.4658242835437018, 0.4658242835437018, 0.4658242835437018, 0.4658242835437018, 0.4658242835437018, 0.4658242835437018, 0.4658242835437018, 0.4658242835437018, 0.4658242835437018, 0.4658242835437018, 0.4658242835437018, 0.4658242835437018, 0.4658242835437018, 0.4658242835437018, 0.4658242835437018, 0.4658242835437018, 0.4658242835437018, 0.4658242835437018, 0.4658242835437018, 0.4658242835437018, 0.4658242835437018, 0.4658242835437018, 0.4658242835437018, 0.4658242835437018, 0.4658242835437018, 0.4658242835437018, 0.4658242835437018, 0.4658242835437018, 0.4658242835437018, 0.4658242835437018, 0.4658242835437018, 0.4658242835437018, 0.4658242835437018, 0.4658242835437018, 0.4658242835437018, 0.4658242835437018, 0.4658242835437018, 0.4658242835437018, 0.4658242835437018, 0.4658242835437018, 0.4658242835437018, 0.4658242835437018, 0.4658242835437018, 0.4658242835437018, 0.4658242835437018, 0.4658242835437018, 0.4658242835437018, 0.4658242835437018, 0.4658242835437018, 0.4658242835437018, 0.4658242835437018, 0.4658242835437018, 0.4658242835437018, 0.4658242835437018, 0.4658242835437018, 0.4658242835437018, 0.4658242835437018, 0.4658242835437018, 0.4658242835437018, 0.4658242835437018, 0.4658242835437018, 0.4658242835437018, 0.4658242835437018, 0.4658242835437018, 0.4658242835437018, 0.4658242835437018, 0.4658242835437018, 0.4658242835437018, 0.4658242835437018, 0.4658242835437018, 0.4658242835437018, 0.4658242835437018, 0.4658242835437018, 0.4658242835437018, 0.4658242835437018, 0.4658242835437018, 0.4658242835437018, 0.4658242835437018, 0.4658242835437018, 0.4658242835437018, 0.4658242835437018, 0.4658242835437018, 0.4658242835437018, 0.4658242835437018, 0.4658242835437018, 0.4658242835437018, 0.4658242835437018, 0.4658242835437018, 0.4658242835437018, 0.4658242835437018, 0.4658242835437018, 0.4658242835437018, 0.4658242835437018, 0.4658242835437018, 0.4658242835437018, 0.4658242835437018, 0.4658242835437018, 0.4658242835437018, 0.4658242835437018, 0.4658242835437018, 0.4658242835437018, 0.4658242835437018, 0.4658242835437018, 0.4658242835437018, 0.4658242835437018, 0.4658242835437018, 0.4658242835437018, 0.4658242835437018, 0.4658242835437018, 0.4658242835437018, 0.4658242835437018, 0.4658242835437018, 0.4658242835437018, 0.4658242835437018, 0.4658242835437018, 0.4658242835437018, 0.4658242835437018, 0.4658242835437018, 0.4658242835437018, 0.4658242835437018, 0.4658242835437018, 0.4658242835437018, 0.4658242835437018, 0.4658242835437018, 0.4658242835437018, 0.4658242835437018, 0.4658242835437018, 0.4658242835437018, 0.4658242835437018, 0.4658242835437018, 0.4658242835437018, 0.4658242835437018, 0.4658242835437018, 0.4658242835437018, 0.4658242835437018, 0.4658242835437018, 0.4658242835437018, 0.4658242835437018, 0.4658242835437018, 0.4658242835437018, 0.4658242835437018, 0.4658242835437018, 0.4658242835437018, 0.4658242835437018, 0.4658242835437018, 0.4658242835437018, 0.4658242835437018, 0.4658242835437018, 0.4658242835437018, 0.4658242835437018, 0.4658242835437018, 0.4658242835437018, 0.4658242835437018, 0.4658242835437018, 0.4658242835437018, 0.4658242835437018, 0.4658242835437018, 0.4658242835437018, 0.4658242835437018, 0.4658242835437018, 0.4658242835437018, 0.4658242835437018, 0.4658242835437018, 0.4658242835437018, 0.4658242835437018, 0.4658242835437018, 0.4658242835437018, 0.4658242835437018, 0.4658242835437018, 0.4658242835437018, 0.4658242835437018, 0.4658242835437018, 0.4658242835437018, 0.4658242835437018, 0.4658242835437018, 0.4658242835437018, 0.4658242835437018, 0.4658242835437018, 0.4658242835437018, 0.4658242835437018, 0.4658242835437018, 0.4658242835437018, 0.4658242835437018, 0.4658242835437018, 0.4658242835437018, 0.4658242835437018, 0.4658242835437018, 0.4658242835437018, 0.4658242835437018, 0.4658242835437018, 0.4658242835437018, 0.4658242835437018, 0.4658242835437018, 0.4658242835437018, 0.4658242835437018, 0.4658242835437018, 0.4658242835437018, 0.4658242835437018, 0.4658242835437018, 0.4658242835437018, 0.4658242835437018, 0.4658242835437018, 0.4658242835437018, 0.4658242835437018, 0.4658242835437018, 0.4658242835437018, 0.4658242835437018, 0.4658242835437018, 0.4658242835437018, 0.4658242835437018, 0.4658242835437018, 0.4658242835437018, 0.4658242835437018, 0.4658242835437018, 0.4658242835437018, 0.4658242835437018, 0.4658242835437018, 0.4658242835437018, 0.4658242835437018, 0.4658242835437018, 0.4658242835437018, 0.4658242835437018, 0.4658242835437018, 0.4658242835437018, 0.4658242835437018, 0.4658242835437018, 0.4658242835437018, 0.4658242835437018, 0.4658242835437018, 0.4658242835437018, 0.4658242835437018, 0.4658242835437018, 0.4658242835437018, 0.4658242835437018, 0.4658242835437018, 0.4658242835437018, 0.4658242835437018, 0.4658242835437018, 0.4658242835437018, 0.4658242835437018, 0.4658242835437018, 0.4658242835437018, 0.4658242835437018, 0.4658242835437018, 0.4658242835437018, 0.4658242835437018, 0.4658242835437018, 0.4658242835437018, 0.4658242835437018, 0.4658242835437018, 0.4658242835437018, 0.4658242835437018, 0.4658242835437018, 0.4658242835437018, 0.4658242835437018, 0.4658242835437018, 0.4658242835437018, 0.4658242835437018, 0.4658242835437018, 0.4658242835437018, 0.4658242835437018, 0.4658242835437018, 0.4658242835437018, 0.4658242835437018, 0.4658242835437018, 0.4658242835437018, 0.4658242835437018, 0.4658242835437018, 0.4658242835437018, 0.4658242835437018, 0.4658242835437018, 0.4658242835437018, 0.4658242835437018, 0.4658242835437018, 0.4658242835437018, 0.4658242835437018, 0.4658242835437018, 0.4658242835437018, 0.4658242835437018, 0.4658242835437018, 0.4658242835437018, 0.4658242835437018, 0.4658242835437018, 0.4658242835437018, 0.4658242835437018, 0.4658242835437018, 0.4658242835437018, 0.4658242835437018, 0.4658242835437018, 0.4658242835437018, 0.4658242835437018, 0.4658242835437018, 0.4658242835437018, 0.4658242835437018, 0.4658242835437018, 0.4658242835437018, 0.4658242835437018, 0.4658242835437018, 0.4658242835437018, 0.4658242835437018, 0.4658242835437018, 0.4658242835437018, 0.4658242835437018, 0.4658242835437018, 0.4658242835437018, 0.4658242835437018, 0.4658242835437018, 0.4658242835437018, 0.4658242835437018, 0.4658242835437018, 0.4658242835437018, 0.4658242835437018, 0.4658242835437018, 0.4658242835437018, 0.4658242835437018, 0.4658242835437018, 0.4658242835437018, 0.4658242835437018, 0.4658242835437018, 0.4658242835437018, 0.4658242835437018, 0.4658242835437018, 0.4658242835437018, 0.4658242835437018, 0.4658242835437018, 0.4658242835437018, 0.4658242835437018, 0.4658242835437018, 0.4658242835437018, 0.4658242835437018, 0.4658242835437018, 0.4658242835437018, 0.4658242835437018, 0.4658242835437018, 0.4658242835437018, 0.4658242835437018, 0.4658242835437018, 0.4658242835437018, 0.4658242835437018, 0.4658242835437018, 0.4658242835437018, 0.4658242835437018, 0.4658242835437018, 0.4658242835437018, 0.4658242835437018, 0.4658242835437018, 0.4658242835437018, 0.4658242835437018, 0.4658242835437018, 0.4658242835437018, 0.4658242835437018, 0.4658242835437018, 0.4658242835437018, 0.4658242835437018, 0.4658242835437018, 0.4658242835437018, 0.4658242835437018, 0.4658242835437018, 0.4658242835437018, 0.4658242835437018, 0.4658242835437018, 0.4658242835437018, 0.4658242835437018, 0.4658242835437018, 0.4658242835437018, 0.4658242835437018, 0.4658242835437018, 0.4658242835437018, 0.4658242835437018, 0.4658242835437018, 0.4658242835437018, 0.4658242835437018, 0.4658242835437018, 0.4658242835437018, 0.4658242835437018, 0.4658242835437018, 0.4658242835437018, 0.4658242835437018, 0.4658242835437018, 0.4658242835437018, 0.4658242835437018, 0.4658242835437018, 0.4658242835437018, 0.4658242835437018, 0.4658242835437018, 0.4658242835437018, 0.4658242835437018, 0.4658242835437018, 0.4658242835437018, 0.4658242835437018, 0.4658242835437018, 0.4658242835437018, 0.4658242835437018, 0.4658242835437018, 0.4658242835437018, 0.4658242835437018, 0.4658242835437018, 0.4658242835437018, 0.4658242835437018, 0.4658242835437018, 0.4658242835437018, 0.4658242835437018, 0.4658242835437018, 0.4658242835437018, 0.4658242835437018, 0.4658242835437018, 0.4658242835437018, 0.4658242835437018, 0.4658242835437018, 0.4658242835437018, 0.4658242835437018, 0.4658242835437018, 0.4658242835437018, 0.4658242835437018, 0.4658242835437018, 0.4658242835437018, 0.4658242835437018, 0.4658242835437018, 0.4658242835437018, 0.4658242835437018, 0.4658242835437018, 0.4658242835437018, 0.4658242835437018, 0.4658242835437018, 0.4658242835437018, 0.4658242835437018, 0.4658242835437018, 0.4658242835437018, 0.4658242835437018, 0.4658242835437018, 0.4658242835437018, 0.4658242835437018, 0.4658242835437018, 0.4658242835437018, 0.4658242835437018, 0.4658242835437018, 0.4658242835437018, 0.4658242835437018, 0.4658242835437018, 0.4658242835437018, 0.4658242835437018, 0.4658242835437018, 0.4658242835437018, 0.4658242835437018, 0.4658242835437018, 0.4658242835437018, 0.4658242835437018, 0.4658242835437018, 0.4658242835437018, 0.4658242835437018, 0.4658242835437018, 0.4658242835437018, 0.4658242835437018, 0.4658242835437018, 0.4658242835437018, 0.4658242835437018, 0.4658242835437018, 0.4658242835437018, 0.4658242835437018, 0.4658242835437018, 0.4658242835437018, 0.4658242835437018, 0.4658242835437018, 0.4658242835437018, 0.4658242835437018, 0.4658242835437018, 0.4658242835437018, 0.4658242835437018, 0.4658242835437018, 0.4658242835437018, 0.4658242835437018, 0.4658242835437018, 0.4658242835437018, 0.4658242835437018, 0.4658242835437018, 0.4658242835437018, 0.4658242835437018, 0.4658242835437018, 0.4658242835437018, 0.4658242835437018, 0.4658242835437018, 0.4658242835437018, 0.4658242835437018, 0.4658242835437018, 0.4658242835437018, 0.4658242835437018, 0.4658242835437018, 0.4658242835437018, 0.4658242835437018, 0.4658242835437018, 0.4658242835437018, 0.4658242835437018, 0.4658242835437018, 0.4658242835437018, 0.4658242835437018, 0.4658242835437018, 0.4658242835437018, 0.4658242835437018, 0.4658242835437018, 0.4658242835437018, 0.4658242835437018, 0.4658242835437018, 0.4658242835437018, 0.4658242835437018, 0.4658242835437018, 0.4658242835437018, 0.4658242835437018, 0.4658242835437018, 0.4658242835437018, 0.4658242835437018, 0.4658242835437018, 0.4658242835437018, 0.4658242835437018, 0.4658242835437018, 0.4658242835437018, 0.4658242835437018, 0.4658242835437018, 0.4658242835437018, 0.4658242835437018, 0.4658242835437018, 0.4658242835437018, 0.4658242835437018, 0.4658242835437018, 0.4658242835437018, 0.4658242835437018, 0.4658242835437018, 0.4658242835437018, 0.4658242835437018, 0.4658242835437018, 0.4658242835437018, 0.4658242835437018, 0.4658242835437018, 0.4658242835437018, 0.4658242835437018, 0.4658242835437018, 0.4658242835437018, 0.4658242835437018, 0.4658242835437018, 0.4658242835437018, 0.4658242835437018, 0.4658242835437018, 0.4658242835437018, 0.4658242835437018, 0.4658242835437018, 0.4658242835437018, 0.4658242835437018, 0.4658242835437018, 0.4658242835437018, 0.4658242835437018, 0.4658242835437018, 0.4658242835437018, 0.4658242835437018, 0.4658242835437018, 0.4658242835437018, 0.4658242835437018, 0.4658242835437018, 0.4658242835437018, 0.4658242835437018, 0.4658242835437018, 0.4658242835437018, 0.4658242835437018, 0.4658242835437018, 0.4658242835437018, 0.4658242835437018, 0.4658242835437018, 0.4658242835437018, 0.4658242835437018, 0.4658242835437018, 0.4658242835437018, 0.4658242835437018, 0.4658242835437018, 0.4658242835437018, 0.4658242835437018, 0.4658242835437018, 0.4658242835437018, 0.4658242835437018, 0.4658242835437018, 0.4658242835437018, 0.4658242835437018, 0.4658242835437018, 0.4658242835437018, 0.4658242835437018, 0.4658242835437018, 0.4658242835437018, 0.4658242835437018, 0.4658242835437018, 0.4658242835437018, 0.4658242835437018, 0.4658242835437018, 0.4658242835437018, 0.4658242835437018, 0.4658242835437018, 0.4658242835437018, 0.4658242835437018, 0.4658242835437018, 0.4658242835437018, 0.4658242835437018, 0.4658242835437018, 0.4658242835437018, 0.4658242835437018, 0.4658242835437018, 0.4658242835437018, 0.4658242835437018, 0.4658242835437018, 0.4658242835437018, 0.4658242835437018, 0.4658242835437018, 0.4658242835437018, 0.4658242835437018, 0.4658242835437018, 0.4658242835437018, 0.4658242835437018, 0.4658242835437018, 0.4658242835437018, 0.4658242835437018, 0.4658242835437018, 0.4658242835437018, 0.4658242835437018, 0.4658242835437018, 0.4658242835437018, 0.4658242835437018, 0.4658242835437018, 0.4658242835437018, 0.4658242835437018, 0.4658242835437018, 0.4658242835437018, 0.4658242835437018, 0.4658242835437018, 0.4658242835437018, 0.4658242835437018, 0.4658242835437018, 0.4658242835437018, 0.4658242835437018, 0.4658242835437018, 0.4658242835437018, 0.4658242835437018, 0.4658242835437018, 0.4658242835437018, 0.4658242835437018, 0.4658242835437018, 0.4658242835437018, 0.4658242835437018, 0.4658242835437018, 0.4658242835437018, 0.4658242835437018, 0.4658242835437018, 0.4658242835437018, 0.4658242835437018, 0.4658242835437018, 0.4658242835437018, 0.4658242835437018, 0.4658242835437018, 0.4658242835437018, 0.4658242835437018, 0.4658242835437018, 0.4658242835437018, 0.4658242835437018, 0.4658242835437018, 0.4658242835437018, 0.4658242835437018, 0.4658242835437018, 0.4658242835437018, 0.4658242835437018, 0.4658242835437018, 0.4658242835437018, 0.4658242835437018, 0.4658242835437018, 0.4658242835437018, 0.4658242835437018, 0.4658242835437018, 0.4658242835437018, 0.4658242835437018, 0.4658242835437018, 0.4658242835437018, 0.4658242835437018, 0.4658242835437018, 0.4658242835437018, 0.4658242835437018, 0.4658242835437018, 0.4658242835437018, 0.4658242835437018, 0.4658242835437018, 0.4658242835437018, 0.4658242835437018, 0.4658242835437018, 0.4658242835437018, 0.4658242835437018, 0.4658242835437018, 0.4658242835437018, 0.4658242835437018, 0.4658242835437018, 0.4658242835437018, 0.4658242835437018, 0.4658242835437018, 0.4658242835437018, 0.4658242835437018, 0.4658242835437018, 0.4658242835437018, 0.4658242835437018, 0.4658242835437018, 0.4658242835437018, 0.4658242835437018, 0.4658242835437018, 0.4658242835437018, 0.4658242835437018, 0.4658242835437018, 0.4658242835437018, 0.4658242835437018, 0.4658242835437018, 0.4658242835437018, 0.4658242835437018, 0.4658242835437018, 0.4658242835437018, 0.4658242835437018, 0.4658242835437018, 0.4658242835437018, 0.4658242835437018, 0.4658242835437018, 0.4658242835437018, 0.4658242835437018, 0.4658242835437018, 0.4658242835437018, 0.4658242835437018, 0.4658242835437018, 0.4658242835437018, 0.4658242835437018, 0.4658242835437018, 0.4658242835437018, 0.4658242835437018, 0.4658242835437018, 0.4658242835437018, 0.4658242835437018, 0.4658242835437018, 0.4658242835437018, 0.4658242835437018, 0.4658242835437018, 0.4658242835437018, 0.4658242835437018, 0.4658242835437018, 0.4658242835437018, 0.4658242835437018, 0.4658242835437018, 0.4658242835437018, 0.4658242835437018, 0.4658242835437018, 0.4658242835437018, 0.4658242835437018, 0.4658242835437018, 0.4658242835437018, 0.4658242835437018, 0.4658242835437018, 0.4658242835437018, 0.4658242835437018, 0.4658242835437018, 0.4658242835437018, 0.4658242835437018, 0.4658242835437018, 0.4658242835437018, 0.4658242835437018, 0.4658242835437018, 0.4658242835437018, 0.4658242835437018, 0.4658242835437018, 0.4658242835437018, 0.4658242835437018, 0.4658242835437018, 0.4658242835437018, 0.4658242835437018, 0.4658242835437018, 0.4658242835437018, 0.4658242835437018, 0.4658242835437018, 0.4658242835437018, 0.4658242835437018, 0.4658242835437018, 0.4658242835437018, 0.4658242835437018, 0.4658242835437018, 0.4658242835437018, 0.4658242835437018, 0.4658242835437018, 0.4658242835437018, 0.4658242835437018, 0.4658242835437018, 0.4658242835437018, 0.4658242835437018, 0.4658242835437018, 0.4658242835437018, 0.4658242835437018, 0.4658242835437018, 0.4658242835437018, 0.4658242835437018, 0.4658242835437018, 0.4658242835437018, 0.4658242835437018, 0.4658242835437018, 0.4658242835437018, 0.4658242835437018, 0.4658242835437018, 0.4658242835437018, 0.4658242835437018, 0.4658242835437018, 0.4658242835437018, 0.4658242835437018, 0.4658242835437018, 0.4658242835437018, 0.4658242835437018, 0.4658242835437018, 0.4658242835437018, 0.4658242835437018, 0.4658242835437018, 0.4658242835437018, 0.4658242835437018, 0.4658242835437018, 0.4658242835437018, 0.4658242835437018, 0.4658242835437018, 0.4658242835437018, 0.4658242835437018, 0.4658242835437018, 0.4658242835437018, 0.4658242835437018, 0.4658242835437018, 0.4658242835437018, 0.4658242835437018, 0.4658242835437018, 0.4658242835437018, 0.4658242835437018, 0.4658242835437018, 0.4658242835437018, 0.4658242835437018, 0.4658242835437018, 0.4658242835437018, 0.4658242835437018, 0.4658242835437018, 0.4658242835437018, 0.4658242835437018, 0.4658242835437018, 0.4658242835437018, 0.4658242835437018, 0.4658242835437018, 0.4658242835437018, 0.4658242835437018, 0.4658242835437018, 0.4658242835437018, 0.4658242835437018, 0.4658242835437018, 0.4658242835437018, 0.4658242835437018, 0.4658242835437018, 0.4658242835437018, 0.4658242835437018, 0.4658242835437018, 0.4658242835437018, 0.4658242835437018, 0.4658242835437018, 0.4658242835437018, 0.4658242835437018, 0.4658242835437018, 0.4658242835437018, 0.4658242835437018, 0.4658242835437018, 0.4658242835437018, 0.4658242835437018, 0.4658242835437018, 0.4658242835437018, 0.4658242835437018, 0.4658242835437018, 0.4658242835437018, 0.4658242835437018, 0.4658242835437018, 0.4658242835437018, 0.4658242835437018, 0.4658242835437018, 0.4658242835437018, 0.4658242835437018, 0.4658242835437018, 0.4658242835437018, 0.4658242835437018, 0.4658242835437018, 0.4658242835437018, 0.4658242835437018, 0.4658242835437018, 0.4658242835437018, 0.4658242835437018, 0.4658242835437018, 0.4658242835437018, 0.4658242835437018, 0.4658242835437018, 0.4658242835437018, 0.4658242835437018, 0.4658242835437018, 0.4658242835437018, 0.4658242835437018, 0.4658242835437018, 0.4658242835437018, 0.4658242835437018, 0.4658242835437018, 0.4658242835437018, 0.4658242835437018, 0.4658242835437018, 0.4658242835437018, 0.4658242835437018, 0.4658242835437018, 0.4658242835437018, 0.4658242835437018, 0.4658242835437018, 0.4658242835437018, 0.4658242835437018, 0.4658242835437018, 0.4658242835437018, 0.4658242835437018, 0.4658242835437018, 0.4658242835437018, 0.4658242835437018, 0.4658242835437018, 0.4658242835437018, 0.4658242835437018, 0.4658242835437018, 0.4658242835437018, 0.4658242835437018, 0.4658242835437018, 0.4658242835437018, 0.4658242835437018, 0.4658242835437018, 0.4658242835437018, 0.4658242835437018, 0.4658242835437018, 0.4658242835437018, 0.4658242835437018, 0.4658242835437018, 0.4658242835437018, 0.4658242835437018, 0.4658242835437018, 0.4658242835437018, 0.4658242835437018, 0.4658242835437018, 0.4658242835437018, 0.4658242835437018, 0.4658242835437018, 0.4658242835437018, 0.4658242835437018, 0.4658242835437018, 0.4658242835437018, 0.4658242835437018, 0.4658242835437018, 0.4658242835437018, 0.4658242835437018, 0.4658242835437018, 0.4658242835437018, 0.4658242835437018, 0.4658242835437018, 0.4658242835437018, 0.4658242835437018, 0.4658242835437018, 0.4658242835437018, 0.4658242835437018, 0.4658242835437018, 0.4658242835437018, 0.4658242835437018, 0.4658242835437018, 0.4658242835437018, 0.4658242835437018, 0.4658242835437018, 0.4658242835437018, 0.4658242835437018, 0.4658242835437018, 0.4658242835437018, 0.4658242835437018, 0.4658242835437018, 0.4658242835437018, 0.4658242835437018, 0.4658242835437018, 0.4658242835437018, 0.4658242835437018, 0.4658242835437018, 0.4658242835437018, 0.4658242835437018, 0.4658242835437018, 0.4658242835437018, 0.4658242835437018, 0.4658242835437018, 0.4658242835437018, 0.4658242835437018, 0.4658242835437018, 0.4658242835437018, 0.4658242835437018, 0.4658242835437018, 0.4658242835437018, 0.4658242835437018, 0.4658242835437018, 0.4658242835437018, 0.4658242835437018, 0.4658242835437018, 0.4658242835437018, 0.4658242835437018, 0.4658242835437018, 0.4658242835437018, 0.4658242835437018, 0.4658242835437018, 0.4658242835437018, 0.4658242835437018, 0.4658242835437018, 0.4658242835437018, 0.4658242835437018, 0.4658242835437018, 0.4658242835437018, 0.4658242835437018, 0.4658242835437018, 0.4658242835437018, 0.4658242835437018, 0.4658242835437018, 0.4658242835437018, 0.4658242835437018, 0.4658242835437018, 0.4658242835437018, 0.4658242835437018, 0.4658242835437018, 0.4658242835437018, 0.4658242835437018, 0.4658242835437018, 0.4658242835437018, 0.4658242835437018, 0.4658242835437018, 0.4658242835437018, 0.4658242835437018, 0.4658242835437018, 0.4658242835437018, 0.4658242835437018, 0.4658242835437018, 0.4658242835437018, 0.4658242835437018, 0.4658242835437018, 0.4658242835437018, 0.4658242835437018, 0.4658242835437018, 0.4658242835437018, 0.4658242835437018, 0.4658242835437018, 0.4658242835437018, 0.4658242835437018, 0.4658242835437018, 0.4658242835437018, 0.4658242835437018, 0.4658242835437018, 0.4658242835437018, 0.4658242835437018, 0.4658242835437018, 0.4658242835437018, 0.4658242835437018, 0.4658242835437018, 0.4658242835437018, 0.4658242835437018, 0.4658242835437018, 0.4658242835437018, 0.4658242835437018, 0.4658242835437018, 0.4658242835437018, 0.4658242835437018, 0.4658242835437018, 0.4658242835437018, 0.4658242835437018, 0.4658242835437018, 0.4658242835437018, 0.4658242835437018, 0.4658242835437018, 0.4658242835437018, 0.4658242835437018, 0.4658242835437018, 0.4658242835437018, 0.4658242835437018, 0.4658242835437018, 0.4658242835437018, 0.4658242835437018, 0.4658242835437018, 0.4658242835437018, 0.4658242835437018, 0.4658242835437018, 0.4658242835437018, 0.4658242835437018, 0.4658242835437018, 0.4658242835437018, 0.4658242835437018, 0.4658242835437018, 0.4658242835437018, 0.4658242835437018, 0.4658242835437018, 0.4658242835437018, 0.4658242835437018, 0.4658242835437018, 0.4658242835437018, 0.4658242835437018, 0.4658242835437018, 0.4658242835437018, 0.4658242835437018, 0.4658242835437018, 0.4658242835437018, 0.4658242835437018, 0.4658242835437018, 0.4658242835437018, 0.4658242835437018, 0.4658242835437018, 0.4658242835437018, 0.4658242835437018, 0.4658242835437018, 0.4658242835437018, 0.4658242835437018, 0.4658242835437018, 0.4658242835437018, 0.4658242835437018, 0.4658242835437018, 0.4658242835437018, 0.4658242835437018, 0.4658242835437018, 0.4658242835437018, 0.4658242835437018, 0.4658242835437018, 0.4658242835437018, 0.4658242835437018, 0.4658242835437018, 0.4658242835437018, 0.4658242835437018, 0.4658242835437018, 0.4658242835437018, 0.4658242835437018, 0.4658242835437018, 0.4658242835437018, 0.4658242835437018, 0.4658242835437018, 0.4658242835437018, 0.4658242835437018, 0.4658242835437018, 0.4658242835437018, 0.4658242835437018, 0.4658242835437018, 0.4658242835437018, 0.4658242835437018, 0.4658242835437018, 0.4658242835437018, 0.4658242835437018, 0.4658242835437018, 0.4658242835437018, 0.4658242835437018, 0.4658242835437018, 0.4658242835437018, 0.4658242835437018, 0.4658242835437018, 0.4658242835437018, 0.4658242835437018, 0.4658242835437018, 0.4658242835437018, 0.4658242835437018, 0.4658242835437018, 0.4658242835437018, 0.4658242835437018, 0.4658242835437018, 0.4658242835437018, 0.4658242835437018, 0.4658242835437018, 0.4658242835437018, 0.4658242835437018, 0.4658242835437018, 0.4658242835437018, 0.4658242835437018, 0.4658242835437018, 0.4658242835437018, 0.4658242835437018, 0.4658242835437018, 0.4658242835437018, 0.4658242835437018, 0.4658242835437018, 0.4658242835437018, 0.4658242835437018, 0.4658242835437018, 0.4658242835437018, 0.4658242835437018, 0.4658242835437018, 0.4658242835437018, 0.4658242835437018, 0.4658242835437018, 0.4658242835437018, 0.4658242835437018, 0.4658242835437018, 0.4658242835437018, 0.4658242835437018, 0.4658242835437018, 0.4658242835437018, 0.4658242835437018, 0.4658242835437018, 0.4658242835437018, 0.4658242835437018, 0.4658242835437018, 0.4658242835437018, 0.4658242835437018, 0.4658242835437018, 0.4658242835437018, 0.4658242835437018, 0.4658242835437018, 0.4658242835437018, 0.4658242835437018, 0.4658242835437018, 0.4658242835437018, 0.4658242835437018, 0.4658242835437018, 0.4658242835437018, 0.4658242835437018, 0.4658242835437018, 0.4658242835437018, 0.4658242835437018, 0.4658242835437018, 0.4658242835437018, 0.4658242835437018, 0.4658242835437018, 0.4658242835437018, 0.4658242835437018, 0.4658242835437018, 0.4658242835437018, 0.4658242835437018, 0.4658242835437018, 0.4658242835437018, 0.4658242835437018, 0.4658242835437018, 0.4658242835437018, 0.4658242835437018, 0.4658242835437018, 0.4658242835437018, 0.4658242835437018, 0.4658242835437018, 0.4658242835437018, 0.4658242835437018, 0.4658242835437018, 0.4658242835437018, 0.4658242835437018, 0.4658242835437018, 0.4658242835437018, 0.4658242835437018, 0.4658242835437018, 0.4658242835437018, 0.4658242835437018, 0.4658242835437018, 0.4658242835437018, 0.4658242835437018, 0.4658242835437018, 0.4658242835437018, 0.4658242835437018, 0.4658242835437018, 0.4658242835437018, 0.4658242835437018, 0.4658242835437018, 0.4658242835437018, 0.4658242835437018, 0.4658242835437018, 0.4658242835437018, 0.4658242835437018, 0.4658242835437018, 0.4658242835437018, 0.4658242835437018, 0.4658242835437018, 0.4658242835437018, 0.4658242835437018, 0.4658242835437018, 0.4658242835437018, 0.4658242835437018, 0.4658242835437018, 0.4658242835437018, 0.4658242835437018, 0.4658242835437018, 0.4658242835437018, 0.4658242835437018, 0.4658242835437018, 0.4658242835437018, 0.4658242835437018, 0.4658242835437018, 0.4658242835437018, 0.4658242835437018, 0.4658242835437018, 0.4658242835437018, 0.4658242835437018, 0.4658242835437018, 0.4658242835437018, 0.4658242835437018, 0.4658242835437018, 0.4658242835437018, 0.4658242835437018, 0.4658242835437018, 0.4658242835437018, 0.4658242835437018, 0.4658242835437018, 0.4658242835437018, 0.4658242835437018, 0.4658242835437018, 0.4658242835437018, 0.4658242835437018, 0.4658242835437018, 0.4658242835437018, 0.4658242835437018, 0.4658242835437018, 0.4658242835437018, 0.4658242835437018, 0.4658242835437018, 0.4658242835437018, 0.4658242835437018, 0.4658242835437018, 0.4658242835437018, 0.4658242835437018, 0.4658242835437018, 0.4658242835437018, 0.4658242835437018, 0.4658242835437018, 0.4658242835437018, 0.4658242835437018, 0.4658242835437018, 0.4658242835437018, 0.4658242835437018, 0.4658242835437018, 0.4658242835437018, 0.4658242835437018, 0.4658242835437018, 0.4658242835437018, 0.4658242835437018, 0.4658242835437018, 0.4658242835437018, 0.4658242835437018, 0.4658242835437018, 0.4658242835437018, 0.4658242835437018, 0.4658242835437018, 0.4658242835437018, 0.4658242835437018, 0.4658242835437018, 0.4658242835437018, 0.4658242835437018, 0.4658242835437018, 0.4658242835437018, 0.4658242835437018, 0.4658242835437018, 0.4658242835437018, 0.4658242835437018, 0.4658242835437018, 0.4658242835437018, 0.4658242835437018, 0.4658242835437018, 0.4658242835437018, 0.4658242835437018, 0.4658242835437018, 0.4658242835437018, 0.4658242835437018, 0.4658242835437018, 0.4658242835437018, 0.4658242835437018, 0.4658242835437018, 0.4658242835437018, 0.4658242835437018, 0.4658242835437018, 0.4658242835437018, 0.4658242835437018, 0.4658242835437018, 0.4658242835437018, 0.4658242835437018, 0.4658242835437018, 0.4658242835437018, 0.4658242835437018, 0.4658242835437018, 0.4658242835437018, 0.4658242835437018, 0.4658242835437018, 0.4658242835437018, 0.4658242835437018, 0.4658242835437018, 0.4658242835437018, 0.4658242835437018, 0.4658242835437018, 0.4658242835437018, 0.4658242835437018, 0.4658242835437018, 0.4658242835437018, 0.4658242835437018, 0.4658242835437018, 0.4658242835437018, 0.4658242835437018, 0.4658242835437018, 0.4658242835437018, 0.4658242835437018, 0.4658242835437018, 0.4658242835437018, 0.4658242835437018, 0.4658242835437018, 0.4658242835437018, 0.4658242835437018, 0.4658242835437018, 0.4658242835437018, 0.4658242835437018, 0.4658242835437018, 0.4658242835437018, 0.4658242835437018, 0.4658242835437018, 0.4658242835437018, 0.4658242835437018, 0.4658242835437018, 0.4658242835437018, 0.4658242835437018, 0.4658242835437018, 0.4658242835437018, 0.4658242835437018, 0.4658242835437018, 0.4658242835437018, 0.4658242835437018, 0.4658242835437018, 0.4658242835437018, 0.4658242835437018, 0.4658242835437018, 0.4658242835437018, 0.4658242835437018, 0.4658242835437018, 0.4658242835437018, 0.4658242835437018, 0.4658242835437018, 0.4658242835437018, 0.4658242835437018, 0.4658242835437018, 0.4658242835437018, 0.4658242835437018, 0.4658242835437018, 0.4658242835437018, 0.4658242835437018, 0.4658242835437018, 0.4658242835437018, 0.4658242835437018, 0.4658242835437018, 0.4658242835437018, 0.4658242835437018, 0.4658242835437018, 0.4658242835437018, 0.4658242835437018, 0.4658242835437018, 0.4658242835437018, 0.4658242835437018, 0.4658242835437018, 0.4658242835437018, 0.4658242835437018, 0.4658242835437018, 0.4658242835437018, 0.4658242835437018, 0.4658242835437018, 0.4658242835437018, 0.4658242835437018, 0.4658242835437018, 0.4658242835437018, 0.4658242835437018, 0.4658242835437018, 0.4658242835437018, 0.4658242835437018, 0.4658242835437018, 0.4658242835437018, 0.4658242835437018, 0.4658242835437018, 0.4658242835437018, 0.4658242835437018, 0.4658242835437018, 0.4658242835437018, 0.4658242835437018, 0.4658242835437018, 0.4658242835437018, 0.4658242835437018, 0.4658242835437018, 0.4658242835437018, 0.4658242835437018, 0.4658242835437018, 0.4658242835437018, 0.4658242835437018, 0.4658242835437018, 0.4658242835437018, 0.4658242835437018, 0.4658242835437018, 0.4658242835437018, 0.4658242835437018, 0.4658242835437018, 0.4658242835437018, 0.4658242835437018, 0.4658242835437018, 0.4658242835437018, 0.4658242835437018, 0.4658242835437018, 0.4658242835437018, 0.4658242835437018, 0.4658242835437018, 0.4658242835437018, 0.4658242835437018, 0.4658242835437018, 0.4658242835437018, 0.4658242835437018, 0.4658242835437018, 0.4658242835437018, 0.4658242835437018, 0.4658242835437018, 0.4658242835437018, 0.4658242835437018, 0.4658242835437018, 0.4658242835437018, 0.4658242835437018, 0.4658242835437018, 0.4658242835437018, 0.4658242835437018, 0.4658242835437018, 0.4658242835437018, 0.4658242835437018, 0.4658242835437018, 0.4658242835437018, 0.4658242835437018, 0.4658242835437018, 0.4658242835437018, 0.4658242835437018, 0.4658242835437018, 0.4658242835437018, 0.4658242835437018, 0.4658242835437018, 0.4658242835437018, 0.4658242835437018, 0.4658242835437018, 0.4658242835437018, 0.4658242835437018, 0.4658242835437018, 0.4658242835437018, 0.4658242835437018, 0.4658242835437018, 0.4658242835437018, 0.4658242835437018, 0.4658242835437018, 0.4658242835437018, 0.4658242835437018, 0.4658242835437018, 0.4658242835437018, 0.4658242835437018, 0.4658242835437018, 0.4658242835437018, 0.4658242835437018, 0.4658242835437018, 0.4658242835437018, 0.4658242835437018, 0.4658242835437018, 0.4658242835437018, 0.4658242835437018, 0.4658242835437018, 0.4658242835437018, 0.4658242835437018, 0.4658242835437018, 0.4658242835437018, 0.4658242835437018, 0.4658242835437018, 0.4658242835437018, 0.4658242835437018, 0.4658242835437018, 0.4658242835437018, 0.4658242835437018, 0.4658242835437018, 0.4658242835437018, 0.4658242835437018, 0.4658242835437018, 0.4658242835437018, 0.4658242835437018, 0.4658242835437018, 0.4658242835437018, 0.4658242835437018, 0.4658242835437018, 0.4658242835437018, 0.4658242835437018, 0.4658242835437018, 0.4658242835437018, 0.4658242835437018, 0.4658242835437018, 0.4658242835437018, 0.4658242835437018, 0.4658242835437018, 0.4658242835437018, 0.4658242835437018, 0.4658242835437018, 0.4658242835437018, 0.4658242835437018, 0.4658242835437018, 0.4658242835437018, 0.4658242835437018, 0.4658242835437018, 0.4658242835437018, 0.4658242835437018, 0.4658242835437018, 0.4658242835437018, 0.4658242835437018, 0.4658242835437018, 0.4658242835437018, 0.4658242835437018, 0.4658242835437018, 0.4658242835437018, 0.4658242835437018, 0.4658242835437018, 0.4658242835437018, 0.4658242835437018, 0.4658242835437018, 0.4658242835437018, 0.4658242835437018, 0.4658242835437018, 0.4658242835437018, 0.4658242835437018, 0.4658242835437018, 0.4658242835437018, 0.4658242835437018, 0.4658242835437018, 0.4658242835437018, 0.4658242835437018, 0.4658242835437018, 0.4658242835437018, 0.4658242835437018, 0.4658242835437018, 0.4658242835437018, 0.4658242835437018, 0.4658242835437018, 0.4658242835437018, 0.4658242835437018, 0.4658242835437018, 0.4658242835437018, 0.4658242835437018, 0.4658242835437018, 0.4658242835437018, 0.4658242835437018, 0.4658242835437018, 0.4658242835437018, 0.4658242835437018, 0.4658242835437018, 0.4658242835437018, 0.4658242835437018, 0.4658242835437018, 0.4658242835437018, 0.4658242835437018, 0.4658242835437018, 0.4658242835437018, 0.4658242835437018, 0.4658242835437018, 0.4658242835437018, 0.4658242835437018, 0.4658242835437018, 0.4658242835437018, 0.4658242835437018, 0.4658242835437018, 0.4658242835437018, 0.4658242835437018, 0.4658242835437018, 0.4658242835437018, 0.4658242835437018, 0.4658242835437018, 0.4658242835437018, 0.4658242835437018, 0.4658242835437018, 0.4658242835437018, 0.4658242835437018, 0.4658242835437018, 0.4658242835437018, 0.4658242835437018, 0.4658242835437018, 0.4658242835437018, 0.4658242835437018, 0.4658242835437018, 0.4658242835437018, 0.4658242835437018, 0.4658242835437018, 0.4658242835437018, 0.4658242835437018, 0.4658242835437018, 0.4658242835437018, 0.4658242835437018, 0.4658242835437018, 0.4658242835437018, 0.4658242835437018, 0.4658242835437018, 0.4658242835437018, 0.4658242835437018, 0.4658242835437018, 0.4658242835437018, 0.4658242835437018, 0.4658242835437018, 0.4658242835437018, 0.4658242835437018, 0.4658242835437018, 0.4658242835437018, 0.4658242835437018, 0.4658242835437018, 0.4658242835437018, 0.4658242835437018, 0.4658242835437018, 0.4658242835437018, 0.4658242835437018, 0.4658242835437018, 0.4658242835437018, 0.4658242835437018, 0.4658242835437018, 0.4658242835437018, 0.4658242835437018, 0.4658242835437018, 0.4658242835437018, 0.4658242835437018, 0.4658242835437018, 0.4658242835437018, 0.4658242835437018, 0.4658242835437018, 0.4658242835437018, 0.4658242835437018, 0.4658242835437018, 0.4658242835437018, 0.4658242835437018, 0.4658242835437018, 0.4658242835437018, 0.4658242835437018, 0.4658242835437018, 0.4658242835437018, 0.4658242835437018, 0.4658242835437018, 0.4658242835437018, 0.4658242835437018, 0.4658242835437018, 0.4658242835437018, 0.4658242835437018, 0.4658242835437018, 0.4658242835437018, 0.4658242835437018, 0.4658242835437018, 0.4658242835437018, 0.4658242835437018, 0.4658242835437018, 0.4658242835437018, 0.4658242835437018, 0.4658242835437018, 0.4658242835437018, 0.4658242835437018, 0.4658242835437018, 0.4658242835437018, 0.4658242835437018, 0.4658242835437018, 0.4658242835437018, 0.4658242835437018, 0.4658242835437018, 0.4658242835437018, 0.4658242835437018, 0.4658242835437018, 0.4658242835437018, 0.4658242835437018, 0.4658242835437018, 0.4658242835437018, 0.4658242835437018, 0.4658242835437018, 0.4658242835437018, 0.4658242835437018, 0.4658242835437018, 0.4658242835437018, 0.4658242835437018, 0.4658242835437018, 0.4658242835437018, 0.4658242835437018, 0.4658242835437018, 0.4658242835437018, 0.4658242835437018, 0.4658242835437018, 0.4658242835437018, 0.4658242835437018, 0.4658242835437018, 0.4658242835437018, 0.4658242835437018, 0.4658242835437018, 0.4658242835437018, 0.4658242835437018, 0.4658242835437018, 0.4658242835437018, 0.4658242835437018, 0.4658242835437018, 0.4658242835437018, 0.4658242835437018, 0.4658242835437018, 0.4658242835437018, 0.4658242835437018, 0.4658242835437018, 0.4658242835437018, 0.4658242835437018, 0.4658242835437018, 0.4658242835437018, 0.4658242835437018, 0.4658242835437018, 0.4658242835437018, 0.4658242835437018, 0.4658242835437018, 0.4658242835437018, 0.4658242835437018, 0.4658242835437018, 0.4658242835437018, 0.4658242835437018, 0.4658242835437018, 0.4658242835437018, 0.4658242835437018, 0.4658242835437018, 0.4658242835437018, 0.4658242835437018, 0.4658242835437018, 0.4658242835437018, 0.4658242835437018, 0.4658242835437018, 0.4658242835437018, 0.4658242835437018, 0.4658242835437018, 0.4658242835437018, 0.4658242835437018, 0.4658242835437018, 0.4658242835437018, 0.4658242835437018, 0.4658242835437018, 0.4658242835437018, 0.4658242835437018, 0.4658242835437018, 0.4658242835437018, 0.4658242835437018, 0.4658242835437018, 0.4658242835437018, 0.4658242835437018, 0.4658242835437018, 0.4658242835437018, 0.4658242835437018, 0.4658242835437018, 0.4658242835437018, 0.4658242835437018, 0.4658242835437018, 0.4658242835437018, 0.4658242835437018, 0.4658242835437018, 0.4658242835437018, 0.4658242835437018, 0.4658242835437018, 0.4658242835437018, 0.4658242835437018, 0.4658242835437018, 0.4658242835437018, 0.4658242835437018, 0.4658242835437018, 0.4658242835437018, 0.4658242835437018, 0.4658242835437018, 0.4658242835437018, 0.4658242835437018, 0.4658242835437018, 0.4658242835437018, 0.4658242835437018, 0.4658242835437018, 0.4658242835437018, 0.4658242835437018, 0.4658242835437018, 0.4658242835437018, 0.4658242835437018, 0.4658242835437018, 0.4658242835437018, 0.4658242835437018, 0.4658242835437018, 0.4658242835437018, 0.4658242835437018, 0.4658242835437018, 0.4658242835437018, 0.4658242835437018, 0.4658242835437018, 0.4658242835437018, 0.4658242835437018, 0.4658242835437018, 0.4658242835437018, 0.4658242835437018, 0.4658242835437018, 0.4658242835437018, 0.4658242835437018, 0.4658242835437018, 0.4658242835437018, 0.4658242835437018, 0.4658242835437018, 0.4658242835437018, 0.4658242835437018, 0.4658242835437018, 0.4658242835437018, 0.4658242835437018, 0.4658242835437018, 0.4658242835437018, 0.4658242835437018, 0.4658242835437018, 0.4658242835437018, 0.4658242835437018, 0.4658242835437018, 0.4658242835437018, 0.4658242835437018, 0.4658242835437018, 0.4658242835437018, 0.4658242835437018, 0.4658242835437018, 0.4658242835437018, 0.4658242835437018, 0.4658242835437018, 0.4658242835437018, 0.4658242835437018, 0.4658242835437018, 0.4658242835437018, 0.4658242835437018, 0.4658242835437018, 0.4658242835437018, 0.4658242835437018, 0.4658242835437018, 0.4658242835437018, 0.4658242835437018, 0.4658242835437018, 0.4658242835437018, 0.4658242835437018, 0.4658242835437018, 0.4658242835437018, 0.4658242835437018, 0.4658242835437018, 0.4658242835437018, 0.4658242835437018, 0.4658242835437018, 0.4658242835437018, 0.4658242835437018, 0.4658242835437018, 0.4658242835437018, 0.4658242835437018, 0.4658242835437018, 0.4658242835437018, 0.4658242835437018]\n"
          ],
          "name": "stdout"
        }
      ]
    },
    {
      "cell_type": "code",
      "metadata": {
        "colab": {
          "base_uri": "https://localhost:8080/"
        },
        "id": "XshZ3aKz84Ua",
        "outputId": "c1d2b651-6627-4340-fafe-5dd8741ddc26"
      },
      "source": [
        "np.argmax(y_pred_test,axis=0)"
      ],
      "execution_count": null,
      "outputs": [
        {
          "output_type": "execute_result",
          "data": {
            "text/plain": [
              "array([272, 953, 177, 953, 177])"
            ]
          },
          "metadata": {
            "tags": []
          },
          "execution_count": 21
        }
      ]
    },
    {
      "cell_type": "code",
      "metadata": {
        "id": "l9BA31RRXCg4",
        "colab": {
          "base_uri": "https://localhost:8080/"
        },
        "outputId": "80b92aa6-f395-4984-c547-41c7e60f5b2a"
      },
      "source": [
        "print(y_pred_train[0,4])\n",
        "print(y_pred_train[5000,4])"
      ],
      "execution_count": null,
      "outputs": [
        {
          "output_type": "stream",
          "text": [
            "0.4017415582084245\n",
            "0.4055361378959857\n"
          ],
          "name": "stdout"
        }
      ]
    },
    {
      "cell_type": "code",
      "metadata": {
        "colab": {
          "base_uri": "https://localhost:8080/"
        },
        "id": "4df3olyRy24b",
        "outputId": "2b52b78c-c87f-4c8a-d276-b4e45cb038f2"
      },
      "source": [
        "y_pred_train\n",
        "print(len(y_pred_train))\n",
        "print(len(y_pred_test))"
      ],
      "execution_count": null,
      "outputs": [
        {
          "output_type": "stream",
          "text": [
            "6454\n",
            "1614\n"
          ],
          "name": "stdout"
        }
      ]
    },
    {
      "cell_type": "code",
      "metadata": {
        "id": "mpdbOocbRxsk"
      },
      "source": [
        "fileName_Col = np.concatenate((X_train1['FileName'],X_test1['FileName']), axis=-1)"
      ],
      "execution_count": null,
      "outputs": []
    },
    {
      "cell_type": "code",
      "metadata": {
        "id": "cTHQRPCYmXGV"
      },
      "source": [
        "import sys\n",
        "import numpy\n",
        "numpy.set_printoptions(threshold=sys.maxsize)"
      ],
      "execution_count": null,
      "outputs": []
    },
    {
      "cell_type": "code",
      "metadata": {
        "id": "G2uWpUxvmYyd"
      },
      "source": [
        "product_IDS = np.concatenate((y_train,y_test), axis=-1)"
      ],
      "execution_count": null,
      "outputs": []
    },
    {
      "cell_type": "code",
      "metadata": {
        "id": "LKS85oH5mYRL"
      },
      "source": [
        "pred_array_LogReg = np.concatenate((y_pred_train,y_pred_test), axis=-1)"
      ],
      "execution_count": null,
      "outputs": []
    },
    {
      "cell_type": "code",
      "metadata": {
        "id": "luVC8jYLmgS-"
      },
      "source": [
        "final_dataset_pred = pd.DataFrame({'FileName':fileName_Col, 'ProductID':product_IDS, 'LogReg Predictions':pred_array_LogReg})"
      ],
      "execution_count": null,
      "outputs": []
    },
    {
      "cell_type": "code",
      "metadata": {
        "id": "mBs2Ea77AuKJ",
        "colab": {
          "base_uri": "https://localhost:8080/"
        },
        "outputId": "722dcb45-76ad-4c2d-ed05-8dd5bd213f46"
      },
      "source": [
        "print(final_dataset_pred.head())"
      ],
      "execution_count": null,
      "outputs": [
        {
          "output_type": "stream",
          "text": [
            "           FileName  ProductID  LogReg Predictions\n",
            "0    1500362477.jpg      20003            0.008734\n",
            "1    1501154486.jpg      20004            0.022887\n",
            "2    1502368331.jpg      20003            0.008839\n",
            "3  1500276485_3.jpg      20002            0.006716\n",
            "4    1501494672.jpg      20003            0.016539\n"
          ],
          "name": "stdout"
        }
      ]
    },
    {
      "cell_type": "markdown",
      "metadata": {
        "id": "f623-Rk6uq_g"
      },
      "source": [
        "#DESCISION TREE"
      ]
    },
    {
      "cell_type": "code",
      "metadata": {
        "id": "JGB36buuSydQ",
        "colab": {
          "base_uri": "https://localhost:8080/"
        },
        "outputId": "6c594bb8-a111-48cc-e4e3-53e2ba246a7e"
      },
      "source": [
        "import time\n",
        "start = time.perf_counter()\n",
        "\n",
        "\n",
        "from sklearn.tree import DecisionTreeClassifier\n",
        "Classifier = DecisionTreeClassifier(criterion='gini',random_state=500,max_depth=None,min_samples_leaf=20)\n",
        "history = Classifier.fit(X,y)\n",
        "\n",
        "elapsed = time.perf_counter() - start\n",
        "print('Elapsed %.3f seconds.' % elapsed)"
      ],
      "execution_count": null,
      "outputs": [
        {
          "output_type": "stream",
          "text": [
            "Elapsed 0.033 seconds.\n"
          ],
          "name": "stdout"
        }
      ]
    },
    {
      "cell_type": "code",
      "metadata": {
        "id": "YWFe2UZbcBhH",
        "colab": {
          "base_uri": "https://localhost:8080/"
        },
        "outputId": "65e69a94-e640-4c8b-8bb7-81be4572c608"
      },
      "source": [
        "from sklearn import metrics\n",
        "print (\"Decision Tree Train Accuracy:\", metrics.accuracy_score(y, Classifier.predict(X)))"
      ],
      "execution_count": null,
      "outputs": [
        {
          "output_type": "stream",
          "text": [
            "Decision Tree Train Accuracy: 0.7958601883986118\n"
          ],
          "name": "stdout"
        }
      ]
    },
    {
      "cell_type": "code",
      "metadata": {
        "id": "bgxGnNocfkWh"
      },
      "source": [
        "y_pred_dst=Classifier.predict_proba(X)[:,1]"
      ],
      "execution_count": null,
      "outputs": []
    },
    {
      "cell_type": "code",
      "metadata": {
        "id": "Woo5THva6oh_"
      },
      "source": [
        "df[\"DTC_Prediction\"] = y_pred_dst.tolist()"
      ],
      "execution_count": null,
      "outputs": []
    },
    {
      "cell_type": "code",
      "metadata": {
        "colab": {
          "base_uri": "https://localhost:8080/"
        },
        "id": "jCzOkWHA6olB",
        "outputId": "9ec498bb-5eb2-46f2-d5f9-e36e8189bcc1"
      },
      "source": [
        "df.head"
      ],
      "execution_count": null,
      "outputs": [
        {
          "output_type": "execute_result",
          "data": {
            "text/plain": [
              "<bound method NDFrame.head of       Unnamed: 0  Predicted_Class  ...  Log_Reg Prediction  DTC_Prediction\n",
              "0              0     1.960000e-05  ...            0.022018             0.0\n",
              "1              1     2.250000e-06  ...            0.018175             0.0\n",
              "2              2     7.370000e-08  ...            0.023971             0.0\n",
              "3              3     1.124540e-04  ...            0.020056             0.0\n",
              "4              4     9.020000e-07  ...            0.017171             0.0\n",
              "...          ...              ...  ...                 ...             ...\n",
              "8063        8063     4.070000e-08  ...            0.006688             0.0\n",
              "8064        8064     1.540000e-07  ...            0.023385             0.0\n",
              "8065        8065     3.190000e-06  ...            0.002962             0.0\n",
              "8066        8066     7.088510e-04  ...            0.011960             0.0\n",
              "8067        8067     1.500000e-06  ...            0.008205             0.0\n",
              "\n",
              "[8068 rows x 5 columns]>"
            ]
          },
          "metadata": {
            "tags": []
          },
          "execution_count": 32
        }
      ]
    },
    {
      "cell_type": "code",
      "metadata": {
        "id": "3vbJ5s7h6onG"
      },
      "source": [
        "df.to_csv(\"/content/drive/My Drive/Practicum: Identifying meat cut using Ensemble techniques/MeatCut_Predictions.csv\")"
      ],
      "execution_count": null,
      "outputs": []
    },
    {
      "cell_type": "code",
      "metadata": {
        "id": "xsn5X-eP8mha"
      },
      "source": [
        "df1= pd.read_csv(\"/content/drive/My Drive/Practicum: Identifying meat cut using Ensemble techniques/MeatCut_Predictions.csv\")"
      ],
      "execution_count": null,
      "outputs": []
    }
  ]
}