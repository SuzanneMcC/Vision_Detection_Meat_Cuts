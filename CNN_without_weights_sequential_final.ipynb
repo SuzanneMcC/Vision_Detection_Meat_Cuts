{
 "cells": [
  {
   "cell_type": "code",
   "execution_count": 1,
   "metadata": {},
   "outputs": [
    {
     "name": "stdout",
     "output_type": "stream",
     "text": [
      "Requirement already satisfied: tensorflow in c:\\users\\satya\\anaconda3\\lib\\site-packages (2.3.1)\n",
      "Requirement already satisfied: tensorflow-estimator<2.4.0,>=2.3.0 in c:\\users\\satya\\anaconda3\\lib\\site-packages (from tensorflow) (2.3.0)\n",
      "Requirement already satisfied: absl-py>=0.7.0 in c:\\users\\satya\\anaconda3\\lib\\site-packages (from tensorflow) (0.9.0)\n",
      "Requirement already satisfied: h5py<2.11.0,>=2.10.0 in c:\\users\\satya\\anaconda3\\lib\\site-packages (from tensorflow) (2.10.0)\n",
      "Requirement already satisfied: six>=1.12.0 in c:\\users\\satya\\anaconda3\\lib\\site-packages (from tensorflow) (1.15.0)\n",
      "Requirement already satisfied: termcolor>=1.1.0 in c:\\users\\satya\\anaconda3\\lib\\site-packages (from tensorflow) (1.1.0)\n",
      "Requirement already satisfied: astunparse==1.6.3 in c:\\users\\satya\\anaconda3\\lib\\site-packages (from tensorflow) (1.6.3)\n",
      "Requirement already satisfied: gast==0.3.3 in c:\\users\\satya\\anaconda3\\lib\\site-packages (from tensorflow) (0.3.3)\n",
      "Requirement already satisfied: protobuf>=3.9.2 in c:\\users\\satya\\anaconda3\\lib\\site-packages (from tensorflow) (3.13.0)\n",
      "Requirement already satisfied: grpcio>=1.8.6 in c:\\users\\satya\\anaconda3\\lib\\site-packages (from tensorflow) (1.31.0)\n",
      "Requirement already satisfied: wrapt>=1.11.1 in c:\\users\\satya\\anaconda3\\lib\\site-packages (from tensorflow) (1.12.1)\n",
      "Requirement already satisfied: google-pasta>=0.1.8 in c:\\users\\satya\\anaconda3\\lib\\site-packages (from tensorflow) (0.2.0)\n",
      "Requirement already satisfied: keras-preprocessing<1.2,>=1.1.1 in c:\\users\\satya\\anaconda3\\lib\\site-packages (from tensorflow) (1.1.2)\n",
      "Requirement already satisfied: wheel>=0.26 in c:\\users\\satya\\anaconda3\\lib\\site-packages (from tensorflow) (0.35.1)\n",
      "Requirement already satisfied: tensorboard<3,>=2.3.0 in c:\\users\\satya\\anaconda3\\lib\\site-packages (from tensorflow) (2.3.0)\n",
      "Requirement already satisfied: opt-einsum>=2.3.2 in c:\\users\\satya\\anaconda3\\lib\\site-packages (from tensorflow) (3.3.0)\n",
      "Requirement already satisfied: numpy<1.19.0,>=1.16.0 in c:\\users\\satya\\anaconda3\\lib\\site-packages (from tensorflow) (1.18.5)\n",
      "Requirement already satisfied: setuptools in c:\\users\\satya\\anaconda3\\lib\\site-packages (from protobuf>=3.9.2->tensorflow) (49.6.0.post20200814)\n",
      "Requirement already satisfied: google-auth-oauthlib<0.5,>=0.4.1 in c:\\users\\satya\\anaconda3\\lib\\site-packages (from tensorboard<3,>=2.3.0->tensorflow) (0.4.1)\n",
      "Requirement already satisfied: tensorboard-plugin-wit>=1.6.0 in c:\\users\\satya\\anaconda3\\lib\\site-packages (from tensorboard<3,>=2.3.0->tensorflow) (1.7.0)\n",
      "Requirement already satisfied: markdown>=2.6.8 in c:\\users\\satya\\anaconda3\\lib\\site-packages (from tensorboard<3,>=2.3.0->tensorflow) (3.2.2)\n",
      "Requirement already satisfied: google-auth<2,>=1.6.3 in c:\\users\\satya\\anaconda3\\lib\\site-packages (from tensorboard<3,>=2.3.0->tensorflow) (1.21.1)\n",
      "Requirement already satisfied: requests<3,>=2.21.0 in c:\\users\\satya\\anaconda3\\lib\\site-packages (from tensorboard<3,>=2.3.0->tensorflow) (2.24.0)\n",
      "Requirement already satisfied: werkzeug>=0.11.15 in c:\\users\\satya\\anaconda3\\lib\\site-packages (from tensorboard<3,>=2.3.0->tensorflow) (1.0.1)\n",
      "Requirement already satisfied: requests-oauthlib>=0.7.0 in c:\\users\\satya\\anaconda3\\lib\\site-packages (from google-auth-oauthlib<0.5,>=0.4.1->tensorboard<3,>=2.3.0->tensorflow) (1.3.0)\n",
      "Requirement already satisfied: importlib-metadata; python_version < \"3.8\" in c:\\users\\satya\\anaconda3\\lib\\site-packages (from markdown>=2.6.8->tensorboard<3,>=2.3.0->tensorflow) (1.7.0)\n",
      "Requirement already satisfied: rsa<5,>=3.1.4; python_version >= \"3.5\" in c:\\users\\satya\\anaconda3\\lib\\site-packages (from google-auth<2,>=1.6.3->tensorboard<3,>=2.3.0->tensorflow) (4.6)\n",
      "Requirement already satisfied: cachetools<5.0,>=2.0.0 in c:\\users\\satya\\anaconda3\\lib\\site-packages (from google-auth<2,>=1.6.3->tensorboard<3,>=2.3.0->tensorflow) (4.1.1)\n",
      "Requirement already satisfied: pyasn1-modules>=0.2.1 in c:\\users\\satya\\anaconda3\\lib\\site-packages (from google-auth<2,>=1.6.3->tensorboard<3,>=2.3.0->tensorflow) (0.2.7)\n",
      "Requirement already satisfied: certifi>=2017.4.17 in c:\\users\\satya\\anaconda3\\lib\\site-packages (from requests<3,>=2.21.0->tensorboard<3,>=2.3.0->tensorflow) (2020.6.20)\n",
      "Requirement already satisfied: idna<3,>=2.5 in c:\\users\\satya\\anaconda3\\lib\\site-packages (from requests<3,>=2.21.0->tensorboard<3,>=2.3.0->tensorflow) (2.10)\n",
      "Requirement already satisfied: urllib3!=1.25.0,!=1.25.1,<1.26,>=1.21.1 in c:\\users\\satya\\anaconda3\\lib\\site-packages (from requests<3,>=2.21.0->tensorboard<3,>=2.3.0->tensorflow) (1.25.10)\n",
      "Requirement already satisfied: chardet<4,>=3.0.2 in c:\\users\\satya\\anaconda3\\lib\\site-packages (from requests<3,>=2.21.0->tensorboard<3,>=2.3.0->tensorflow) (3.0.4)\n",
      "Requirement already satisfied: oauthlib>=3.0.0 in c:\\users\\satya\\anaconda3\\lib\\site-packages (from requests-oauthlib>=0.7.0->google-auth-oauthlib<0.5,>=0.4.1->tensorboard<3,>=2.3.0->tensorflow) (3.1.0)\n",
      "Requirement already satisfied: zipp>=0.5 in c:\\users\\satya\\anaconda3\\lib\\site-packages (from importlib-metadata; python_version < \"3.8\"->markdown>=2.6.8->tensorboard<3,>=2.3.0->tensorflow) (3.1.0)\n",
      "Requirement already satisfied: pyasn1>=0.1.3 in c:\\users\\satya\\anaconda3\\lib\\site-packages (from rsa<5,>=3.1.4; python_version >= \"3.5\"->google-auth<2,>=1.6.3->tensorboard<3,>=2.3.0->tensorflow) (0.4.8)\n"
     ]
    }
   ],
   "source": [
    "#installing the current version of tensorflow\n",
    "!pip install tensorflow"
   ]
  },
  {
   "cell_type": "code",
   "execution_count": 2,
   "metadata": {},
   "outputs": [],
   "source": [
    "#import tensorflow and check the version\n",
    "import tensorflow as tf"
   ]
  },
  {
   "cell_type": "code",
   "execution_count": 3,
   "metadata": {},
   "outputs": [
    {
     "name": "stdout",
     "output_type": "stream",
     "text": [
      "2.3.1\n"
     ]
    }
   ],
   "source": [
    "print(tf.__version__)"
   ]
  },
  {
   "cell_type": "code",
   "execution_count": 1,
   "metadata": {},
   "outputs": [],
   "source": [
    "#import important libraries\n",
    "import warnings\n",
    "warnings.filterwarnings(\"ignore\")\n",
    "\n",
    "import os\n",
    "import glob\n",
    "import matplotlib.pyplot as plt\n",
    "# Keras API\n",
    "from tensorflow import keras\n",
    "from tensorflow.keras.models import Sequential\n",
    "#from tensorflow.keras.layers import Dense,Dropout,Flatten\n",
    "from tensorflow.keras.layers import Conv2D,MaxPooling2D,AveragePooling2D,BatchNormalization,Concatenate\n",
    "from tensorflow.keras.preprocessing.image import ImageDataGenerator\n",
    "#from tensorflow.keras.models import Sequential\n",
    "from tensorflow.keras.layers import Input,Dense, Dropout, Activation, Flatten\n",
    "#from tensorflow.keras.layers import Conv2D, MaxPooling2D,Concatenate\n",
    "from tensorflow.keras.callbacks import TensorBoard\n",
    "from tensorflow.keras.utils import to_categorical\n",
    "from tensorflow.math import confusion_matrix \n",
    "import pickle\n",
    "import time\n",
    "import numpy as np\n",
    "from sklearn.model_selection import train_test_split"
   ]
  },
  {
   "cell_type": "code",
   "execution_count": 2,
   "metadata": {
    "scrolled": true
   },
   "outputs": [],
   "source": [
    "#load the dataset from pickled files\n",
    "pickle_in = open(\"X.pickle\",\"rb\")\n",
    "X = pickle.load(pickle_in)\n",
    "\n",
    "pickle_in = open(\"W.pickle\",\"rb\")\n",
    "W = pickle.load(pickle_in)\n",
    "W=np.asarray(W)\n",
    "\n",
    "pickle_in = open(\"Y.pickle\",\"rb\")\n",
    "y = pickle.load(pickle_in)\n",
    "y = to_categorical(y)"
   ]
  },
  {
   "cell_type": "code",
   "execution_count": 3,
   "metadata": {},
   "outputs": [
    {
     "name": "stdout",
     "output_type": "stream",
     "text": [
      "(1657, 64, 64, 1)\n",
      "(1657,)\n",
      "(1657, 5)\n"
     ]
    }
   ],
   "source": [
    "#split into train and test datasets\n",
    "X_train,X_test,W_train,W_test,y_train,y_test=train_test_split(X,W,y,train_size=0.8,test_size=0.2,random_state=123)\n",
    "print(X_test.shape)\n",
    "print(W_test.shape)\n",
    "print(y_test.shape)"
   ]
  },
  {
   "cell_type": "code",
   "execution_count": 4,
   "metadata": {},
   "outputs": [],
   "source": [
    "from tensorflow.keras.utils import plot_model\n",
    "#from keras.layers.merge import concatenate\n",
    "from tensorflow.keras.models import Model\n",
    "#from tensorflow.keras.callbacks import ModelCheckpoint"
   ]
  },
  {
   "cell_type": "code",
   "execution_count": 5,
   "metadata": {},
   "outputs": [
    {
     "name": "stdout",
     "output_type": "stream",
     "text": [
      "Model: \"sequential\"\n",
      "_________________________________________________________________\n",
      "Layer (type)                 Output Shape              Param #   \n",
      "=================================================================\n",
      "conv2d (Conv2D)              (None, 60, 60, 128)       3328      \n",
      "_________________________________________________________________\n",
      "max_pooling2d (MaxPooling2D) (None, 20, 20, 128)       0         \n",
      "_________________________________________________________________\n",
      "conv2d_1 (Conv2D)            (None, 18, 18, 64)        73792     \n",
      "_________________________________________________________________\n",
      "max_pooling2d_1 (MaxPooling2 (None, 9, 9, 64)          0         \n",
      "_________________________________________________________________\n",
      "conv2d_2 (Conv2D)            (None, 7, 7, 64)          36928     \n",
      "_________________________________________________________________\n",
      "max_pooling2d_2 (MaxPooling2 (None, 3, 3, 64)          0         \n",
      "_________________________________________________________________\n",
      "dropout (Dropout)            (None, 3, 3, 64)          0         \n",
      "_________________________________________________________________\n",
      "flatten (Flatten)            (None, 576)               0         \n",
      "_________________________________________________________________\n",
      "dense (Dense)                (None, 64)                36928     \n",
      "_________________________________________________________________\n",
      "dense_1 (Dense)              (None, 16)                1040      \n",
      "_________________________________________________________________\n",
      "dense_2 (Dense)              (None, 5)                 85        \n",
      "=================================================================\n",
      "Total params: 152,101\n",
      "Trainable params: 152,101\n",
      "Non-trainable params: 0\n",
      "_________________________________________________________________\n"
     ]
    },
    {
     "data": {
      "image/png": "[encoded data removed]",
      "text/plain": [
       "<IPython.core.display.Image object>"
      ]
     },
     "execution_count": 5,
     "metadata": {},
     "output_type": "execute_result"
    }
   ],
   "source": [
    "from tensorflow.keras.utils import plot_model\n",
    "visible1 = (64,64,1)\n",
    "model = Sequential()\n",
    "model.add(Conv2D(128, (5, 5),input_shape=visible1,activation='relu'))\n",
    "model.add(MaxPooling2D(pool_size=(3, 3)))\n",
    "#model.add(Dropout(0.3))\n",
    "model.add(Conv2D(64, (3, 3),activation='relu'))\n",
    "model.add(MaxPooling2D(pool_size=(2, 2)))\n",
    "#model.add(Dropout(0.3))\n",
    "model.add(Conv2D(64, (3, 3),activation='relu'))\n",
    "model.add(MaxPooling2D(pool_size=(2, 2))) \n",
    "model.add(Dropout(0.2))\n",
    "model.add(Flatten())\n",
    "model.add(Dense(64,activation='relu'))\n",
    "model.add(Dense(16,activation='relu'))          \n",
    "model.add(Dense(5,activation='softmax'))\n",
    "model.summary()\n",
    "\n",
    "plot_model(model, to_file='convolutional_neural_network.png')"
   ]
  },
  {
   "cell_type": "code",
   "execution_count": 6,
   "metadata": {},
   "outputs": [],
   "source": [
    "model.compile(loss='categorical_crossentropy',\n",
    "              optimizer='adam',\n",
    "              metrics=['accuracy'],\n",
    "             )"
   ]
  },
  {
   "cell_type": "code",
   "execution_count": 7,
   "metadata": {},
   "outputs": [
    {
     "name": "stdout",
     "output_type": "stream",
     "text": [
      "(6626, 5)\n",
      "Epoch 1/20\n",
      "94/94 [==============================] - 24s 253ms/step - loss: 2.0737 - accuracy: 0.5202 - val_loss: 0.8887 - val_accuracy: 0.7376\n",
      "Epoch 2/20\n",
      "94/94 [==============================] - 24s 251ms/step - loss: 0.7163 - accuracy: 0.7640 - val_loss: 0.6230 - val_accuracy: 0.7843\n",
      "Epoch 3/20\n",
      "94/94 [==============================] - 23s 249ms/step - loss: 0.5356 - accuracy: 0.8063 - val_loss: 0.5270 - val_accuracy: 0.8145\n",
      "Epoch 4/20\n",
      "94/94 [==============================] - 24s 251ms/step - loss: 0.4528 - accuracy: 0.8403 - val_loss: 0.4257 - val_accuracy: 0.8748\n",
      "Epoch 5/20\n",
      "94/94 [==============================] - 24s 251ms/step - loss: 0.3692 - accuracy: 0.8731 - val_loss: 0.3888 - val_accuracy: 0.8763\n",
      "Epoch 6/20\n",
      "94/94 [==============================] - 24s 252ms/step - loss: 0.3452 - accuracy: 0.8831 - val_loss: 0.3353 - val_accuracy: 0.9020\n",
      "Epoch 7/20\n",
      "94/94 [==============================] - 24s 250ms/step - loss: 0.3071 - accuracy: 0.8979 - val_loss: 0.3331 - val_accuracy: 0.9080\n",
      "Epoch 8/20\n",
      "94/94 [==============================] - 24s 255ms/step - loss: 0.2671 - accuracy: 0.9168 - val_loss: 0.3234 - val_accuracy: 0.8959\n",
      "Epoch 9/20\n",
      "94/94 [==============================] - 24s 258ms/step - loss: 0.2702 - accuracy: 0.9069 - val_loss: 0.2921 - val_accuracy: 0.9186\n",
      "Epoch 10/20\n",
      "94/94 [==============================] - 25s 261ms/step - loss: 0.2205 - accuracy: 0.9264 - val_loss: 0.2601 - val_accuracy: 0.9170\n",
      "Epoch 11/20\n",
      "94/94 [==============================] - 25s 261ms/step - loss: 0.2255 - accuracy: 0.9255 - val_loss: 0.2499 - val_accuracy: 0.9291\n",
      "Epoch 12/20\n",
      "94/94 [==============================] - 24s 259ms/step - loss: 0.1990 - accuracy: 0.9324 - val_loss: 0.2540 - val_accuracy: 0.9110\n",
      "Epoch 13/20\n",
      "94/94 [==============================] - 24s 260ms/step - loss: 0.1775 - accuracy: 0.9374 - val_loss: 0.2646 - val_accuracy: 0.9170\n",
      "Epoch 14/20\n",
      "94/94 [==============================] - 24s 260ms/step - loss: 0.1657 - accuracy: 0.9413 - val_loss: 0.2724 - val_accuracy: 0.9186\n",
      "Epoch 15/20\n",
      "94/94 [==============================] - 24s 259ms/step - loss: 0.1699 - accuracy: 0.9395 - val_loss: 0.2725 - val_accuracy: 0.9201\n",
      "Epoch 16/20\n",
      "94/94 [==============================] - 25s 261ms/step - loss: 0.1566 - accuracy: 0.9420 - val_loss: 0.2393 - val_accuracy: 0.9276\n",
      "Epoch 17/20\n",
      "94/94 [==============================] - 24s 260ms/step - loss: 0.1350 - accuracy: 0.9527 - val_loss: 0.2560 - val_accuracy: 0.9382\n",
      "Epoch 18/20\n",
      "94/94 [==============================] - 25s 262ms/step - loss: 0.1350 - accuracy: 0.9522 - val_loss: 0.2375 - val_accuracy: 0.9201\n",
      "Epoch 19/20\n",
      "94/94 [==============================] - 24s 260ms/step - loss: 0.1145 - accuracy: 0.9567 - val_loss: 0.2244 - val_accuracy: 0.9291\n",
      "Epoch 20/20\n",
      "94/94 [==============================] - 24s 259ms/step - loss: 0.1099 - accuracy: 0.9596 - val_loss: 0.2193 - val_accuracy: 0.9427\n",
      "Elapsed 488.499 seconds.\n"
     ]
    }
   ],
   "source": [
    "import time\n",
    "start = time.perf_counter()\n",
    "print(y_train.shape)\n",
    "\n",
    "history=model.fit(X_train, y_train,\n",
    "          batch_size=64,\n",
    "          epochs=20,\n",
    "          validation_split=0.1,\n",
    "          callbacks=None,class_weight=None)\n",
    "\n",
    "elapsed = time.perf_counter() - start\n",
    "print('Elapsed %.3f seconds.' % elapsed)"
   ]
  },
  {
   "cell_type": "code",
   "execution_count": 8,
   "metadata": {},
   "outputs": [
    {
     "name": "stdout",
     "output_type": "stream",
     "text": [
      "208/208 [==============================] - 8s 39ms/step - loss: 0.0814 - accuracy: 0.9749\n"
     ]
    }
   ],
   "source": [
    "score = model.evaluate(X_train, y_train, verbose=1)"
   ]
  },
  {
   "cell_type": "code",
   "execution_count": 9,
   "metadata": {},
   "outputs": [
    {
     "name": "stdout",
     "output_type": "stream",
     "text": [
      "[0.0814380943775177, 0.9749471545219421]\n"
     ]
    }
   ],
   "source": [
    "print(score)"
   ]
  },
  {
   "cell_type": "code",
   "execution_count": 10,
   "metadata": {},
   "outputs": [
    {
     "name": "stdout",
     "output_type": "stream",
     "text": [
      "52/52 [==============================] - 2s 35ms/step - loss: 0.2727 - accuracy: 0.9246\n"
     ]
    }
   ],
   "source": [
    "score = model.evaluate(X_test, y_test, verbose=1)"
   ]
  },
  {
   "cell_type": "code",
   "execution_count": 11,
   "metadata": {},
   "outputs": [
    {
     "name": "stdout",
     "output_type": "stream",
     "text": [
      "[0.27270257472991943, 0.9245624542236328]\n"
     ]
    }
   ],
   "source": [
    "print(score)"
   ]
  },
  {
   "cell_type": "code",
   "execution_count": 12,
   "metadata": {},
   "outputs": [
    {
     "name": "stdout",
     "output_type": "stream",
     "text": [
      "[[1.14799082e-06 5.46258505e-08 5.75936519e-06 9.99992967e-01\n",
      "  1.57085481e-07]\n",
      " [1.52939858e-04 7.58123377e-08 7.23148041e-05 5.56191844e-05\n",
      "  9.99719083e-01]\n",
      " [1.29193995e-05 4.47756975e-06 9.35689895e-05 4.08653577e-04\n",
      "  9.99480426e-01]\n",
      " ...\n",
      " [6.31068979e-05 7.06584387e-07 1.41570093e-02 9.85775590e-01\n",
      "  3.59814248e-06]\n",
      " [2.14008775e-08 3.09613579e-09 1.46942645e-08 1.00000000e+00\n",
      "  3.59943075e-10]\n",
      " [2.21330920e-05 1.14106352e-03 3.81873251e-04 1.55251182e-04\n",
      "  9.98299658e-01]]\n",
      "7.581234e-08\n",
      "[3 4 4 ... 3 3 4]\n"
     ]
    }
   ],
   "source": [
    "import tensorflow.math as tfm\n",
    "import numpy as np\n",
    "import pandas as pd\n",
    "from tensorflow.keras.models import load_model\n",
    "#model = load_model(\"/content/gdrive/My Drive/cdrive/Python_projects/vision_paper/models/3-conv-128-layer-dense-1-out-2-softmax-categorical-cross-2-CNN_test_using_functional_api.model\")\n",
    "#model = load_model(\"/content/gdrive/My Drive/cdrive/Python_projects/vision_paper/models/3-conv-128-layer-dense-1-out-2-softmax-categorical-cross-2-CNN_test_using_functional_api_no_rotation.model\")\n",
    "\n",
    "\n",
    "#print(model.summary)\n",
    "#y_pred=model.predict_classes(X_test)\n",
    "print(model.predict(X_test))\n",
    "print(model.predict((X_test))[1][1])\n",
    "y_pred=np.argmax(model.predict((X_test)), axis=-1)\n",
    "\n",
    "\n",
    "#\n",
    "classes=[0,1,2,3,4]\n",
    "#classes=[0,1,2,3,4]\n",
    "a=np.zeros(len(y_test)).astype(int)\n",
    "#b=np.zeros(len(y_train)).astype(int)\n",
    "#print(a)\n",
    "#print(len(y_test))\n",
    "for i in range(0,len(y_test)):\n",
    "    a[i]=np.where(y_test[i]==1)[0][0]\n",
    "print(a)\n",
    "#for j in range(0,len(y_train)):\n",
    "#    b[i]=np.where(y_train[j]==1)[0][0]\n",
    "\n",
    "#print(b)\n",
    "con_mat = tfm.confusion_matrix(labels=a, predictions=y_pred).numpy()\n",
    "con_mat_norm = np.around(con_mat.astype('float') / con_mat.sum(axis=1)[:, np.newaxis], decimals=2)\n",
    "con_mat_df = pd.DataFrame(con_mat_norm,index = classes, columns = classes)\n",
    "\n",
    "#con_mat_1 = tfm.confusion_matrix(labels=b, predictions=y_pred).numpy()\n",
    "#con_mat_norm_1 = np.around(con_mat.astype('float') / con_mat.sum(axis=1)[:, np.newaxis], decimals=2)\n",
    "#con_mat_df_1 = pd.DataFrame(con_mat_norm,index = classes, columns = classes)"
   ]
  },
  {
   "cell_type": "code",
   "execution_count": 13,
   "metadata": {},
   "outputs": [
    {
     "data": {
      "image/png": "[encoded data removed]",
      "text/plain": [
       "<Figure size 576x576 with 2 Axes>"
      ]
     },
     "metadata": {
      "needs_background": "light"
     },
     "output_type": "display_data"
    },
    {
     "name": "stdout",
     "output_type": "stream",
     "text": [
      "[0.27270257472991943, 0.9245624542236328]\n"
     ]
    }
   ],
   "source": [
    "%matplotlib inline\n",
    "import matplotlib.pyplot as plt\n",
    "import seaborn as sns\n",
    "figure = plt.figure(figsize=(8, 8))\n",
    "sns.heatmap(con_mat_df, annot=True,cmap=plt.cm.Blues)\n",
    "plt.tight_layout()\n",
    "plt.ylabel('True label')\n",
    "plt.xlabel('Predicted label')\n",
    "plt.show()\n",
    "score = model.evaluate((X_test), y_test, verbose=0)\n",
    "#score = model.evaluate((X_test), y_test, verbose=0)\n",
    "print(score)"
   ]
  },
  {
   "cell_type": "code",
   "execution_count": 15,
   "metadata": {},
   "outputs": [
    {
     "name": "stdout",
     "output_type": "stream",
     "text": [
      "[4 3 2 ... 3 2 4]\n"
     ]
    }
   ],
   "source": [
    "a=np.zeros(len(y)).astype(int)\n",
    "for i in range(0,len(y)):\n",
    "  a[i]=np.where(y[i]==1)[0][0]\n",
    "print(a)"
   ]
  },
  {
   "cell_type": "code",
   "execution_count": 16,
   "metadata": {},
   "outputs": [
    {
     "data": {
      "text/plain": [
       "0       4\n",
       "1       3\n",
       "2       2\n",
       "3       4\n",
       "4       0\n",
       "       ..\n",
       "8278    3\n",
       "8279    0\n",
       "8280    3\n",
       "8281    2\n",
       "8282    4\n",
       "Length: 8283, dtype: int32"
      ]
     },
     "execution_count": 16,
     "metadata": {},
     "output_type": "execute_result"
    }
   ],
   "source": [
    "import pandas as pd\n",
    "pd.Series(a)"
   ]
  },
  {
   "cell_type": "code",
   "execution_count": 17,
   "metadata": {},
   "outputs": [],
   "source": [
    "from tensorflow.keras.models import load_model\n",
    "model.save('MeatCut.h5')"
   ]
  },
  {
   "cell_type": "code",
   "execution_count": 18,
   "metadata": {},
   "outputs": [],
   "source": [
    "model.save_weights('MeatCut_weights.h5')"
   ]
  },
  {
   "cell_type": "code",
   "execution_count": 19,
   "metadata": {},
   "outputs": [
    {
     "data": {
      "text/plain": [
       "8283"
      ]
     },
     "execution_count": 19,
     "metadata": {},
     "output_type": "execute_result"
    }
   ],
   "source": [
    "len(a)"
   ]
  },
  {
   "cell_type": "code",
   "execution_count": 21,
   "metadata": {},
   "outputs": [],
   "source": [
    "df = pd.read_csv('E:/Meat_Excels/NameandLabels.csv')"
   ]
  },
  {
   "cell_type": "code",
   "execution_count": 22,
   "metadata": {},
   "outputs": [],
   "source": [
    "df['predicted_classes_CNN'] = a"
   ]
  },
  {
   "cell_type": "code",
   "execution_count": 23,
   "metadata": {},
   "outputs": [],
   "source": [
    "df.to_csv('E:/Meat_Excels/MeatLabelsPredicted.csv')"
   ]
  }
 ],
 "metadata": {
  "kernelspec": {
   "display_name": "Python 3",
   "language": "python",
   "name": "python3"
  },
  "language_info": {
   "codemirror_mode": {
    "name": "ipython",
    "version": 3
   },
   "file_extension": ".py",
   "mimetype": "text/x-python",
   "name": "python",
   "nbconvert_exporter": "python",
   "pygments_lexer": "ipython3",
   "version": "3.7.3"
  }
 },
 "nbformat": 4,
 "nbformat_minor": 4
}
