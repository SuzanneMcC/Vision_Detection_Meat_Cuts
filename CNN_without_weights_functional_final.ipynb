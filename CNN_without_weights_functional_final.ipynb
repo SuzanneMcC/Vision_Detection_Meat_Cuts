{
 "cells": [
  {
   "cell_type": "code",
   "execution_count": 1,
   "metadata": {},
   "outputs": [],
   "source": [
    "#import important libraries\n",
    "import warnings\n",
    "warnings.filterwarnings(\"ignore\")\n",
    "\n",
    "import os\n",
    "import glob\n",
    "import matplotlib.pyplot as plt\n",
    "# Keras API\n",
    "from tensorflow import keras\n",
    "from tensorflow.keras.models import Sequential\n",
    "#from tensorflow.keras.layers import Dense,Dropout,Flatten\n",
    "from tensorflow.keras.layers import Conv2D,MaxPooling2D,AveragePooling2D,BatchNormalization,Concatenate\n",
    "from tensorflow.keras.preprocessing.image import ImageDataGenerator\n",
    "#from tensorflow.keras.models import Sequential\n",
    "from tensorflow.keras.layers import Input,Dense, Dropout, Activation, Flatten\n",
    "#from tensorflow.keras.layers import Conv2D, MaxPooling2D,Concatenate\n",
    "from tensorflow.keras.callbacks import TensorBoard\n",
    "from tensorflow.keras.utils import to_categorical\n",
    "from tensorflow.math import confusion_matrix \n",
    "import pickle\n",
    "import time\n",
    "import numpy as np\n",
    "from sklearn.model_selection import train_test_split"
   ]
  },
  {
   "cell_type": "code",
   "execution_count": 2,
   "metadata": {},
   "outputs": [],
   "source": [
    "#load the dataset from pickled files\n",
    "pickle_in = open(\"X.pickle\",\"rb\")\n",
    "X = pickle.load(pickle_in)\n",
    "\n",
    "pickle_in = open(\"W.pickle\",\"rb\")\n",
    "W = pickle.load(pickle_in)\n",
    "W=np.asarray(W)\n",
    "\n",
    "pickle_in = open(\"Y.pickle\",\"rb\")\n",
    "y = pickle.load(pickle_in)\n",
    "y = to_categorical(y)"
   ]
  },
  {
   "cell_type": "code",
   "execution_count": 3,
   "metadata": {},
   "outputs": [
    {
     "name": "stdout",
     "output_type": "stream",
     "text": [
      "(1657, 64, 64, 1)\n",
      "(1657,)\n",
      "(1657, 5)\n"
     ]
    }
   ],
   "source": [
    "#split into train and test datasets\n",
    "X_train,X_test,W_train,W_test,y_train,y_test=train_test_split(X,W,y,train_size=0.8,test_size=0.2,random_state=123)\n",
    "print(X_test.shape)\n",
    "print(W_test.shape)\n",
    "print(y_test.shape)"
   ]
  },
  {
   "cell_type": "code",
   "execution_count": 4,
   "metadata": {},
   "outputs": [],
   "source": [
    "from tensorflow.keras.utils import plot_model\n",
    "#from keras.layers.merge import concatenate\n",
    "from tensorflow.keras.models import Model\n",
    "#from tensorflow.keras.callbacks import ModelCheckpoint"
   ]
  },
  {
   "cell_type": "code",
   "execution_count": 10,
   "metadata": {},
   "outputs": [
    {
     "name": "stdout",
     "output_type": "stream",
     "text": [
      "Model: \"functional_3\"\n",
      "_________________________________________________________________\n",
      "Layer (type)                 Output Shape              Param #   \n",
      "=================================================================\n",
      "input_3 (InputLayer)         [(None, 64, 64, 1)]       0         \n",
      "_________________________________________________________________\n",
      "conv2d_6 (Conv2D)            (None, 60, 60, 128)       3328      \n",
      "_________________________________________________________________\n",
      "max_pooling2d_6 (MaxPooling2 (None, 30, 30, 128)       0         \n",
      "_________________________________________________________________\n",
      "conv2d_7 (Conv2D)            (None, 28, 28, 64)        73792     \n",
      "_________________________________________________________________\n",
      "max_pooling2d_7 (MaxPooling2 (None, 14, 14, 64)        0         \n",
      "_________________________________________________________________\n",
      "conv2d_8 (Conv2D)            (None, 12, 12, 64)        36928     \n",
      "_________________________________________________________________\n",
      "max_pooling2d_8 (MaxPooling2 (None, 6, 6, 64)          0         \n",
      "_________________________________________________________________\n",
      "dropout_6 (Dropout)          (None, 6, 6, 64)          0         \n",
      "_________________________________________________________________\n",
      "flatten_2 (Flatten)          (None, 2304)              0         \n",
      "_________________________________________________________________\n",
      "dense_6 (Dense)              (None, 64)                147520    \n",
      "_________________________________________________________________\n",
      "dense_7 (Dense)              (None, 16)                1040      \n",
      "_________________________________________________________________\n",
      "dense_8 (Dense)              (None, 5)                 85        \n",
      "=================================================================\n",
      "Total params: 262,693\n",
      "Trainable params: 262,693\n",
      "Non-trainable params: 0\n",
      "_________________________________________________________________\n",
      "None\n"
     ]
    },
    {
     "data": {
      "image/png": "[encoded data removed]",
      "text/plain": [
       "<IPython.core.display.Image object>"
      ]
     },
     "execution_count": 10,
     "metadata": {},
     "output_type": "execute_result"
    }
   ],
   "source": [
    "\n",
    "visible1 = Input(shape=(64,64,1))\n",
    "#visible1 = Input(shape=(100,100,1))\n",
    "# first feature extractor\n",
    "\n",
    "conv1 = Conv2D(128, kernel_size=(5,5), activation='relu')(visible1)\n",
    "pool1 = MaxPooling2D(pool_size=(2, 2))(conv1)\n",
    "dropout1=Dropout(0.3)(pool1)\n",
    "\n",
    "conv2 = Conv2D(64, kernel_size=(3,3), activation='relu')(dropout1)\n",
    "#conv2 = Conv2D(64, kernel_size=(3,3), activation='relu')(conv1)\n",
    "pool2 = MaxPooling2D(pool_size=(2, 2))(conv2)\n",
    "dropout2=Dropout(0.3)(pool2)\n",
    "\n",
    "conv3 = Conv2D(64, kernel_size=(3,3), activation='relu')(dropout2)\n",
    "#conv3 = Conv2D(64, kernel_size=(1,1), activation='relu')(conv2)\n",
    "pool3 = MaxPooling2D(pool_size=(2, 2))(conv3)\n",
    "dropout3=Dropout(0.2)(pool3)\n",
    "\n",
    "\n",
    "flat1 = Flatten()(dropout3)\n",
    "\n",
    "hidden1 = Dense(64, activation='relu')(flat1)\n",
    "hidden2 = Dense(16, activation='relu')(hidden1)\n",
    "output = Dense(5, activation='softmax')(hidden2)\n",
    "\n",
    "\n",
    "model = Model(inputs=(visible1), outputs=output)\n",
    "\n",
    "print(model.summary())\n",
    "plot_model(model, to_file='convolutional_neural_network.png')"
   ]
  },
  {
   "cell_type": "code",
   "execution_count": 11,
   "metadata": {},
   "outputs": [],
   "source": [
    "model.compile(loss='categorical_crossentropy',\n",
    "              optimizer='adam',\n",
    "              metrics=['accuracy'],\n",
    "             )"
   ]
  },
  {
   "cell_type": "code",
   "execution_count": 12,
   "metadata": {},
   "outputs": [
    {
     "name": "stdout",
     "output_type": "stream",
     "text": [
      "(6626, 5)\n",
      "Epoch 1/20\n",
      "94/94 [==============================] - 59s 625ms/step - loss: 1.7559 - accuracy: 0.4798 - val_loss: 1.1804 - val_accuracy: 0.5852\n",
      "Epoch 2/20\n",
      "94/94 [==============================] - 37s 389ms/step - loss: 1.1925 - accuracy: 0.5700 - val_loss: 1.1815 - val_accuracy: 0.5551\n",
      "Epoch 3/20\n",
      "94/94 [==============================] - 38s 400ms/step - loss: 0.9264 - accuracy: 0.6933 - val_loss: 0.6473 - val_accuracy: 0.7707\n",
      "Epoch 4/20\n",
      "94/94 [==============================] - 37s 397ms/step - loss: 0.5816 - accuracy: 0.7981 - val_loss: 0.5584 - val_accuracy: 0.7692\n",
      "Epoch 5/20\n",
      "94/94 [==============================] - 37s 393ms/step - loss: 0.4335 - accuracy: 0.8226 - val_loss: 0.6287 - val_accuracy: 0.7888\n",
      "Epoch 6/20\n",
      "94/94 [==============================] - 37s 395ms/step - loss: 0.3568 - accuracy: 0.8570 - val_loss: 0.3564 - val_accuracy: 0.8899\n",
      "Epoch 7/20\n",
      "94/94 [==============================] - 39s 415ms/step - loss: 0.3021 - accuracy: 0.8893 - val_loss: 0.3615 - val_accuracy: 0.9005\n",
      "Epoch 8/20\n",
      "94/94 [==============================] - 41s 433ms/step - loss: 0.2454 - accuracy: 0.9148 - val_loss: 0.3001 - val_accuracy: 0.9170\n",
      "Epoch 9/20\n",
      "94/94 [==============================] - 37s 390ms/step - loss: 0.2051 - accuracy: 0.9237 - val_loss: 0.3663 - val_accuracy: 0.8959\n",
      "Epoch 10/20\n",
      "94/94 [==============================] - 39s 413ms/step - loss: 0.1965 - accuracy: 0.9271 - val_loss: 0.2591 - val_accuracy: 0.9170\n",
      "Epoch 11/20\n",
      "94/94 [==============================] - 41s 433ms/step - loss: 0.1728 - accuracy: 0.9381 - val_loss: 0.2620 - val_accuracy: 0.9231\n",
      "Epoch 12/20\n",
      "94/94 [==============================] - 44s 467ms/step - loss: 0.1457 - accuracy: 0.9455 - val_loss: 0.2501 - val_accuracy: 0.9140\n",
      "Epoch 13/20\n",
      "94/94 [==============================] - 43s 453ms/step - loss: 0.1307 - accuracy: 0.9547 - val_loss: 0.2669 - val_accuracy: 0.9095\n",
      "Epoch 14/20\n",
      "94/94 [==============================] - 40s 425ms/step - loss: 0.1257 - accuracy: 0.9551 - val_loss: 0.2842 - val_accuracy: 0.9201\n",
      "Epoch 15/20\n",
      "94/94 [==============================] - 38s 407ms/step - loss: 0.0990 - accuracy: 0.9629 - val_loss: 0.2803 - val_accuracy: 0.9261\n",
      "Epoch 16/20\n",
      "94/94 [==============================] - 38s 405ms/step - loss: 0.1171 - accuracy: 0.9596 - val_loss: 0.2343 - val_accuracy: 0.9427\n",
      "Epoch 17/20\n",
      "94/94 [==============================] - 38s 407ms/step - loss: 0.0835 - accuracy: 0.9703 - val_loss: 0.2662 - val_accuracy: 0.9231\n",
      "Epoch 18/20\n",
      "94/94 [==============================] - 39s 410ms/step - loss: 0.0823 - accuracy: 0.9700 - val_loss: 0.2532 - val_accuracy: 0.9291\n",
      "Epoch 19/20\n",
      "94/94 [==============================] - 40s 428ms/step - loss: 0.0694 - accuracy: 0.9759 - val_loss: 0.2980 - val_accuracy: 0.9201\n",
      "Epoch 20/20\n",
      "94/94 [==============================] - 50s 528ms/step - loss: 0.0708 - accuracy: 0.9740 - val_loss: 0.3085 - val_accuracy: 0.9291\n",
      "Elapsed 820.249 seconds.\n"
     ]
    }
   ],
   "source": [
    "import time\n",
    "start = time.perf_counter()\n",
    "print(y_train.shape)\n",
    "\n",
    "history = model.fit(X_train, y_train,\n",
    "          batch_size=64,\n",
    "          epochs=20,\n",
    "          validation_split=0.1,\n",
    "          callbacks=None,class_weight=None)\n",
    "\n",
    "elapsed = time.perf_counter() - start\n",
    "print('Elapsed %.3f seconds.' % elapsed)"
   ]
  },
  {
   "cell_type": "code",
   "execution_count": 16,
   "metadata": {},
   "outputs": [
    {
     "name": "stdout",
     "output_type": "stream",
     "text": [
      "208/208 [==============================] - 9s 46ms/step - loss: 0.0744 - accuracy: 0.9774\n"
     ]
    }
   ],
   "source": [
    "score = model.evaluate(X_train, y_train, verbose=1)"
   ]
  },
  {
   "cell_type": "code",
   "execution_count": 17,
   "metadata": {},
   "outputs": [
    {
     "name": "stdout",
     "output_type": "stream",
     "text": [
      "[0.0743958130478859, 0.9773619174957275]\n"
     ]
    }
   ],
   "source": [
    "print(score)"
   ]
  },
  {
   "cell_type": "code",
   "execution_count": 18,
   "metadata": {},
   "outputs": [
    {
     "name": "stdout",
     "output_type": "stream",
     "text": [
      "52/52 [==============================] - 2s 46ms/step - loss: 0.4006 - accuracy: 0.9089\n"
     ]
    }
   ],
   "source": [
    "score = model.evaluate(X_test, y_test, verbose=1)"
   ]
  },
  {
   "cell_type": "code",
   "execution_count": 19,
   "metadata": {},
   "outputs": [
    {
     "name": "stdout",
     "output_type": "stream",
     "text": [
      "[0.40064120292663574, 0.9088714718818665]\n"
     ]
    }
   ],
   "source": [
    "print(score)"
   ]
  },
  {
   "cell_type": "code",
   "execution_count": 20,
   "metadata": {},
   "outputs": [
    {
     "name": "stdout",
     "output_type": "stream",
     "text": [
      "[[1.1416553e-09 2.3283319e-06 4.4978594e-09 9.9999750e-01 8.5314539e-08]\n",
      " [6.5685413e-07 1.3823029e-08 3.7678180e-07 1.4579583e-05 9.9998438e-01]\n",
      " [2.6542031e-07 2.5274046e-06 5.5460276e-07 8.1430763e-08 9.9999654e-01]\n",
      " ...\n",
      " [1.8689647e-08 6.3120892e-06 3.8101620e-04 9.9956101e-01 5.1631414e-05]\n",
      " [2.8563368e-10 7.1201192e-08 1.5894808e-11 9.9999976e-01 1.4226305e-07]\n",
      " [6.9005978e-03 3.2233003e-01 9.5767122e-05 4.1075026e-08 6.7067355e-01]]\n",
      "1.3823029e-08\n",
      "[3 4 4 ... 3 3 4]\n"
     ]
    }
   ],
   "source": [
    "import tensorflow.math as tfm\n",
    "import numpy as np\n",
    "import pandas as pd\n",
    "from tensorflow.keras.models import load_model\n",
    "#model = load_model(\"/content/gdrive/My Drive/cdrive/Python_projects/vision_paper/models/3-conv-128-layer-dense-1-out-2-softmax-categorical-cross-2-CNN_test_using_functional_api.model\")\n",
    "#model = load_model(\"/content/gdrive/My Drive/cdrive/Python_projects/vision_paper/models/3-conv-128-layer-dense-1-out-2-softmax-categorical-cross-2-CNN_test_using_functional_api_no_rotation.model\")\n",
    "\n",
    "\n",
    "#print(model.summary)\n",
    "#y_pred=model.predict_classes(X_test)\n",
    "print(model.predict(X_test))\n",
    "print(model.predict((X_test))[1][1])\n",
    "y_pred=np.argmax(model.predict((X_test)), axis=-1)\n",
    "\n",
    "\n",
    "#\n",
    "classes=[0,1,2,3,4]\n",
    "#classes=[0,1,2,3,4]\n",
    "a=np.zeros(len(y_test)).astype(int)\n",
    "#b=np.zeros(len(y_train)).astype(int)\n",
    "#print(a)\n",
    "#print(len(y_test))\n",
    "for i in range(0,len(y_test)):\n",
    "    a[i]=np.where(y_test[i]==1)[0][0]\n",
    "print(a)\n",
    "#for j in range(0,len(y_train)):\n",
    "#    b[i]=np.where(y_train[j]==1)[0][0]\n",
    "\n",
    "#print(b)\n",
    "con_mat = tfm.confusion_matrix(labels=a, predictions=y_pred).numpy()\n",
    "con_mat_norm = np.around(con_mat.astype('float') / con_mat.sum(axis=1)[:, np.newaxis], decimals=2)\n",
    "con_mat_df = pd.DataFrame(con_mat_norm,index = classes, columns = classes)\n",
    "\n",
    "#con_mat_1 = tfm.confusion_matrix(labels=b, predictions=y_pred).numpy()\n",
    "#con_mat_norm_1 = np.around(con_mat.astype('float') / con_mat.sum(axis=1)[:, np.newaxis], decimals=2)\n",
    "#con_mat_df_1 = pd.DataFrame(con_mat_norm,index = classes, columns = classes)"
   ]
  },
  {
   "cell_type": "code",
   "execution_count": 21,
   "metadata": {},
   "outputs": [
    {
     "data": {
      "image/png": "[encoded data removed]",
      "text/plain": [
       "<Figure size 576x576 with 2 Axes>"
      ]
     },
     "metadata": {
      "needs_background": "light"
     },
     "output_type": "display_data"
    },
    {
     "name": "stdout",
     "output_type": "stream",
     "text": [
      "[0.40064120292663574, 0.9088714718818665]\n"
     ]
    }
   ],
   "source": [
    "%matplotlib inline\n",
    "import matplotlib.pyplot as plt\n",
    "import seaborn as sns\n",
    "figure = plt.figure(figsize=(8, 8))\n",
    "sns.heatmap(con_mat_df, annot=True,cmap=plt.cm.Blues)\n",
    "plt.tight_layout()\n",
    "plt.ylabel('True label')\n",
    "plt.xlabel('Predicted label')\n",
    "plt.show()\n",
    "score = model.evaluate((X_test), y_test, verbose=0)\n",
    "#score = model.evaluate((X_test), y_test, verbose=0)\n",
    "print(score)"
   ]
  },
  {
   "cell_type": "code",
   "execution_count": null,
   "metadata": {},
   "outputs": [],
   "source": []
  }
 ],
 "metadata": {
  "kernelspec": {
   "display_name": "Python 3",
   "language": "python",
   "name": "python3"
  },
  "language_info": {
   "codemirror_mode": {
    "name": "ipython",
    "version": 3
   },
   "file_extension": ".py",
   "mimetype": "text/x-python",
   "name": "python",
   "nbconvert_exporter": "python",
   "pygments_lexer": "ipython3",
   "version": "3.7.3"
  }
 },
 "nbformat": 4,
 "nbformat_minor": 4
}
